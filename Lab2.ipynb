{
 "cells": [
  {
   "cell_type": "code",
   "execution_count": 1,
   "metadata": {
    "collapsed": false
   },
   "outputs": [
    {
     "name": "stdout",
     "output_type": "stream",
     "text": [
      "<class 'numpy.ndarray'>\n"
     ]
    }
   ],
   "source": [
    "import numpy as np\n",
    "\n",
    "a = [29, 22, 16, 20, 16, 18, 28, 20, 32, 22, 23, 26, 10, 25, 25,\n",
    "     29, 29, 19, 12, 26, 18, 20,  9, 24, 20, 19, 26, 23, 11, 26,\n",
    "     30, 23, 30, 18, 20, 13, 17, 24, 28, 26, 21, 21, 26, 24, 36,\n",
    "     23, 24, 25, 20, 23, 17, 11, 22, 19, 19, 25, 29, 23, 16, 25,\n",
    "     15, 18, 17, 19, 21, 12, 24, 30, 33, 22, 15, 18, 26, 22, 19,\n",
    "     25, 23, 21, 22, 22, 25, 16, 25, 19, 17, 30, 13, 25, 19, 24,\n",
    "     17, 24, 16, 23, 15, 22, 22, 19, 20, 19, 33, 14, 17, 21, 16,\n",
    "     24, 13, 20, 19, 17, 13, 27, 25, 25, 19, 22, 22, 22, 23,  9,\n",
    "     11, 22, 24, 18, 19, 18, 31, 16, 18, 24, 14, 23, 26, 25, 19,\n",
    "     23, 24, 21, 26, 25, 18, 16, 30, 16, 24, 13, 14, 18, 22, 22,\n",
    "     28, 18, 21, 27, 31, 23, 23, 27, 21, 21, 22, 34, 24, 20, 24,\n",
    "     21, 32, 16, 18, 15, 22, 15, 15, 22, 18]\n",
    "\n",
    "an = np.array(a)\n",
    "print(type(an))"
   ]
  },
  {
   "cell_type": "code",
   "execution_count": 2,
   "metadata": {
    "collapsed": false
   },
   "outputs": [],
   "source": [
    "d = {}\n",
    "r_elements = list(range(min(a), max(a) + 1))\n",
    "\n",
    "for i in r_elements:\n",
    "    d[i] = a.count(i)"
   ]
  },
  {
   "cell_type": "markdown",
   "metadata": {},
   "source": [
    "Кількість елементів з відповідним значенням"
   ]
  },
  {
   "cell_type": "code",
   "execution_count": 3,
   "metadata": {
    "collapsed": false
   },
   "outputs": [
    {
     "data": {
      "text/plain": [
       "{9: 2,\n",
       " 10: 1,\n",
       " 11: 3,\n",
       " 12: 2,\n",
       " 13: 5,\n",
       " 14: 3,\n",
       " 15: 6,\n",
       " 16: 10,\n",
       " 17: 7,\n",
       " 18: 13,\n",
       " 19: 14,\n",
       " 20: 9,\n",
       " 21: 10,\n",
       " 22: 18,\n",
       " 23: 13,\n",
       " 24: 14,\n",
       " 25: 13,\n",
       " 26: 9,\n",
       " 27: 3,\n",
       " 28: 3,\n",
       " 29: 4,\n",
       " 30: 5,\n",
       " 31: 2,\n",
       " 32: 2,\n",
       " 33: 2,\n",
       " 34: 1,\n",
       " 35: 0,\n",
       " 36: 1}"
      ]
     },
     "execution_count": 3,
     "metadata": {},
     "output_type": "execute_result"
    }
   ],
   "source": [
    "d"
   ]
  },
  {
   "cell_type": "markdown",
   "metadata": {},
   "source": [
    "абсолютні частоти з частковим інтервалом 1"
   ]
  },
  {
   "cell_type": "code",
   "execution_count": 4,
   "metadata": {
    "collapsed": false
   },
   "outputs": [
    {
     "data": {
      "text/plain": [
       "dict_values([2, 1, 3, 2, 5, 3, 6, 10, 7, 13, 14, 9, 10, 18, 13, 14, 13, 9, 3, 3, 4, 5, 2, 2, 2, 1, 0, 1])"
      ]
     },
     "execution_count": 4,
     "metadata": {},
     "output_type": "execute_result"
    }
   ],
   "source": [
    "d.values()"
   ]
  },
  {
   "cell_type": "markdown",
   "metadata": {},
   "source": [
    "абсолютні частоти з частковим інтервалом 2"
   ]
  },
  {
   "cell_type": "code",
   "execution_count": 5,
   "metadata": {
    "collapsed": false
   },
   "outputs": [
    {
     "name": "stdout",
     "output_type": "stream",
     "text": [
      "[2, 3, 5, 6, 7, 14, 10, 13, 13, 3, 4, 2, 2, 0]\n",
      "[1, 2, 3, 10, 13, 9, 18, 14, 9, 3, 5, 2, 1, 1]\n"
     ]
    }
   ],
   "source": [
    "print(list(d.values())[::2])\n",
    "bb = np.array(list(d.values())[::2])\n",
    "print(list(d.values())[1::2])\n",
    "aa = np.array(list(d.values())[1::2])"
   ]
  },
  {
   "cell_type": "code",
   "execution_count": 6,
   "metadata": {
    "collapsed": false
   },
   "outputs": [
    {
     "data": {
      "text/plain": [
       "[3, 5, 8, 16, 20, 23, 28, 27, 22, 6, 9, 4, 3, 1]"
      ]
     },
     "execution_count": 6,
     "metadata": {},
     "output_type": "execute_result"
    }
   ],
   "source": [
    "Ni = []\n",
    "for i in range(len(bb)):\n",
    "    Ni.append(aa[i] + bb[i])\n",
    "Ni"
   ]
  },
  {
   "cell_type": "code",
   "execution_count": 7,
   "metadata": {
    "collapsed": false
   },
   "outputs": [
    {
     "data": {
      "text/plain": [
       "array([ 3,  5,  8, 16, 20, 23, 28, 27, 22,  6,  9,  4,  3,  1])"
      ]
     },
     "execution_count": 7,
     "metadata": {},
     "output_type": "execute_result"
    }
   ],
   "source": [
    "c = aa + bb\n",
    "c"
   ]
  },
  {
   "cell_type": "markdown",
   "metadata": {},
   "source": [
    "NumPy абсолютні частоти з частковим інтервалом 2 "
   ]
  },
  {
   "cell_type": "code",
   "execution_count": 8,
   "metadata": {
    "collapsed": false
   },
   "outputs": [
    {
     "name": "stdout",
     "output_type": "stream",
     "text": [
      "[ 3  5  8 16 20 23 28 27 22  6  9  4  3  1]\n",
      "[ 9 11 13 15 17 19 21 23 25 27 29 31 33 35 37]\n"
     ]
    }
   ],
   "source": [
    "hist, bin_edges = np.histogram(an, bins=list(range(an.min(), an.max() + 2))[::2])\n",
    "print(hist)\n",
    "print(bin_edges)"
   ]
  },
  {
   "cell_type": "markdown",
   "metadata": {},
   "source": [
    "Варіанти"
   ]
  },
  {
   "cell_type": "code",
   "execution_count": 9,
   "metadata": {
    "collapsed": false
   },
   "outputs": [
    {
     "data": {
      "text/plain": [
       "[(9, 11),\n",
       " (11, 13),\n",
       " (13, 15),\n",
       " (15, 17),\n",
       " (17, 19),\n",
       " (19, 21),\n",
       " (21, 23),\n",
       " (23, 25),\n",
       " (25, 27),\n",
       " (27, 29),\n",
       " (29, 31),\n",
       " (31, 33),\n",
       " (33, 35),\n",
       " (35, 37)]"
      ]
     },
     "execution_count": 9,
     "metadata": {},
     "output_type": "execute_result"
    }
   ],
   "source": [
    "sorted_by_second = [(n, min(n+2, an.max() + 1)) for n in range(an.min(), an.max() + 1, 2)]\n",
    "sorted_by_second"
   ]
  },
  {
   "cell_type": "markdown",
   "metadata": {},
   "source": [
    "Відносні частоти"
   ]
  },
  {
   "cell_type": "code",
   "execution_count": 10,
   "metadata": {
    "collapsed": false
   },
   "outputs": [
    {
     "name": "stdout",
     "output_type": "stream",
     "text": [
      "[ 0.01714286  0.02857143  0.04571429  0.09142857  0.11428571  0.13142857\n",
      "  0.16        0.15428571  0.12571429  0.03428571  0.05142857  0.02285714\n",
      "  0.01714286  0.00571429]\n"
     ]
    }
   ],
   "source": [
    "l_rel =[]\n",
    "for i in c:\n",
    "    l_rel.append(i / len(an))\n",
    "l_rel\n",
    "l_rel = np.array(l_rel)\n",
    "print(l_rel)"
   ]
  },
  {
   "cell_type": "markdown",
   "metadata": {},
   "source": [
    "Відносні накопичені частоти"
   ]
  },
  {
   "cell_type": "code",
   "execution_count": 11,
   "metadata": {
    "collapsed": false
   },
   "outputs": [
    {
     "data": {
      "text/plain": [
       "array([ 0.01714286,  0.04571429,  0.09142857,  0.18285714,  0.29714286,\n",
       "        0.42857143,  0.58857143,  0.74285714,  0.86857143,  0.90285714,\n",
       "        0.95428571,  0.97714286,  0.99428571,  1.        ])"
      ]
     },
     "execution_count": 11,
     "metadata": {},
     "output_type": "execute_result"
    }
   ],
   "source": [
    "cumulative_frequencies = np.cumsum(l_rel)\n",
    "cumulative_frequencies"
   ]
  },
  {
   "cell_type": "code",
   "execution_count": 12,
   "metadata": {
    "collapsed": false
   },
   "outputs": [
    {
     "name": "stdout",
     "output_type": "stream",
     "text": [
      "14\n",
      "[ 3  5  8 16 20 23 28 27 22  6  9  4  3  1]\n",
      "14\n",
      "14\n",
      "    Абсолютні частоти  Варіанта  Відносні частоти  Накопичені частоти\n",
      "0                   3   (9, 11)          0.017143            0.017143\n",
      "1                   5  (11, 13)          0.028571            0.045714\n",
      "2                   8  (13, 15)          0.045714            0.091429\n",
      "3                  16  (15, 17)          0.091429            0.182857\n",
      "4                  20  (17, 19)          0.114286            0.297143\n",
      "5                  23  (19, 21)          0.131429            0.428571\n",
      "6                  28  (21, 23)          0.160000            0.588571\n",
      "7                  27  (23, 25)          0.154286            0.742857\n",
      "8                  22  (25, 27)          0.125714            0.868571\n",
      "9                   6  (27, 29)          0.034286            0.902857\n",
      "10                  9  (29, 31)          0.051429            0.954286\n",
      "11                  4  (31, 33)          0.022857            0.977143\n",
      "12                  3  (33, 35)          0.017143            0.994286\n",
      "13                  1  (35, 37)          0.005714            1.000000\n"
     ]
    }
   ],
   "source": [
    "print(len(hist))\n",
    "print(hist)\n",
    "print(len(l_rel))\n",
    "print(len(cumulative_frequencies))\n",
    "import pandas as pd\n",
    "x = pd.DataFrame({'Варіанта': sorted_by_second, 'Абсолютні частоти': hist, 'Відносні частоти': l_rel, \n",
    "                  'Накопичені частоти': cumulative_frequencies})\n",
    "print(x)"
   ]
  },
  {
   "cell_type": "markdown",
   "metadata": {},
   "source": [
    "Сумма елементів списку"
   ]
  },
  {
   "cell_type": "code",
   "execution_count": 13,
   "metadata": {
    "collapsed": false
   },
   "outputs": [
    {
     "data": {
      "text/plain": [
       "3734"
      ]
     },
     "execution_count": 13,
     "metadata": {},
     "output_type": "execute_result"
    }
   ],
   "source": [
    "an.sum()"
   ]
  },
  {
   "cell_type": "code",
   "execution_count": 14,
   "metadata": {
    "collapsed": false
   },
   "outputs": [
    {
     "data": {
      "text/plain": [
       "3734"
      ]
     },
     "execution_count": 14,
     "metadata": {},
     "output_type": "execute_result"
    }
   ],
   "source": [
    "sum(a)"
   ]
  },
  {
   "cell_type": "markdown",
   "metadata": {},
   "source": [
    "Сумма елементів списку піднесених до квадрату"
   ]
  },
  {
   "cell_type": "code",
   "execution_count": 15,
   "metadata": {
    "collapsed": false
   },
   "outputs": [
    {
     "data": {
      "text/plain": [
       "84420"
      ]
     },
     "execution_count": 15,
     "metadata": {},
     "output_type": "execute_result"
    }
   ],
   "source": [
    "np.square(an).sum()"
   ]
  },
  {
   "cell_type": "code",
   "execution_count": 16,
   "metadata": {
    "collapsed": false
   },
   "outputs": [
    {
     "data": {
      "text/plain": [
       "84420"
      ]
     },
     "execution_count": 16,
     "metadata": {},
     "output_type": "execute_result"
    }
   ],
   "source": [
    "sum([i ** 2 for i in a])"
   ]
  },
  {
   "cell_type": "markdown",
   "metadata": {},
   "source": [
    "Серидини інтервалів"
   ]
  },
  {
   "cell_type": "code",
   "execution_count": 17,
   "metadata": {
    "collapsed": false
   },
   "outputs": [
    {
     "data": {
      "text/plain": [
       "[10, 12, 14, 16, 18, 20, 22, 24, 26, 28, 30, 32, 34, 36]"
      ]
     },
     "execution_count": 17,
     "metadata": {},
     "output_type": "execute_result"
    }
   ],
   "source": [
    "list(d.keys())[1::2]"
   ]
  },
  {
   "cell_type": "code",
   "execution_count": 18,
   "metadata": {
    "collapsed": false
   },
   "outputs": [
    {
     "name": "stdout",
     "output_type": "stream",
     "text": [
      "[10, 12, 14, 16, 18, 20, 22, 24, 26, 28, 30, 32, 34, 36]\n",
      "OrderedDict([(10, 3), (12, 5), (14, 8), (16, 16), (18, 20), (20, 23), (22, 28), (24, 27), (26, 22), (28, 6), (30, 9), (32, 4), (34, 3), (36, 1)])\n",
      "[3, 5, 8, 16, 20, 23, 28, 27, 22, 6, 9, 4, 3, 1]\n"
     ]
    }
   ],
   "source": [
    "# Серидини інтервалів from tuple\n",
    "from statistics import mean\n",
    "avereges = []\n",
    "for i in sorted_by_second:\n",
    "    avereges.append(mean(i))\n",
    "print(avereges)\n",
    "\n",
    "import collections\n",
    "avereges_absol = collections.OrderedDict(zip(avereges, Ni))\n",
    "print(avereges_absol)\n",
    "print(list(avereges_absol.values()))"
   ]
  },
  {
   "cell_type": "code",
   "execution_count": 19,
   "metadata": {
    "collapsed": false
   },
   "outputs": [
    {
     "name": "stdout",
     "output_type": "stream",
     "text": [
      "[10, 12, 14, 16, 18, 20, 22, 24, 26, 28, 30, 32, 34, 36]\n"
     ]
    }
   ],
   "source": [
    "# Серидини інтервалів from list\n",
    "lala = []\n",
    "for i in range(1, len(bin_edges)):\n",
    "    lala.append((bin_edges[i] + bin_edges[i - 1]) // 2)\n",
    "print(lala)"
   ]
  },
  {
   "cell_type": "markdown",
   "metadata": {},
   "source": [
    "Варіанта з найбільшою частотою"
   ]
  },
  {
   "cell_type": "code",
   "execution_count": 20,
   "metadata": {
    "collapsed": false
   },
   "outputs": [
    {
     "data": {
      "text/plain": [
       "22"
      ]
     },
     "execution_count": 20,
     "metadata": {},
     "output_type": "execute_result"
    }
   ],
   "source": [
    "greatest_frequency = max(avereges_absol, key=avereges_absol.get)\n",
    "greatest_frequency"
   ]
  },
  {
   "cell_type": "markdown",
   "metadata": {},
   "source": [
    "Ui"
   ]
  },
  {
   "cell_type": "code",
   "execution_count": 21,
   "metadata": {
    "collapsed": false
   },
   "outputs": [
    {
     "name": "stdout",
     "output_type": "stream",
     "text": [
      "[-6, -5, -4, -3, -2, -1, 0, 1, 2, 3, 4, 5, 6, 7]\n"
     ]
    }
   ],
   "source": [
    "Ui = []\n",
    "for i in avereges:\n",
    "    Ui.append(int((1 / 2) * (i - greatest_frequency)))\n",
    "print(Ui)"
   ]
  },
  {
   "cell_type": "markdown",
   "metadata": {},
   "source": [
    "Ni * Ui"
   ]
  },
  {
   "cell_type": "code",
   "execution_count": 22,
   "metadata": {
    "collapsed": false
   },
   "outputs": [
    {
     "name": "stdout",
     "output_type": "stream",
     "text": [
      "[-18 -25 -32 -48 -40 -23   0  27  44  18  36  20  18   7]\n",
      "-16\n"
     ]
    }
   ],
   "source": [
    "Uin = np.array(Ui)\n",
    "Nin = np.array(Ni)\n",
    "Nin_Uin = Nin * Uin\n",
    "print(Nin_Uin)\n",
    "print(Nin_Uin.sum())"
   ]
  },
  {
   "cell_type": "markdown",
   "metadata": {},
   "source": [
    "Ni * Ui^2"
   ]
  },
  {
   "cell_type": "code",
   "execution_count": 23,
   "metadata": {
    "collapsed": false
   },
   "outputs": [
    {
     "name": "stdout",
     "output_type": "stream",
     "text": [
      "[108 125 128 144  80  23   0  27  88  54 144 100 108  49]\n",
      "1178\n"
     ]
    }
   ],
   "source": [
    "Nin_Uin_sq = Nin * np.square(Uin)\n",
    "print(Nin_Uin_sq)\n",
    "print(Nin_Uin_sq.sum())"
   ]
  },
  {
   "cell_type": "markdown",
   "metadata": {},
   "source": [
    "Ni + (Ui + 1)^2"
   ]
  },
  {
   "cell_type": "code",
   "execution_count": 24,
   "metadata": {
    "collapsed": false
   },
   "outputs": [
    {
     "data": {
      "text/plain": [
       "array([ 75,  80,  72,  64,  20,   0,  28, 108, 198,  96, 225, 144, 147,  64])"
      ]
     },
     "execution_count": 24,
     "metadata": {},
     "output_type": "execute_result"
    }
   ],
   "source": [
    "Nin * np.square(Uin + 1)"
   ]
  },
  {
   "cell_type": "code",
   "execution_count": 25,
   "metadata": {
    "collapsed": false
   },
   "outputs": [
    {
     "data": {
      "image/png": "[encoded data removed]",
      "text/plain": [
       "<matplotlib.figure.Figure at 0x7fd5baff5898>"
      ]
     },
     "metadata": {},
     "output_type": "display_data"
    }
   ],
   "source": [
    "import matplotlib.pyplot as plt\n",
    "plt.plot(avereges, Nin)\n",
    "plt.show()"
   ]
  },
  {
   "cell_type": "markdown",
   "metadata": {},
   "source": [
    "Незміщена оцінка дисперсії"
   ]
  },
  {
   "cell_type": "code",
   "execution_count": 26,
   "metadata": {
    "collapsed": false
   },
   "outputs": [
    {
     "name": "stdout",
     "output_type": "stream",
     "text": [
      "27.28223316912972\n",
      "27.28223316912973\n"
     ]
    }
   ],
   "source": [
    "from statistics import variance\n",
    "print(variance((a)))\n",
    "print(np.cov(an))"
   ]
  },
  {
   "cell_type": "markdown",
   "metadata": {},
   "source": [
    "Середнє квадратичне відхилення"
   ]
  },
  {
   "cell_type": "code",
   "execution_count": 27,
   "metadata": {
    "collapsed": false
   },
   "outputs": [
    {
     "name": "stdout",
     "output_type": "stream",
     "text": [
      "5.2082947971363485\n",
      "5.208294797136348\n"
     ]
    }
   ],
   "source": [
    "from statistics import pvariance\n",
    "from math import sqrt\n",
    "print(sqrt(pvariance((a))))\n",
    "print(sqrt(np.var(an)))"
   ]
  },
  {
   "cell_type": "code",
   "execution_count": 31,
   "metadata": {
    "collapsed": false
   },
   "outputs": [
    {
     "data": {
      "image/png": "[encoded data removed]",
      "text/plain": [
       "<matplotlib.figure.Figure at 0x7fd5b64e2cf8>"
      ]
     },
     "metadata": {},
     "output_type": "display_data"
    }
   ],
   "source": [
    "import matplotlib.pyplot as plt \n",
    "plt.plot(avereges, cumulative_frequencies)\n",
    "plt.show()"
   ]
  }
 ],
 "metadata": {
  "anaconda-cloud": {},
  "kernelspec": {
   "display_name": "Python [default]",
   "language": "python",
   "name": "python3"
  },
  "language_info": {
   "codemirror_mode": {
    "name": "ipython",
    "version": 3.0
   },
   "file_extension": ".py",
   "mimetype": "text/x-python",
   "name": "python",
   "nbconvert_exporter": "python",
   "pygments_lexer": "ipython3",
   "version": "3.5.2"
  }
 },
 "nbformat": 4,
 "nbformat_minor": 0
}