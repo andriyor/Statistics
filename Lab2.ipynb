{
 "cells": [
  {
   "cell_type": "code",
   "execution_count": 111,
   "metadata": {},
   "outputs": [
    {
     "name": "stdout",
     "output_type": "stream",
     "text": [
      "175\n"
     ]
    },
    {
     "data": {
      "text/plain": [
       "36"
      ]
     },
     "execution_count": 111,
     "metadata": {},
     "output_type": "execute_result"
    }
   ],
   "source": [
    "import numpy as np\n",
    "\n",
    "a = [29, 22, 16, 20, 16, 18, 28, 20, 32, 22, 23, 26, 10, 25, 25,\n",
    "     29, 29, 19, 12, 26, 18, 20,  9, 24, 20, 19, 26, 23, 11, 26,\n",
    "     30, 23, 30, 18, 20, 13, 17, 24, 28, 26, 21, 21, 26, 24, 36,\n",
    "     23, 24, 25, 20, 23, 17, 11, 22, 19, 19, 25, 29, 23, 16, 25,\n",
    "     15, 18, 17, 19, 21, 12, 24, 30, 33, 22, 15, 18, 26, 22, 19,\n",
    "     25, 23, 21, 22, 22, 25, 16, 25, 19, 17, 30, 13, 25, 19, 24,\n",
    "     17, 24, 16, 23, 15, 22, 22, 19, 20, 19, 33, 14, 17, 21, 16,\n",
    "     24, 13, 20, 19, 17, 13, 27, 25, 25, 19, 22, 22, 22, 23,  9,\n",
    "     11, 22, 24, 18, 19, 18, 31, 16, 18, 24, 14, 23, 26, 25, 19,\n",
    "     23, 24, 21, 26, 25, 18, 16, 30, 16, 24, 13, 14, 18, 22, 22,\n",
    "     28, 18, 21, 27, 31, 23, 23, 27, 21, 21, 22, 34, 24, 20, 24,\n",
    "     21, 32, 16, 18, 15, 22, 15, 15, 22, 18]\n",
    "\n",
    "an = np.array(a)\n",
    "n = an.size\n",
    "print(n)\n",
    "an.max()"
   ]
  },
  {
   "cell_type": "markdown",
   "metadata": {},
   "source": [
    "Кількість елементів з відповідним значенням"
   ]
  },
  {
   "cell_type": "code",
   "execution_count": 2,
   "metadata": {},
   "outputs": [
    {
     "data": {
      "text/plain": [
       "{9: 2,\n",
       " 10: 1,\n",
       " 11: 3,\n",
       " 12: 2,\n",
       " 13: 5,\n",
       " 14: 3,\n",
       " 15: 6,\n",
       " 16: 10,\n",
       " 17: 7,\n",
       " 18: 13,\n",
       " 19: 14,\n",
       " 20: 9,\n",
       " 21: 10,\n",
       " 22: 18,\n",
       " 23: 13,\n",
       " 24: 14,\n",
       " 25: 13,\n",
       " 26: 9,\n",
       " 27: 3,\n",
       " 28: 3,\n",
       " 29: 4,\n",
       " 30: 5,\n",
       " 31: 2,\n",
       " 32: 2,\n",
       " 33: 2,\n",
       " 34: 1,\n",
       " 35: 0,\n",
       " 36: 1}"
      ]
     },
     "execution_count": 2,
     "metadata": {},
     "output_type": "execute_result"
    }
   ],
   "source": [
    "d = {}\n",
    "r_elements = list(range(min(a), max(a) + 1))\n",
    "\n",
    "for i in r_elements:\n",
    "    d[i] = a.count(i)\n",
    "d"
   ]
  },
  {
   "cell_type": "markdown",
   "metadata": {},
   "source": [
    "абсолютні частоти з частковим інтервалом 1"
   ]
  },
  {
   "cell_type": "code",
   "execution_count": 3,
   "metadata": {},
   "outputs": [
    {
     "data": {
      "text/plain": [
       "dict_values([2, 1, 3, 2, 5, 3, 6, 10, 7, 13, 14, 9, 10, 18, 13, 14, 13, 9, 3, 3, 4, 5, 2, 2, 2, 1, 0, 1])"
      ]
     },
     "execution_count": 3,
     "metadata": {},
     "output_type": "execute_result"
    }
   ],
   "source": [
    "d.values()"
   ]
  },
  {
   "cell_type": "markdown",
   "metadata": {},
   "source": [
    "абсолютні частоти з частковим інтервалом 2"
   ]
  },
  {
   "cell_type": "code",
   "execution_count": 4,
   "metadata": {},
   "outputs": [
    {
     "name": "stdout",
     "output_type": "stream",
     "text": [
      "[2, 3, 5, 6, 7, 14, 10, 13, 13, 3, 4, 2, 2, 0]\n",
      "[1, 2, 3, 10, 13, 9, 18, 14, 9, 3, 5, 2, 1, 1]\n"
     ]
    }
   ],
   "source": [
    "print(list(d.values())[::2])\n",
    "bb = np.array(list(d.values())[::2])\n",
    "print(list(d.values())[1::2])\n",
    "aa = np.array(list(d.values())[1::2])"
   ]
  },
  {
   "cell_type": "code",
   "execution_count": 5,
   "metadata": {},
   "outputs": [
    {
     "data": {
      "text/plain": [
       "[3, 5, 8, 16, 20, 23, 28, 27, 22, 6, 9, 4, 3, 1]"
      ]
     },
     "execution_count": 5,
     "metadata": {},
     "output_type": "execute_result"
    }
   ],
   "source": [
    "Ni = []\n",
    "for i in range(len(bb)):\n",
    "    Ni.append(aa[i] + bb[i])\n",
    "Ni"
   ]
  },
  {
   "cell_type": "code",
   "execution_count": 6,
   "metadata": {},
   "outputs": [
    {
     "data": {
      "text/plain": [
       "array([ 3,  5,  8, 16, 20, 23, 28, 27, 22,  6,  9,  4,  3,  1])"
      ]
     },
     "execution_count": 6,
     "metadata": {},
     "output_type": "execute_result"
    }
   ],
   "source": [
    "c = aa + bb\n",
    "c"
   ]
  },
  {
   "cell_type": "markdown",
   "metadata": {},
   "source": [
    "$n_i$ Абсолютні частоти з частковим інтервалом 2 "
   ]
  },
  {
   "cell_type": "code",
   "execution_count": 19,
   "metadata": {},
   "outputs": [
    {
     "data": {
      "text/plain": [
       "[3, 5, 8, 16, 20, 23, 28, 27, 22, 6, 9, 4, 3, 1]"
      ]
     },
     "execution_count": 19,
     "metadata": {},
     "output_type": "execute_result"
    }
   ],
   "source": [
    "import collections\n",
    "avereges_absol = collections.OrderedDict(zip(avereges, Ni))\n",
    "ni = list(avereges_absol.values())\n",
    "ni"
   ]
  },
  {
   "cell_type": "code",
   "execution_count": 7,
   "metadata": {},
   "outputs": [
    {
     "name": "stdout",
     "output_type": "stream",
     "text": [
      "[ 3  5  8 16 20 23 28 27 22  6  9  4  3  1]\n",
      "[ 9 11 13 15 17 19 21 23 25 27 29 31 33 35 37]\n"
     ]
    }
   ],
   "source": [
    "hist, bin_edges = np.histogram(an, bins=list(range(an.min(), an.max() + 2))[::2])\n",
    "print(hist)\n",
    "print(bin_edges)"
   ]
  },
  {
   "cell_type": "markdown",
   "metadata": {},
   "source": [
    "Варіанти"
   ]
  },
  {
   "cell_type": "code",
   "execution_count": 8,
   "metadata": {},
   "outputs": [
    {
     "data": {
      "text/plain": [
       "[(9, 11),\n",
       " (11, 13),\n",
       " (13, 15),\n",
       " (15, 17),\n",
       " (17, 19),\n",
       " (19, 21),\n",
       " (21, 23),\n",
       " (23, 25),\n",
       " (25, 27),\n",
       " (27, 29),\n",
       " (29, 31),\n",
       " (31, 33),\n",
       " (33, 35),\n",
       " (35, 37)]"
      ]
     },
     "execution_count": 8,
     "metadata": {},
     "output_type": "execute_result"
    }
   ],
   "source": [
    "sorted_by_second = [(n, min(n+2, an.max() + 1)) for n in range(an.min(), an.max() + 1, 2)]\n",
    "sorted_by_second"
   ]
  },
  {
   "cell_type": "markdown",
   "metadata": {},
   "source": [
    "Відносні частоти"
   ]
  },
  {
   "cell_type": "code",
   "execution_count": 9,
   "metadata": {},
   "outputs": [
    {
     "data": {
      "text/plain": [
       "array([ 0.01714286,  0.02857143,  0.04571429,  0.09142857,  0.11428571,\n",
       "        0.13142857,  0.16      ,  0.15428571,  0.12571429,  0.03428571,\n",
       "        0.05142857,  0.02285714,  0.01714286,  0.00571429])"
      ]
     },
     "execution_count": 9,
     "metadata": {},
     "output_type": "execute_result"
    }
   ],
   "source": [
    "relative_frequencies =[]\n",
    "for i in c:\n",
    "    relative_frequencies.append(i / len(an))\n",
    "relative_frequencies = np.array(relative_frequencies)\n",
    "relative_frequencies"
   ]
  },
  {
   "cell_type": "markdown",
   "metadata": {},
   "source": [
    "Відносні накопичені частоти"
   ]
  },
  {
   "cell_type": "code",
   "execution_count": 10,
   "metadata": {},
   "outputs": [
    {
     "data": {
      "text/plain": [
       "array([ 0.01714286,  0.04571429,  0.09142857,  0.18285714,  0.29714286,\n",
       "        0.42857143,  0.58857143,  0.74285714,  0.86857143,  0.90285714,\n",
       "        0.95428571,  0.97714286,  0.99428571,  1.        ])"
      ]
     },
     "execution_count": 10,
     "metadata": {},
     "output_type": "execute_result"
    }
   ],
   "source": [
    "cumulative_frequencies = np.cumsum(relative_frequencies)\n",
    "cumulative_frequencies"
   ]
  },
  {
   "cell_type": "code",
   "execution_count": 32,
   "metadata": {},
   "outputs": [
    {
     "name": "stdout",
     "output_type": "stream",
     "text": [
      "14\n",
      "[ 3  5  8 16 20 23 28 27 22  6  9  4  3  1]\n",
      "14\n",
      "14\n"
     ]
    }
   ],
   "source": [
    "print(len(hist))\n",
    "print(hist)\n",
    "print(len(relative_frequencies))\n",
    "print(len(cumulative_frequencies))"
   ]
  },
  {
   "cell_type": "markdown",
   "metadata": {},
   "source": [
    "Складемо другу статистичну таблицю"
   ]
  },
  {
   "cell_type": "code",
   "execution_count": 33,
   "metadata": {},
   "outputs": [
    {
     "data": {
      "text/html": [
       "<div>\n",
       "<table border=\"1\" class=\"dataframe\">\n",
       "  <thead>\n",
       "    <tr style=\"text-align: right;\">\n",
       "      <th></th>\n",
       "      <th>Абсолютні частоти</th>\n",
       "      <th>Варіанта</th>\n",
       "      <th>Відносні накопичені частоти</th>\n",
       "      <th>Відносні частоти</th>\n",
       "    </tr>\n",
       "  </thead>\n",
       "  <tbody>\n",
       "    <tr>\n",
       "      <th>0</th>\n",
       "      <td>3</td>\n",
       "      <td>(9, 11)</td>\n",
       "      <td>0.017143</td>\n",
       "      <td>0.017143</td>\n",
       "    </tr>\n",
       "    <tr>\n",
       "      <th>1</th>\n",
       "      <td>5</td>\n",
       "      <td>(11, 13)</td>\n",
       "      <td>0.045714</td>\n",
       "      <td>0.028571</td>\n",
       "    </tr>\n",
       "    <tr>\n",
       "      <th>2</th>\n",
       "      <td>8</td>\n",
       "      <td>(13, 15)</td>\n",
       "      <td>0.091429</td>\n",
       "      <td>0.045714</td>\n",
       "    </tr>\n",
       "    <tr>\n",
       "      <th>3</th>\n",
       "      <td>16</td>\n",
       "      <td>(15, 17)</td>\n",
       "      <td>0.182857</td>\n",
       "      <td>0.091429</td>\n",
       "    </tr>\n",
       "    <tr>\n",
       "      <th>4</th>\n",
       "      <td>20</td>\n",
       "      <td>(17, 19)</td>\n",
       "      <td>0.297143</td>\n",
       "      <td>0.114286</td>\n",
       "    </tr>\n",
       "    <tr>\n",
       "      <th>5</th>\n",
       "      <td>23</td>\n",
       "      <td>(19, 21)</td>\n",
       "      <td>0.428571</td>\n",
       "      <td>0.131429</td>\n",
       "    </tr>\n",
       "    <tr>\n",
       "      <th>6</th>\n",
       "      <td>28</td>\n",
       "      <td>(21, 23)</td>\n",
       "      <td>0.588571</td>\n",
       "      <td>0.160000</td>\n",
       "    </tr>\n",
       "    <tr>\n",
       "      <th>7</th>\n",
       "      <td>27</td>\n",
       "      <td>(23, 25)</td>\n",
       "      <td>0.742857</td>\n",
       "      <td>0.154286</td>\n",
       "    </tr>\n",
       "    <tr>\n",
       "      <th>8</th>\n",
       "      <td>22</td>\n",
       "      <td>(25, 27)</td>\n",
       "      <td>0.868571</td>\n",
       "      <td>0.125714</td>\n",
       "    </tr>\n",
       "    <tr>\n",
       "      <th>9</th>\n",
       "      <td>6</td>\n",
       "      <td>(27, 29)</td>\n",
       "      <td>0.902857</td>\n",
       "      <td>0.034286</td>\n",
       "    </tr>\n",
       "    <tr>\n",
       "      <th>10</th>\n",
       "      <td>9</td>\n",
       "      <td>(29, 31)</td>\n",
       "      <td>0.954286</td>\n",
       "      <td>0.051429</td>\n",
       "    </tr>\n",
       "    <tr>\n",
       "      <th>11</th>\n",
       "      <td>4</td>\n",
       "      <td>(31, 33)</td>\n",
       "      <td>0.977143</td>\n",
       "      <td>0.022857</td>\n",
       "    </tr>\n",
       "    <tr>\n",
       "      <th>12</th>\n",
       "      <td>3</td>\n",
       "      <td>(33, 35)</td>\n",
       "      <td>0.994286</td>\n",
       "      <td>0.017143</td>\n",
       "    </tr>\n",
       "    <tr>\n",
       "      <th>13</th>\n",
       "      <td>1</td>\n",
       "      <td>(35, 37)</td>\n",
       "      <td>1.000000</td>\n",
       "      <td>0.005714</td>\n",
       "    </tr>\n",
       "  </tbody>\n",
       "</table>\n",
       "</div>"
      ],
      "text/plain": [
       "    Абсолютні частоти  Варіанта  Відносні накопичені частоти  Відносні частоти\n",
       "0                   3   (9, 11)                     0.017143          0.017143\n",
       "1                   5  (11, 13)                     0.045714          0.028571\n",
       "2                   8  (13, 15)                     0.091429          0.045714\n",
       "3                  16  (15, 17)                     0.182857          0.091429\n",
       "4                  20  (17, 19)                     0.297143          0.114286\n",
       "5                  23  (19, 21)                     0.428571          0.131429\n",
       "6                  28  (21, 23)                     0.588571          0.160000\n",
       "7                  27  (23, 25)                     0.742857          0.154286\n",
       "8                  22  (25, 27)                     0.868571          0.125714\n",
       "9                   6  (27, 29)                     0.902857          0.034286\n",
       "10                  9  (29, 31)                     0.954286          0.051429\n",
       "11                  4  (31, 33)                     0.977143          0.022857\n",
       "12                  3  (33, 35)                     0.994286          0.017143\n",
       "13                  1  (35, 37)                     1.000000          0.005714"
      ]
     },
     "execution_count": 33,
     "metadata": {},
     "output_type": "execute_result"
    }
   ],
   "source": [
    "import pandas as pd\n",
    "x = pd.DataFrame({'Варіанта': sorted_by_second, 'Абсолютні частоти': hist, \n",
    "                  'Відносні частоти': relative_frequencies, \n",
    "                  'Відносні накопичені частоти': cumulative_frequencies})\n",
    "x"
   ]
  },
  {
   "cell_type": "markdown",
   "metadata": {},
   "source": [
    "Сумма елементів вибірки"
   ]
  },
  {
   "cell_type": "code",
   "execution_count": 12,
   "metadata": {},
   "outputs": [
    {
     "data": {
      "text/plain": [
       "3734"
      ]
     },
     "execution_count": 12,
     "metadata": {},
     "output_type": "execute_result"
    }
   ],
   "source": [
    "an.sum()"
   ]
  },
  {
   "cell_type": "code",
   "execution_count": 13,
   "metadata": {},
   "outputs": [
    {
     "data": {
      "text/plain": [
       "3734"
      ]
     },
     "execution_count": 13,
     "metadata": {},
     "output_type": "execute_result"
    }
   ],
   "source": [
    "sum(a)"
   ]
  },
  {
   "cell_type": "markdown",
   "metadata": {},
   "source": [
    "Сумма елементів вибірки піднесених до квадрату"
   ]
  },
  {
   "cell_type": "code",
   "execution_count": 14,
   "metadata": {},
   "outputs": [
    {
     "data": {
      "text/plain": [
       "84420"
      ]
     },
     "execution_count": 14,
     "metadata": {},
     "output_type": "execute_result"
    }
   ],
   "source": [
    "np.square(an).sum()"
   ]
  },
  {
   "cell_type": "code",
   "execution_count": 15,
   "metadata": {},
   "outputs": [
    {
     "data": {
      "text/plain": [
       "84420"
      ]
     },
     "execution_count": 15,
     "metadata": {},
     "output_type": "execute_result"
    }
   ],
   "source": [
    "sum([i ** 2 for i in a])"
   ]
  },
  {
   "cell_type": "markdown",
   "metadata": {},
   "source": [
    "$\\widetilde{x_i} - Серидини \\ інтервалів$"
   ]
  },
  {
   "cell_type": "code",
   "execution_count": 16,
   "metadata": {},
   "outputs": [
    {
     "data": {
      "text/latex": [
       "$$\\widetilde{x_i} - Серидини \\ інтервалів$$"
      ],
      "text/plain": [
       "<IPython.core.display.Math object>"
      ]
     },
     "metadata": {},
     "output_type": "execute_result"
    }
   ],
   "source": [
    "from IPython.display import display, Math, Latex\n",
    "display(Math(r'\\widetilde{x_i} - Серидини \\ інтервалів'))"
   ]
  },
  {
   "cell_type": "code",
   "execution_count": 17,
   "metadata": {},
   "outputs": [
    {
     "data": {
      "text/plain": [
       "[10, 12, 14, 16, 18, 20, 22, 24, 26, 28, 30, 32, 34, 36]"
      ]
     },
     "execution_count": 17,
     "metadata": {},
     "output_type": "execute_result"
    }
   ],
   "source": [
    "xi = list(d.keys())[1::2]\n",
    "xi"
   ]
  },
  {
   "cell_type": "code",
   "execution_count": 18,
   "metadata": {},
   "outputs": [
    {
     "data": {
      "text/plain": [
       "[10, 12, 14, 16, 18, 20, 22, 24, 26, 28, 30, 32, 34, 36]"
      ]
     },
     "execution_count": 18,
     "metadata": {},
     "output_type": "execute_result"
    }
   ],
   "source": [
    "# Серидини інтервалів from tuple\n",
    "from statistics import mean\n",
    "avereges = []\n",
    "for i in sorted_by_second:\n",
    "    avereges.append(mean(i))\n",
    "avereges"
   ]
  },
  {
   "cell_type": "code",
   "execution_count": 20,
   "metadata": {},
   "outputs": [
    {
     "name": "stdout",
     "output_type": "stream",
     "text": [
      "[10, 12, 14, 16, 18, 20, 22, 24, 26, 28, 30, 32, 34, 36]\n"
     ]
    }
   ],
   "source": [
    "# Серидини інтервалів from list\n",
    "lala = []\n",
    "for i in range(1, len(bin_edges)):\n",
    "    lala.append((bin_edges[i] + bin_edges[i - 1]) // 2)\n",
    "print(lala)"
   ]
  },
  {
   "cell_type": "markdown",
   "metadata": {},
   "source": [
    "C - варіанта з найбільшою частотою"
   ]
  },
  {
   "cell_type": "code",
   "execution_count": 21,
   "metadata": {},
   "outputs": [
    {
     "data": {
      "text/plain": [
       "22"
      ]
     },
     "execution_count": 21,
     "metadata": {},
     "output_type": "execute_result"
    }
   ],
   "source": [
    "greatest_frequency = max(avereges_absol, key=avereges_absol.get)\n",
    "greatest_frequency"
   ]
  },
  {
   "cell_type": "markdown",
   "metadata": {},
   "source": [
    "$u_i$"
   ]
  },
  {
   "cell_type": "code",
   "execution_count": 22,
   "metadata": {},
   "outputs": [
    {
     "data": {
      "text/plain": [
       "[-6, -5, -4, -3, -2, -1, 0, 1, 2, 3, 4, 5, 6, 7]"
      ]
     },
     "execution_count": 22,
     "metadata": {},
     "output_type": "execute_result"
    }
   ],
   "source": [
    "Ui = []\n",
    "for i in avereges:\n",
    "    Ui.append(int((1 / 2) * (i - greatest_frequency)))\n",
    "Ui"
   ]
  },
  {
   "cell_type": "markdown",
   "metadata": {},
   "source": [
    "$n_i * u_i$"
   ]
  },
  {
   "cell_type": "code",
   "execution_count": 23,
   "metadata": {},
   "outputs": [
    {
     "name": "stdout",
     "output_type": "stream",
     "text": [
      "[-18 -25 -32 -48 -40 -23   0  27  44  18  36  20  18   7]\n",
      "-16\n"
     ]
    }
   ],
   "source": [
    "Uin = np.array(Ui)\n",
    "Nin = np.array(Ni)\n",
    "Nin_Uin = Nin * Uin\n",
    "print(Nin_Uin)\n",
    "print(Nin_Uin.sum())"
   ]
  },
  {
   "cell_type": "markdown",
   "metadata": {},
   "source": [
    "$n_i * u_i^2$"
   ]
  },
  {
   "cell_type": "code",
   "execution_count": 24,
   "metadata": {},
   "outputs": [
    {
     "name": "stdout",
     "output_type": "stream",
     "text": [
      "[108 125 128 144  80  23   0  27  88  54 144 100 108  49]\n",
      "1178\n"
     ]
    }
   ],
   "source": [
    "Nin_Uin_sq = Nin * np.square(Uin)\n",
    "print(Nin_Uin_sq)\n",
    "print(Nin_Uin_sq.sum())"
   ]
  },
  {
   "cell_type": "markdown",
   "metadata": {},
   "source": [
    "$n_i * (u_i + 1)^2$"
   ]
  },
  {
   "cell_type": "code",
   "execution_count": 25,
   "metadata": {},
   "outputs": [
    {
     "data": {
      "text/plain": [
       "array([ 75,  80,  72,  64,  20,   0,  28, 108, 198,  96, 225, 144, 147,  64])"
      ]
     },
     "execution_count": 25,
     "metadata": {},
     "output_type": "execute_result"
    }
   ],
   "source": [
    "nnn = Nin * np.square(Uin + 1)\n",
    "nnn"
   ]
  },
  {
   "cell_type": "code",
   "execution_count": 101,
   "metadata": {},
   "outputs": [
    {
     "data": {
      "text/html": [
       "<div>\n",
       "<table border=\"1\" class=\"dataframe\">\n",
       "  <thead>\n",
       "    <tr style=\"text-align: right;\">\n",
       "      <th></th>\n",
       "      <th>$n_i * u_i^2$</th>\n",
       "      <th>$n_i$</th>\n",
       "      <th>$n_i*(u_i+1)^2$</th>\n",
       "      <th>$u_i$</th>\n",
       "      <th>$x_i$</th>\n",
       "      <th>i</th>\n",
       "    </tr>\n",
       "  </thead>\n",
       "  <tbody>\n",
       "    <tr>\n",
       "      <th>0</th>\n",
       "      <td>108</td>\n",
       "      <td>3</td>\n",
       "      <td>75</td>\n",
       "      <td>-6</td>\n",
       "      <td>10</td>\n",
       "      <td>1</td>\n",
       "    </tr>\n",
       "    <tr>\n",
       "      <th>1</th>\n",
       "      <td>125</td>\n",
       "      <td>5</td>\n",
       "      <td>80</td>\n",
       "      <td>-5</td>\n",
       "      <td>12</td>\n",
       "      <td>2</td>\n",
       "    </tr>\n",
       "    <tr>\n",
       "      <th>2</th>\n",
       "      <td>128</td>\n",
       "      <td>8</td>\n",
       "      <td>72</td>\n",
       "      <td>-4</td>\n",
       "      <td>14</td>\n",
       "      <td>3</td>\n",
       "    </tr>\n",
       "    <tr>\n",
       "      <th>3</th>\n",
       "      <td>144</td>\n",
       "      <td>16</td>\n",
       "      <td>64</td>\n",
       "      <td>-3</td>\n",
       "      <td>16</td>\n",
       "      <td>4</td>\n",
       "    </tr>\n",
       "    <tr>\n",
       "      <th>4</th>\n",
       "      <td>80</td>\n",
       "      <td>20</td>\n",
       "      <td>20</td>\n",
       "      <td>-2</td>\n",
       "      <td>18</td>\n",
       "      <td>5</td>\n",
       "    </tr>\n",
       "    <tr>\n",
       "      <th>5</th>\n",
       "      <td>23</td>\n",
       "      <td>23</td>\n",
       "      <td>0</td>\n",
       "      <td>-1</td>\n",
       "      <td>20</td>\n",
       "      <td>6</td>\n",
       "    </tr>\n",
       "    <tr>\n",
       "      <th>6</th>\n",
       "      <td>0</td>\n",
       "      <td>28</td>\n",
       "      <td>28</td>\n",
       "      <td>0</td>\n",
       "      <td>22</td>\n",
       "      <td>7</td>\n",
       "    </tr>\n",
       "    <tr>\n",
       "      <th>7</th>\n",
       "      <td>27</td>\n",
       "      <td>27</td>\n",
       "      <td>108</td>\n",
       "      <td>1</td>\n",
       "      <td>24</td>\n",
       "      <td>8</td>\n",
       "    </tr>\n",
       "    <tr>\n",
       "      <th>8</th>\n",
       "      <td>88</td>\n",
       "      <td>22</td>\n",
       "      <td>198</td>\n",
       "      <td>2</td>\n",
       "      <td>26</td>\n",
       "      <td>9</td>\n",
       "    </tr>\n",
       "    <tr>\n",
       "      <th>9</th>\n",
       "      <td>54</td>\n",
       "      <td>6</td>\n",
       "      <td>96</td>\n",
       "      <td>3</td>\n",
       "      <td>28</td>\n",
       "      <td>10</td>\n",
       "    </tr>\n",
       "    <tr>\n",
       "      <th>10</th>\n",
       "      <td>144</td>\n",
       "      <td>9</td>\n",
       "      <td>225</td>\n",
       "      <td>4</td>\n",
       "      <td>30</td>\n",
       "      <td>11</td>\n",
       "    </tr>\n",
       "    <tr>\n",
       "      <th>11</th>\n",
       "      <td>100</td>\n",
       "      <td>4</td>\n",
       "      <td>144</td>\n",
       "      <td>5</td>\n",
       "      <td>32</td>\n",
       "      <td>12</td>\n",
       "    </tr>\n",
       "    <tr>\n",
       "      <th>12</th>\n",
       "      <td>108</td>\n",
       "      <td>3</td>\n",
       "      <td>147</td>\n",
       "      <td>6</td>\n",
       "      <td>34</td>\n",
       "      <td>13</td>\n",
       "    </tr>\n",
       "    <tr>\n",
       "      <th>13</th>\n",
       "      <td>49</td>\n",
       "      <td>1</td>\n",
       "      <td>64</td>\n",
       "      <td>7</td>\n",
       "      <td>36</td>\n",
       "      <td>14</td>\n",
       "    </tr>\n",
       "  </tbody>\n",
       "</table>\n",
       "</div>"
      ],
      "text/plain": [
       "    $n_i * u_i^2$  $n_i$  $n_i*(u_i+1)^2$  \\\n",
       "0             108      3               75   \n",
       "1             125      5               80   \n",
       "2             128      8               72   \n",
       "3             144     16               64   \n",
       "4              80     20               20   \n",
       "5              23     23                0   \n",
       "6               0     28               28   \n",
       "7              27     27              108   \n",
       "8              88     22              198   \n",
       "9              54      6               96   \n",
       "10            144      9              225   \n",
       "11            100      4              144   \n",
       "12            108      3              147   \n",
       "13             49      1               64   \n",
       "\n",
       "    $u_i$  $x_i$   i  \n",
       "0      -6     10   1  \n",
       "1      -5     12   2  \n",
       "2      -4     14   3  \n",
       "3      -3     16   4  \n",
       "4      -2     18   5  \n",
       "5      -1     20   6  \n",
       "6       0     22   7  \n",
       "7       1     24   8  \n",
       "8       2     26   9  \n",
       "9       3     28  10  \n",
       "10      4     30  11  \n",
       "11      5     32  12  \n",
       "12      6     34  13  \n",
       "13      7     36  14  "
      ]
     },
     "execution_count": 101,
     "metadata": {},
     "output_type": "execute_result"
    }
   ],
   "source": [
    "import pandas as pd\n",
    "x = pd.DataFrame({'i': range(1, 15), '$x_i$': xi, '$u_i$': Ui, \n",
    "                  '$n_i$': ni, '$n_i * u_i^2$': Nin_Uin, \n",
    "                  '$n_i * u_i^2$': Nin_Uin_sq, '$n_i*(u_i+1)^2$': nnn })\n",
    "x"
   ]
  },
  {
   "cell_type": "code",
   "execution_count": 27,
   "metadata": {},
   "outputs": [
    {
     "data": {
      "image/png": "[encoded data removed]",
      "text/plain": [
       "<matplotlib.figure.Figure at 0x7f3ce3e014e0>"
      ]
     },
     "metadata": {},
     "output_type": "display_data"
    }
   ],
   "source": [
    "import matplotlib.pyplot as plt\n",
    "plt.plot(avereges, Nin)\n",
    "plt.show()"
   ]
  },
  {
   "cell_type": "markdown",
   "metadata": {},
   "source": [
    "Незміщена оцінка дисперсії"
   ]
  },
  {
   "cell_type": "code",
   "execution_count": 28,
   "metadata": {},
   "outputs": [
    {
     "name": "stdout",
     "output_type": "stream",
     "text": [
      "27.28223316912972\n",
      "27.28223316912972\n"
     ]
    }
   ],
   "source": [
    "from statistics import variance\n",
    "print(variance((a)))\n",
    "print(np.cov(an))"
   ]
  },
  {
   "cell_type": "markdown",
   "metadata": {},
   "source": [
    "Середнє квадратичне відхилення"
   ]
  },
  {
   "cell_type": "code",
   "execution_count": 29,
   "metadata": {},
   "outputs": [
    {
     "name": "stdout",
     "output_type": "stream",
     "text": [
      "5.2082947971363485\n",
      "5.208294797136348\n"
     ]
    }
   ],
   "source": [
    "from statistics import pvariance\n",
    "from math import sqrt\n",
    "print(sqrt(pvariance((a))))\n",
    "print(sqrt(np.var(an)))"
   ]
  },
  {
   "cell_type": "code",
   "execution_count": 30,
   "metadata": {},
   "outputs": [
    {
     "data": {
      "image/png": "[encoded data removed]",
      "text/plain": [
       "<matplotlib.figure.Figure at 0x7f3cdf55c4a8>"
      ]
     },
     "metadata": {},
     "output_type": "display_data"
    }
   ],
   "source": [
    "import matplotlib.pyplot as plt \n",
    "plt.plot(avereges, cumulative_frequencies)\n",
    "plt.show()"
   ]
  },
  {
   "cell_type": "markdown",
   "metadata": {},
   "source": [
    "Медіана"
   ]
  },
  {
   "cell_type": "code",
   "execution_count": 112,
   "metadata": {},
   "outputs": [
    {
     "data": {
      "text/plain": [
       "22.0"
      ]
     },
     "execution_count": 112,
     "metadata": {},
     "output_type": "execute_result"
    }
   ],
   "source": [
    "np.median(an)"
   ]
  },
  {
   "cell_type": "markdown",
   "metadata": {},
   "source": [
    "Мода"
   ]
  },
  {
   "cell_type": "code",
   "execution_count": 113,
   "metadata": {},
   "outputs": [
    {
     "data": {
      "text/plain": [
       "22"
      ]
     },
     "execution_count": 113,
     "metadata": {},
     "output_type": "execute_result"
    }
   ],
   "source": [
    "from statistics import mode\n",
    "mode(an)"
   ]
  },
  {
   "cell_type": "markdown",
   "metadata": {},
   "source": [
    "Емпірична функція"
   ]
  },
  {
   "cell_type": "code",
   "execution_count": 110,
   "metadata": {},
   "outputs": [
    {
     "data": {
      "image/png": "[encoded data removed]",
      "text/plain": [
       "<matplotlib.figure.Figure at 0x7f3cdf45f4e0>"
      ]
     },
     "metadata": {},
     "output_type": "display_data"
    }
   ],
   "source": [
    "ax = plt.axes()\n",
    "plt.rcParams['figure.figsize'] = 10, 8\n",
    "plt.rc('xtick', labelsize=10) \n",
    "plt.rc('ytick', labelsize=10) \n",
    "plt.xlim(0, an.max())\n",
    "plt.ylim(0, 1.1)\n",
    "start, end = ax.get_xlim()\n",
    "ax.xaxis.set_ticks(np.arange(start, end, 3))\n",
    "start, end = ax.get_ylim()\n",
    "ax.yaxis.set_ticks(np.arange(start, end, 0.1))\n",
    "for i, j in zip(np.array(xi) + 2, np.cumsum(ni)/n):\n",
    "    ax.arrow(i, j, -2, 0.0,  head_width=0.02, head_length=0.1, fc='k', ec='k')\n",
    "plt.show()"
   ]
  }
 ],
 "metadata": {
  "anaconda-cloud": {},
  "kernelspec": {
   "display_name": "Python 3",
   "language": "python",
   "name": "python3"
  },
  "language_info": {
   "codemirror_mode": {
    "name": "ipython",
    "version": 3.0
   },
   "file_extension": ".py",
   "mimetype": "text/x-python",
   "name": "python",
   "nbconvert_exporter": "python",
   "pygments_lexer": "ipython3",
   "version": "3.5.2"
  }
 },
 "nbformat": 4,
 "nbformat_minor": 0
}