{
 "cells": [
  {
   "cell_type": "markdown",
   "metadata": {},
   "source": [
    "# Лабораторна робота 3"
   ]
  },
  {
   "cell_type": "markdown",
   "metadata": {},
   "source": [
    "З генеральної сукупності взято вибірку:"
   ]
  },
  {
   "cell_type": "code",
   "execution_count": 1,
   "metadata": {},
   "outputs": [
    {
     "data": {
      "text/plain": [
       "array([0, 4, 2, 0, 5, 1, 1, 3, 0, 2, 2, 4, 3, 2, 3, 3, 0, 4, 5, 1, 3, 1, 5,\n",
       "       2, 0, 2, 2, 3, 2, 2, 2, 6, 2, 1, 3, 1, 3, 1, 5, 4, 5, 5, 3, 2, 2, 0,\n",
       "       2, 1, 1, 3, 2, 3, 5, 3, 5, 2, 5, 2, 1, 1, 2, 3, 4, 3, 2, 3, 2, 4, 2])"
      ]
     },
     "execution_count": 1,
     "metadata": {},
     "output_type": "execute_result"
    }
   ],
   "source": [
    "import numpy as np\n",
    "\n",
    "l = \"\"\"\n",
    "0 4 2 0 5 1 1 3 0 2 2 4 3 2 3 3 0 4 5 1\n",
    "3 1 5 2 0 2 2 3 2 2 2 6 2 1 3 1 3 1 5 4\n",
    "5 5 3 2 2 0 2 1 1 3 2 3 5 3 5 2 5 2 1 1\n",
    "2 3 4 3 2 3 2 4 2\"\"\"\n",
    "a = [int(s) for s in l.split()]\n",
    "an = np.array(a)\n",
    "an"
   ]
  },
  {
   "cell_type": "markdown",
   "metadata": {},
   "source": [
    "абсолютні частоти"
   ]
  },
  {
   "cell_type": "code",
   "execution_count": 2,
   "metadata": {},
   "outputs": [
    {
     "name": "stdout",
     "output_type": "stream",
     "text": [
      "[0, 1, 2, 3, 4, 5, 6]\n",
      "[6, 11, 21, 15, 6, 9, 1]\n"
     ]
    }
   ],
   "source": [
    "import collections\n",
    "counter = collections.Counter(an)\n",
    "l_keys = list(counter.keys())\n",
    "l_values = list(counter.values()) \n",
    "print(l_keys)\n",
    "print(l_values)"
   ]
  },
  {
   "cell_type": "markdown",
   "metadata": {},
   "source": [
    "Варіаційний ряд відносних частот"
   ]
  },
  {
   "cell_type": "code",
   "execution_count": 3,
   "metadata": {},
   "outputs": [
    {
     "name": "stdout",
     "output_type": "stream",
     "text": [
      "[0, 1, 2, 3, 4, 5, 6]\n",
      "[6, 11, 21, 15, 6, 9, 1]\n",
      "[0.087, 0.159, 0.304, 0.217, 0.087, 0.13, 0.014]\n"
     ]
    }
   ],
   "source": [
    "print(l_keys)\n",
    "print(l_values)\n",
    "l_rel =[]\n",
    "for i in l_values:\n",
    "    l_rel.append(round(i / len(an), 3))\n",
    "print(l_rel)"
   ]
  },
  {
   "cell_type": "markdown",
   "metadata": {},
   "source": [
    "Накопичені частоти"
   ]
  },
  {
   "cell_type": "code",
   "execution_count": 4,
   "metadata": {},
   "outputs": [
    {
     "data": {
      "text/plain": [
       "array([ 0.087,  0.246,  0.55 ,  0.767,  0.854,  0.984,  0.998])"
      ]
     },
     "execution_count": 4,
     "metadata": {},
     "output_type": "execute_result"
    }
   ],
   "source": [
    "cumulative_frequencies = np.cumsum(l_rel).round(3)\n",
    "cumulative_frequencies"
   ]
  },
  {
   "cell_type": "markdown",
   "metadata": {},
   "source": [
    "Складемо другу статистичну таблицю"
   ]
  },
  {
   "cell_type": "code",
   "execution_count": 5,
   "metadata": {
    "scrolled": true
   },
   "outputs": [
    {
     "data": {
      "text/html": [
       "<div>\n",
       "<table border=\"1\" class=\"dataframe\">\n",
       "  <thead>\n",
       "    <tr style=\"text-align: right;\">\n",
       "      <th></th>\n",
       "      <th>Абсолютні частоти</th>\n",
       "      <th>Варіанта</th>\n",
       "      <th>Відносні частоти</th>\n",
       "      <th>Накопичені частоти</th>\n",
       "    </tr>\n",
       "  </thead>\n",
       "  <tbody>\n",
       "    <tr>\n",
       "      <th>0</th>\n",
       "      <td>6</td>\n",
       "      <td>0</td>\n",
       "      <td>0.087</td>\n",
       "      <td>0.087</td>\n",
       "    </tr>\n",
       "    <tr>\n",
       "      <th>1</th>\n",
       "      <td>11</td>\n",
       "      <td>1</td>\n",
       "      <td>0.159</td>\n",
       "      <td>0.246</td>\n",
       "    </tr>\n",
       "    <tr>\n",
       "      <th>2</th>\n",
       "      <td>21</td>\n",
       "      <td>2</td>\n",
       "      <td>0.304</td>\n",
       "      <td>0.550</td>\n",
       "    </tr>\n",
       "    <tr>\n",
       "      <th>3</th>\n",
       "      <td>15</td>\n",
       "      <td>3</td>\n",
       "      <td>0.217</td>\n",
       "      <td>0.767</td>\n",
       "    </tr>\n",
       "    <tr>\n",
       "      <th>4</th>\n",
       "      <td>6</td>\n",
       "      <td>4</td>\n",
       "      <td>0.087</td>\n",
       "      <td>0.854</td>\n",
       "    </tr>\n",
       "    <tr>\n",
       "      <th>5</th>\n",
       "      <td>9</td>\n",
       "      <td>5</td>\n",
       "      <td>0.130</td>\n",
       "      <td>0.984</td>\n",
       "    </tr>\n",
       "    <tr>\n",
       "      <th>6</th>\n",
       "      <td>1</td>\n",
       "      <td>6</td>\n",
       "      <td>0.014</td>\n",
       "      <td>0.998</td>\n",
       "    </tr>\n",
       "  </tbody>\n",
       "</table>\n",
       "</div>"
      ],
      "text/plain": [
       "   Абсолютні частоти  Варіанта  Відносні частоти  Накопичені частоти\n",
       "0                  6         0             0.087               0.087\n",
       "1                 11         1             0.159               0.246\n",
       "2                 21         2             0.304               0.550\n",
       "3                 15         3             0.217               0.767\n",
       "4                  6         4             0.087               0.854\n",
       "5                  9         5             0.130               0.984\n",
       "6                  1         6             0.014               0.998"
      ]
     },
     "execution_count": 5,
     "metadata": {},
     "output_type": "execute_result"
    }
   ],
   "source": [
    "l_rel = np.array(l_rel).round(3)\n",
    "import pandas as pd\n",
    "x = pd.DataFrame({'Варіанта': range(len(l_keys)), 'Абсолютні частоти': l_values,\n",
    "                  'Відносні частоти': l_rel, \n",
    "                  'Накопичені частоти': cumulative_frequencies})\n",
    "x"
   ]
  },
  {
   "cell_type": "markdown",
   "metadata": {},
   "source": [
    "$x_i * n_i$"
   ]
  },
  {
   "cell_type": "code",
   "execution_count": 6,
   "metadata": {},
   "outputs": [
    {
     "data": {
      "text/plain": [
       "array([ 0, 11, 42, 45, 24, 45,  6])"
      ]
     },
     "execution_count": 6,
     "metadata": {},
     "output_type": "execute_result"
    }
   ],
   "source": [
    "xi_ni = np.array(l_keys) * np.array(l_values)\n",
    "xi_ni"
   ]
  },
  {
   "cell_type": "markdown",
   "metadata": {},
   "source": [
    "$\\lambda$"
   ]
  },
  {
   "cell_type": "code",
   "execution_count": 7,
   "metadata": {},
   "outputs": [
    {
     "name": "stdout",
     "output_type": "stream",
     "text": [
      "173\n",
      "69\n"
     ]
    },
    {
     "data": {
      "text/plain": [
       "2.5072463768115942"
      ]
     },
     "execution_count": 7,
     "metadata": {},
     "output_type": "execute_result"
    }
   ],
   "source": [
    "print(xi_ni.sum())\n",
    "print(sum(l_values))\n",
    "lambdaa = xi_ni.sum() / sum(l_values)\n",
    "lambdaa"
   ]
  },
  {
   "cell_type": "markdown",
   "metadata": {},
   "source": [
    "$\\lambda_i$"
   ]
  },
  {
   "cell_type": "code",
   "execution_count": 8,
   "metadata": {},
   "outputs": [
    {
     "data": {
      "text/plain": [
       "array([   1.        ,    2.50724638,    6.28628439,   15.76126377,\n",
       "         39.51737148,   99.07978647,  248.41743564])"
      ]
     },
     "execution_count": 8,
     "metadata": {},
     "output_type": "execute_result"
    }
   ],
   "source": [
    "lambda_i = np.power(lambdaa, np.array(l_keys))\n",
    "lambda_i"
   ]
  },
  {
   "cell_type": "markdown",
   "metadata": {},
   "source": [
    "i!"
   ]
  },
  {
   "cell_type": "code",
   "execution_count": 9,
   "metadata": {},
   "outputs": [
    {
     "data": {
      "text/plain": [
       "array([  1,   1,   2,   6,  24, 120, 720])"
      ]
     },
     "execution_count": 9,
     "metadata": {},
     "output_type": "execute_result"
    }
   ],
   "source": [
    "from scipy.special import factorial\n",
    "factorials = factorial(np.array(l_keys), exact=True)\n",
    "factorials"
   ]
  },
  {
   "cell_type": "markdown",
   "metadata": {},
   "source": [
    "$e^h$"
   ]
  },
  {
   "cell_type": "code",
   "execution_count": 10,
   "metadata": {},
   "outputs": [
    {
     "data": {
      "text/plain": [
       "array([ 0.08149233,  0.08149233,  0.08149233,  0.08149233,  0.08149233,\n",
       "        0.08149233,  0.08149233])"
      ]
     },
     "execution_count": 10,
     "metadata": {},
     "output_type": "execute_result"
    }
   ],
   "source": [
    "np.exp(1)\n",
    "e_h = np.power(np.full((len(l_keys)), np.exp(1)), lambdaa * -1)\n",
    "e_h"
   ]
  },
  {
   "cell_type": "markdown",
   "metadata": {},
   "source": [
    "$P_i$"
   ]
  },
  {
   "cell_type": "code",
   "execution_count": 11,
   "metadata": {},
   "outputs": [
    {
     "data": {
      "text/plain": [
       "array([ 0.08149233,  0.20432135,  0.25614198,  0.21407035,  0.13418178,\n",
       "        0.06728536,  0.02811683])"
      ]
     },
     "execution_count": 11,
     "metadata": {},
     "output_type": "execute_result"
    }
   ],
   "source": [
    "Pi = lambda_i * e_h / factorials\n",
    "Pi"
   ]
  },
  {
   "cell_type": "markdown",
   "metadata": {},
   "source": [
    "Ni`=Ni*Pi"
   ]
  },
  {
   "cell_type": "code",
   "execution_count": 12,
   "metadata": {},
   "outputs": [
    {
     "name": "stderr",
     "output_type": "stream",
     "text": [
      "/usr/local/lib/python3.5/dist-packages/numpy/core/numeric.py:301: FutureWarning: in the future, full(7, array(69)) will return an array of dtype('int64')\n",
      "  format(shape, fill_value, array(fill_value).dtype), FutureWarning)\n"
     ]
    },
    {
     "data": {
      "text/plain": [
       "array([  5.62297075,  14.09817304,  17.67379664,  14.7708542 ,\n",
       "         9.25854267,   4.64268951,   1.94006108])"
      ]
     },
     "execution_count": 12,
     "metadata": {},
     "output_type": "execute_result"
    }
   ],
   "source": [
    "Ni = np.full((len(l_keys)), np.array(sum(l_values))) * Pi\n",
    "Ni"
   ]
  },
  {
   "cell_type": "markdown",
   "metadata": {},
   "source": [
    "Ni-Ni`"
   ]
  },
  {
   "cell_type": "code",
   "execution_count": 13,
   "metadata": {},
   "outputs": [
    {
     "data": {
      "text/plain": [
       "array([ 0.37702925, -3.09817304,  3.32620336,  0.2291458 , -3.25854267,\n",
       "        4.35731049, -0.94006108])"
      ]
     },
     "execution_count": 13,
     "metadata": {},
     "output_type": "execute_result"
    }
   ],
   "source": [
    "abs_Ni = np.array(l_values) - Ni\n",
    "abs_Ni"
   ]
  },
  {
   "cell_type": "markdown",
   "metadata": {},
   "source": [
    "Ni-Ni`*Ni-Ni`"
   ]
  },
  {
   "cell_type": "code",
   "execution_count": 14,
   "metadata": {},
   "outputs": [
    {
     "data": {
      "text/plain": [
       "array([  0.14215105,   9.59867621,  11.06362877,   0.0525078 ,\n",
       "        10.61810032,  18.98615469,   0.88371483])"
      ]
     },
     "execution_count": 14,
     "metadata": {},
     "output_type": "execute_result"
    }
   ],
   "source": [
    "abs_Ni_2 = abs_Ni * abs_Ni\n",
    "abs_Ni_2"
   ]
  },
  {
   "cell_type": "markdown",
   "metadata": {},
   "source": [
    "Ni-Ni`*Ni-Ni`/n`i"
   ]
  },
  {
   "cell_type": "code",
   "execution_count": 15,
   "metadata": {},
   "outputs": [
    {
     "data": {
      "text/plain": [
       "array([  2.52804185e-02,   6.80845396e-01,   6.25990499e-01,\n",
       "         3.55482475e-03,   1.14684359e+00,   4.08947328e+00,\n",
       "         4.55508766e-01])"
      ]
     },
     "execution_count": 15,
     "metadata": {},
     "output_type": "execute_result"
    }
   ],
   "source": [
    "abs_Ni_2_Ni = abs_Ni_2 / Ni\n",
    "abs_Ni_2_Ni"
   ]
  },
  {
   "cell_type": "code",
   "execution_count": 16,
   "metadata": {},
   "outputs": [
    {
     "data": {
      "text/plain": [
       "7.0274967717113723"
      ]
     },
     "execution_count": 16,
     "metadata": {},
     "output_type": "execute_result"
    }
   ],
   "source": [
    "abs_Ni_2_Ni.sum()"
   ]
  },
  {
   "cell_type": "code",
   "execution_count": 17,
   "metadata": {},
   "outputs": [
    {
     "data": {
      "text/plain": [
       "2.5137483858556862"
      ]
     },
     "execution_count": 17,
     "metadata": {},
     "output_type": "execute_result"
    }
   ],
   "source": [
    "import math\n",
    "(abs_Ni_2_Ni.sum() - 2) / math.sqrt(2 * 2)"
   ]
  },
  {
   "cell_type": "markdown",
   "metadata": {},
   "source": [
    "Вторинна таблиця розподілу: "
   ]
  },
  {
   "cell_type": "code",
   "execution_count": 18,
   "metadata": {},
   "outputs": [
    {
     "data": {
      "text/html": [
       "<div>\n",
       "<table border=\"1\" class=\"dataframe\">\n",
       "  <thead>\n",
       "    <tr style=\"text-align: right;\">\n",
       "      <th></th>\n",
       "      <th>$N_i*P_i$</th>\n",
       "      <th>$P_i$</th>\n",
       "      <th>$\\lambda^i$</th>\n",
       "      <th>$e^h$</th>\n",
       "      <th>$x_i * n_i$</th>\n",
       "      <th>Ni-Ni`</th>\n",
       "      <th>Ni-Ni`*Ni-Ni`</th>\n",
       "      <th>Ni-Ni`*Ni-Ni`/n`i</th>\n",
       "      <th>i!</th>\n",
       "      <th>Варіанта</th>\n",
       "    </tr>\n",
       "  </thead>\n",
       "  <tbody>\n",
       "    <tr>\n",
       "      <th>0</th>\n",
       "      <td>5.622971</td>\n",
       "      <td>0.081492</td>\n",
       "      <td>1.000000</td>\n",
       "      <td>0.081492</td>\n",
       "      <td>0</td>\n",
       "      <td>0.377029</td>\n",
       "      <td>0.142151</td>\n",
       "      <td>0.025280</td>\n",
       "      <td>1</td>\n",
       "      <td>0</td>\n",
       "    </tr>\n",
       "    <tr>\n",
       "      <th>1</th>\n",
       "      <td>14.098173</td>\n",
       "      <td>0.204321</td>\n",
       "      <td>2.507246</td>\n",
       "      <td>0.081492</td>\n",
       "      <td>11</td>\n",
       "      <td>-3.098173</td>\n",
       "      <td>9.598676</td>\n",
       "      <td>0.680845</td>\n",
       "      <td>1</td>\n",
       "      <td>1</td>\n",
       "    </tr>\n",
       "    <tr>\n",
       "      <th>2</th>\n",
       "      <td>17.673797</td>\n",
       "      <td>0.256142</td>\n",
       "      <td>6.286284</td>\n",
       "      <td>0.081492</td>\n",
       "      <td>42</td>\n",
       "      <td>3.326203</td>\n",
       "      <td>11.063629</td>\n",
       "      <td>0.625990</td>\n",
       "      <td>2</td>\n",
       "      <td>2</td>\n",
       "    </tr>\n",
       "    <tr>\n",
       "      <th>3</th>\n",
       "      <td>14.770854</td>\n",
       "      <td>0.214070</td>\n",
       "      <td>15.761264</td>\n",
       "      <td>0.081492</td>\n",
       "      <td>45</td>\n",
       "      <td>0.229146</td>\n",
       "      <td>0.052508</td>\n",
       "      <td>0.003555</td>\n",
       "      <td>6</td>\n",
       "      <td>3</td>\n",
       "    </tr>\n",
       "    <tr>\n",
       "      <th>4</th>\n",
       "      <td>9.258543</td>\n",
       "      <td>0.134182</td>\n",
       "      <td>39.517371</td>\n",
       "      <td>0.081492</td>\n",
       "      <td>24</td>\n",
       "      <td>-3.258543</td>\n",
       "      <td>10.618100</td>\n",
       "      <td>1.146844</td>\n",
       "      <td>24</td>\n",
       "      <td>4</td>\n",
       "    </tr>\n",
       "    <tr>\n",
       "      <th>5</th>\n",
       "      <td>4.642690</td>\n",
       "      <td>0.067285</td>\n",
       "      <td>99.079786</td>\n",
       "      <td>0.081492</td>\n",
       "      <td>45</td>\n",
       "      <td>4.357310</td>\n",
       "      <td>18.986155</td>\n",
       "      <td>4.089473</td>\n",
       "      <td>120</td>\n",
       "      <td>5</td>\n",
       "    </tr>\n",
       "    <tr>\n",
       "      <th>6</th>\n",
       "      <td>1.940061</td>\n",
       "      <td>0.028117</td>\n",
       "      <td>248.417436</td>\n",
       "      <td>0.081492</td>\n",
       "      <td>6</td>\n",
       "      <td>-0.940061</td>\n",
       "      <td>0.883715</td>\n",
       "      <td>0.455509</td>\n",
       "      <td>720</td>\n",
       "      <td>6</td>\n",
       "    </tr>\n",
       "  </tbody>\n",
       "</table>\n",
       "</div>"
      ],
      "text/plain": [
       "   $N_i*P_i$     $P_i$  $\\lambda^i$     $e^h$  $x_i * n_i$    Ni-Ni`  \\\n",
       "0   5.622971  0.081492     1.000000  0.081492            0  0.377029   \n",
       "1  14.098173  0.204321     2.507246  0.081492           11 -3.098173   \n",
       "2  17.673797  0.256142     6.286284  0.081492           42  3.326203   \n",
       "3  14.770854  0.214070    15.761264  0.081492           45  0.229146   \n",
       "4   9.258543  0.134182    39.517371  0.081492           24 -3.258543   \n",
       "5   4.642690  0.067285    99.079786  0.081492           45  4.357310   \n",
       "6   1.940061  0.028117   248.417436  0.081492            6 -0.940061   \n",
       "\n",
       "   Ni-Ni`*Ni-Ni`  Ni-Ni`*Ni-Ni`/n`i   i!  Варіанта  \n",
       "0       0.142151           0.025280    1         0  \n",
       "1       9.598676           0.680845    1         1  \n",
       "2      11.063629           0.625990    2         2  \n",
       "3       0.052508           0.003555    6         3  \n",
       "4      10.618100           1.146844   24         4  \n",
       "5      18.986155           4.089473  120         5  \n",
       "6       0.883715           0.455509  720         6  "
      ]
     },
     "execution_count": 18,
     "metadata": {},
     "output_type": "execute_result"
    }
   ],
   "source": [
    "x = pd.DataFrame({'Варіанта': range(len(l_keys)), '$x_i * n_i$': xi_ni, '$\\lambda^i$': lambda_i, \n",
    "                  'i!': factorials, '$e^h$': e_h, '$P_i$': Pi, \"$N_i*P_i$\": Ni,\n",
    "                  \"Ni-Ni`\": abs_Ni, \"Ni-Ni`*Ni-Ni`\": abs_Ni_2, \"Ni-Ni`*Ni-Ni`/n`i\": abs_Ni_2_Ni})\n",
    "x"
   ]
  },
  {
   "cell_type": "code",
   "execution_count": 22,
   "metadata": {},
   "outputs": [
    {
     "data": {
      "image/png": "[encoded data removed]",
      "text/plain": [
       "<matplotlib.figure.Figure at 0x7fdba87d1898>"
      ]
     },
     "metadata": {},
     "output_type": "display_data"
    }
   ],
   "source": [
    "import matplotlib.pyplot as plt\n",
    "plt.rcParams['figure.figsize'] = 10, 5\n",
    "plt.xlim(0, len(l_keys) - 1)\n",
    "plt.ylim(0, max(Ni) + 5)\n",
    "plt.plot(l_keys, l_values)\n",
    "plt.plot(l_keys, Ni)\n",
    "plt.show()"
   ]
  }
 ],
 "metadata": {
  "kernelspec": {
   "display_name": "Python 3",
   "language": "python",
   "name": "python3"
  },
  "language_info": {
   "codemirror_mode": {
    "name": "ipython",
    "version": 3
   },
   "file_extension": ".py",
   "mimetype": "text/x-python",
   "name": "python",
   "nbconvert_exporter": "python",
   "pygments_lexer": "ipython3",
   "version": "3.5.2"
  }
 },
 "nbformat": 4,
 "nbformat_minor": 2
}
