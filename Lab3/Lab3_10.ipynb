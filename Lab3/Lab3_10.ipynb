{
 "cells": [
  {
   "cell_type": "markdown",
   "metadata": {},
   "source": [
    "# Лабораторна робота 3"
   ]
  },
  {
   "cell_type": "markdown",
   "metadata": {},
   "source": [
    "З генеральної сукупності взято вибірку:"
   ]
  },
  {
   "cell_type": "code",
   "execution_count": 1,
   "metadata": {},
   "outputs": [
    {
     "data": {
      "text/plain": [
       "array([ 3,  5,  6,  8,  4,  5,  4,  7,  2,  7,  7,  3,  7,  4,  4,  5,  4,\n",
       "        4,  5,  2,  4,  8,  8,  4,  6,  5,  9,  4,  0,  4,  4,  4,  9,  3,\n",
       "        3,  2,  1,  5,  2,  5,  5,  3,  4,  4,  7,  8,  9, 11,  4,  5,  2,\n",
       "        6,  7,  6,  1,  2,  5,  6,  3,  1,  2,  6,  7,  3,  3,  2,  5,  4,\n",
       "        8,  2,  6,  5,  9,  5,  5,  2,  8,  3,  6,  4,  6,  6,  8,  7,  3,\n",
       "        3,  7,  3])"
      ]
     },
     "execution_count": 1,
     "metadata": {},
     "output_type": "execute_result"
    }
   ],
   "source": [
    "import numpy as np\n",
    "\n",
    "l = \"\"\"\n",
    "3 5  6 8 4 5 4 7 2 7 7 3 7 4 4\n",
    "5 4  4 5 2 4 8 8 4 6 5 9 4 0 4\n",
    "4 4  9 3 3 2 1 5 2 5 5 3 4 4 7\n",
    "8 9 11 4 5 2 6 7 6 1 2 5 6 3 1\n",
    "2 6  7 3 3 2 5 4 8 2 6 5 9 5 5\n",
    "2 8  3 6 4 6 6 8 7 3 3 7 3\"\"\"\n",
    "a = [int(s) for s in l.split()]\n",
    "an = np.array(a)\n",
    "an"
   ]
  },
  {
   "cell_type": "markdown",
   "metadata": {},
   "source": [
    "абсолютні частоти"
   ]
  },
  {
   "cell_type": "code",
   "execution_count": 2,
   "metadata": {},
   "outputs": [
    {
     "name": "stdout",
     "output_type": "stream",
     "text": [
      "[0, 1, 2, 3, 4, 5, 6, 7, 8, 9, 11]\n",
      "[1, 3, 10, 12, 17, 14, 10, 9, 7, 4, 1]\n"
     ]
    }
   ],
   "source": [
    "import collections\n",
    "counter = collections.Counter(an)\n",
    "l_keys = list(counter.keys())\n",
    "l_values = list(counter.values()) \n",
    "print(l_keys)\n",
    "print(l_values)"
   ]
  },
  {
   "cell_type": "markdown",
   "metadata": {},
   "source": [
    "Варіаційний ряд відносних частот"
   ]
  },
  {
   "cell_type": "code",
   "execution_count": 3,
   "metadata": {},
   "outputs": [
    {
     "name": "stdout",
     "output_type": "stream",
     "text": [
      "[0, 1, 2, 3, 4, 5, 6, 7, 8, 9, 11]\n",
      "[1, 3, 10, 12, 17, 14, 10, 9, 7, 4, 1]\n",
      "[0.011, 0.034, 0.114, 0.136, 0.193, 0.159, 0.114, 0.102, 0.08, 0.045, 0.011]\n"
     ]
    }
   ],
   "source": [
    "print(l_keys)\n",
    "print(l_values)\n",
    "l_rel =[]\n",
    "for i in l_values:\n",
    "    l_rel.append(round(i / len(an), 3))\n",
    "print(l_rel)"
   ]
  },
  {
   "cell_type": "markdown",
   "metadata": {},
   "source": [
    "Накопичені частоти"
   ]
  },
  {
   "cell_type": "code",
   "execution_count": 4,
   "metadata": {},
   "outputs": [
    {
     "data": {
      "text/plain": [
       "array([ 0.011,  0.045,  0.159,  0.295,  0.488,  0.647,  0.761,  0.863,\n",
       "        0.943,  0.988,  0.999])"
      ]
     },
     "execution_count": 4,
     "metadata": {},
     "output_type": "execute_result"
    }
   ],
   "source": [
    "cumulative_frequencies = np.cumsum(l_rel).round(3)\n",
    "cumulative_frequencies"
   ]
  },
  {
   "cell_type": "markdown",
   "metadata": {},
   "source": [
    "Складемо другу статистичну таблицю"
   ]
  },
  {
   "cell_type": "code",
   "execution_count": 5,
   "metadata": {
    "scrolled": true
   },
   "outputs": [
    {
     "data": {
      "text/html": [
       "<div>\n",
       "<table border=\"1\" class=\"dataframe\">\n",
       "  <thead>\n",
       "    <tr style=\"text-align: right;\">\n",
       "      <th></th>\n",
       "      <th>Абсолютні частоти</th>\n",
       "      <th>Варіанта</th>\n",
       "      <th>Відносні частоти</th>\n",
       "      <th>Накопичені частоти</th>\n",
       "    </tr>\n",
       "  </thead>\n",
       "  <tbody>\n",
       "    <tr>\n",
       "      <th>0</th>\n",
       "      <td>1</td>\n",
       "      <td>0</td>\n",
       "      <td>0.011</td>\n",
       "      <td>0.011</td>\n",
       "    </tr>\n",
       "    <tr>\n",
       "      <th>1</th>\n",
       "      <td>3</td>\n",
       "      <td>1</td>\n",
       "      <td>0.034</td>\n",
       "      <td>0.045</td>\n",
       "    </tr>\n",
       "    <tr>\n",
       "      <th>2</th>\n",
       "      <td>10</td>\n",
       "      <td>2</td>\n",
       "      <td>0.114</td>\n",
       "      <td>0.159</td>\n",
       "    </tr>\n",
       "    <tr>\n",
       "      <th>3</th>\n",
       "      <td>12</td>\n",
       "      <td>3</td>\n",
       "      <td>0.136</td>\n",
       "      <td>0.295</td>\n",
       "    </tr>\n",
       "    <tr>\n",
       "      <th>4</th>\n",
       "      <td>17</td>\n",
       "      <td>4</td>\n",
       "      <td>0.193</td>\n",
       "      <td>0.488</td>\n",
       "    </tr>\n",
       "    <tr>\n",
       "      <th>5</th>\n",
       "      <td>14</td>\n",
       "      <td>5</td>\n",
       "      <td>0.159</td>\n",
       "      <td>0.647</td>\n",
       "    </tr>\n",
       "    <tr>\n",
       "      <th>6</th>\n",
       "      <td>10</td>\n",
       "      <td>6</td>\n",
       "      <td>0.114</td>\n",
       "      <td>0.761</td>\n",
       "    </tr>\n",
       "    <tr>\n",
       "      <th>7</th>\n",
       "      <td>9</td>\n",
       "      <td>7</td>\n",
       "      <td>0.102</td>\n",
       "      <td>0.863</td>\n",
       "    </tr>\n",
       "    <tr>\n",
       "      <th>8</th>\n",
       "      <td>7</td>\n",
       "      <td>8</td>\n",
       "      <td>0.080</td>\n",
       "      <td>0.943</td>\n",
       "    </tr>\n",
       "    <tr>\n",
       "      <th>9</th>\n",
       "      <td>4</td>\n",
       "      <td>9</td>\n",
       "      <td>0.045</td>\n",
       "      <td>0.988</td>\n",
       "    </tr>\n",
       "    <tr>\n",
       "      <th>10</th>\n",
       "      <td>1</td>\n",
       "      <td>10</td>\n",
       "      <td>0.011</td>\n",
       "      <td>0.999</td>\n",
       "    </tr>\n",
       "  </tbody>\n",
       "</table>\n",
       "</div>"
      ],
      "text/plain": [
       "    Абсолютні частоти  Варіанта  Відносні частоти  Накопичені частоти\n",
       "0                   1         0             0.011               0.011\n",
       "1                   3         1             0.034               0.045\n",
       "2                  10         2             0.114               0.159\n",
       "3                  12         3             0.136               0.295\n",
       "4                  17         4             0.193               0.488\n",
       "5                  14         5             0.159               0.647\n",
       "6                  10         6             0.114               0.761\n",
       "7                   9         7             0.102               0.863\n",
       "8                   7         8             0.080               0.943\n",
       "9                   4         9             0.045               0.988\n",
       "10                  1        10             0.011               0.999"
      ]
     },
     "execution_count": 5,
     "metadata": {},
     "output_type": "execute_result"
    }
   ],
   "source": [
    "l_rel = np.array(l_rel).round(3)\n",
    "import pandas as pd\n",
    "x = pd.DataFrame({'Варіанта': range(len(l_keys)), 'Абсолютні частоти': l_values,\n",
    "                  'Відносні частоти': l_rel, \n",
    "                  'Накопичені частоти': cumulative_frequencies})\n",
    "x"
   ]
  },
  {
   "cell_type": "markdown",
   "metadata": {},
   "source": [
    "$x_i * n_i$"
   ]
  },
  {
   "cell_type": "code",
   "execution_count": 6,
   "metadata": {},
   "outputs": [
    {
     "data": {
      "text/plain": [
       "array([ 0,  3, 20, 36, 68, 70, 60, 63, 56, 36, 11])"
      ]
     },
     "execution_count": 6,
     "metadata": {},
     "output_type": "execute_result"
    }
   ],
   "source": [
    "xi_ni = np.array(l_keys) * np.array(l_values)\n",
    "xi_ni"
   ]
  },
  {
   "cell_type": "markdown",
   "metadata": {},
   "source": [
    "$\\lambda$"
   ]
  },
  {
   "cell_type": "code",
   "execution_count": 7,
   "metadata": {},
   "outputs": [
    {
     "name": "stdout",
     "output_type": "stream",
     "text": [
      "423\n",
      "88\n"
     ]
    },
    {
     "data": {
      "text/plain": [
       "4.8068181818181817"
      ]
     },
     "execution_count": 7,
     "metadata": {},
     "output_type": "execute_result"
    }
   ],
   "source": [
    "print(xi_ni.sum())\n",
    "print(sum(l_values))\n",
    "lambdaa = xi_ni.sum() / sum(l_values)\n",
    "lambdaa"
   ]
  },
  {
   "cell_type": "markdown",
   "metadata": {},
   "source": [
    "$\\lambda_i$"
   ]
  },
  {
   "cell_type": "code",
   "execution_count": 8,
   "metadata": {},
   "outputs": [
    {
     "data": {
      "text/plain": [
       "array([  1.00000000e+00,   4.80681818e+00,   2.31055010e+01,\n",
       "         1.11063942e+02,   5.33864178e+02,   2.56618804e+03,\n",
       "         1.23351993e+04,   5.92930603e+04,   2.85010961e+05,\n",
       "         1.36999587e+06,   3.16544409e+07])"
      ]
     },
     "execution_count": 8,
     "metadata": {},
     "output_type": "execute_result"
    }
   ],
   "source": [
    "lambda_i = np.power(lambdaa, np.array(l_keys))\n",
    "lambda_i"
   ]
  },
  {
   "cell_type": "markdown",
   "metadata": {},
   "source": [
    "i!"
   ]
  },
  {
   "cell_type": "code",
   "execution_count": 9,
   "metadata": {},
   "outputs": [
    {
     "data": {
      "text/plain": [
       "array([       1,        1,        2,        6,       24,      120,\n",
       "            720,     5040,    40320,   362880, 39916800])"
      ]
     },
     "execution_count": 9,
     "metadata": {},
     "output_type": "execute_result"
    }
   ],
   "source": [
    "from scipy.special import factorial\n",
    "factorials = factorial(np.array(l_keys), exact=True)\n",
    "factorials"
   ]
  },
  {
   "cell_type": "markdown",
   "metadata": {},
   "source": [
    "$e^h$"
   ]
  },
  {
   "cell_type": "code",
   "execution_count": 10,
   "metadata": {},
   "outputs": [
    {
     "data": {
      "text/plain": [
       "array([ 0.00817383,  0.00817383,  0.00817383,  0.00817383,  0.00817383,\n",
       "        0.00817383,  0.00817383,  0.00817383,  0.00817383,  0.00817383,\n",
       "        0.00817383])"
      ]
     },
     "execution_count": 10,
     "metadata": {},
     "output_type": "execute_result"
    }
   ],
   "source": [
    "np.exp(1)\n",
    "e_h = np.power(np.full((len(l_keys)), np.exp(1)), lambdaa * -1)\n",
    "e_h"
   ]
  },
  {
   "cell_type": "markdown",
   "metadata": {},
   "source": [
    "$P_i$"
   ]
  },
  {
   "cell_type": "code",
   "execution_count": 11,
   "metadata": {},
   "outputs": [
    {
     "data": {
      "text/plain": [
       "array([ 0.00817383,  0.0392901 ,  0.09443017,  0.15130289,  0.18182137,\n",
       "        0.17479645,  0.1400358 ,  0.09616094,  0.05777852,  0.03085898,\n",
       "        0.00648193])"
      ]
     },
     "execution_count": 11,
     "metadata": {},
     "output_type": "execute_result"
    }
   ],
   "source": [
    "Pi = lambda_i * e_h / factorials\n",
    "Pi"
   ]
  },
  {
   "cell_type": "markdown",
   "metadata": {},
   "source": [
    "Ni`=Ni*Pi"
   ]
  },
  {
   "cell_type": "code",
   "execution_count": 12,
   "metadata": {},
   "outputs": [
    {
     "name": "stderr",
     "output_type": "stream",
     "text": [
      "/usr/local/lib/python3.5/dist-packages/numpy/core/numeric.py:301: FutureWarning: in the future, full(11, array(88)) will return an array of dtype('int64')\n",
      "  format(shape, fill_value, array(fill_value).dtype), FutureWarning)\n"
     ]
    },
    {
     "data": {
      "text/plain": [
       "array([  0.71929669,   3.4575284 ,   8.30985518,  13.31465432,\n",
       "        16.00028062,  15.38208796,  12.32315001,   8.46216308,\n",
       "         5.08450992,   2.71559052,   0.57040981])"
      ]
     },
     "execution_count": 12,
     "metadata": {},
     "output_type": "execute_result"
    }
   ],
   "source": [
    "Ni = np.full((len(l_keys)), np.array(sum(l_values))) * Pi\n",
    "Ni"
   ]
  },
  {
   "cell_type": "markdown",
   "metadata": {},
   "source": [
    "Ni-Ni`"
   ]
  },
  {
   "cell_type": "code",
   "execution_count": 13,
   "metadata": {},
   "outputs": [
    {
     "data": {
      "text/plain": [
       "array([ 0.28070331, -0.4575284 ,  1.69014482, -1.31465432,  0.99971938,\n",
       "       -1.38208796, -2.32315001,  0.53783692,  1.91549008,  1.28440948,\n",
       "        0.42959019])"
      ]
     },
     "execution_count": 13,
     "metadata": {},
     "output_type": "execute_result"
    }
   ],
   "source": [
    "abs_Ni = np.array(l_values) - Ni\n",
    "abs_Ni"
   ]
  },
  {
   "cell_type": "markdown",
   "metadata": {},
   "source": [
    "Ni-Ni`*Ni-Ni`"
   ]
  },
  {
   "cell_type": "code",
   "execution_count": 14,
   "metadata": {},
   "outputs": [
    {
     "data": {
      "text/plain": [
       "array([ 0.07879435,  0.20933223,  2.85658952,  1.72831598,  0.99943885,\n",
       "        1.91016712,  5.39702597,  0.28926856,  3.66910226,  1.6497077 ,\n",
       "        0.18454773])"
      ]
     },
     "execution_count": 14,
     "metadata": {},
     "output_type": "execute_result"
    }
   ],
   "source": [
    "abs_Ni_2 = abs_Ni * abs_Ni\n",
    "abs_Ni_2"
   ]
  },
  {
   "cell_type": "markdown",
   "metadata": {},
   "source": [
    "Ni-Ni`*Ni-Ni`/n`i"
   ]
  },
  {
   "cell_type": "code",
   "execution_count": 15,
   "metadata": {},
   "outputs": [
    {
     "data": {
      "text/plain": [
       "array([ 0.1095436 ,  0.06054389,  0.34375924,  0.12980555,  0.06246383,\n",
       "        0.12418126,  0.43795831,  0.03418376,  0.72162358,  0.60749501,\n",
       "        0.32353533])"
      ]
     },
     "execution_count": 15,
     "metadata": {},
     "output_type": "execute_result"
    }
   ],
   "source": [
    "abs_Ni_2_Ni = abs_Ni_2 / Ni\n",
    "abs_Ni_2_Ni"
   ]
  },
  {
   "cell_type": "code",
   "execution_count": 16,
   "metadata": {},
   "outputs": [
    {
     "data": {
      "text/plain": [
       "2.9550933784073603"
      ]
     },
     "execution_count": 16,
     "metadata": {},
     "output_type": "execute_result"
    }
   ],
   "source": [
    "abs_Ni_2_Ni.sum()"
   ]
  },
  {
   "cell_type": "code",
   "execution_count": 17,
   "metadata": {},
   "outputs": [
    {
     "data": {
      "text/plain": [
       "0.47754668920368015"
      ]
     },
     "execution_count": 17,
     "metadata": {},
     "output_type": "execute_result"
    }
   ],
   "source": [
    "import math\n",
    "(abs_Ni_2_Ni.sum() - 2) / math.sqrt(2 * 2)"
   ]
  },
  {
   "cell_type": "markdown",
   "metadata": {},
   "source": [
    "Вторинна таблиця розподілу: "
   ]
  },
  {
   "cell_type": "code",
   "execution_count": 18,
   "metadata": {},
   "outputs": [
    {
     "data": {
      "text/html": [
       "<div>\n",
       "<table border=\"1\" class=\"dataframe\">\n",
       "  <thead>\n",
       "    <tr style=\"text-align: right;\">\n",
       "      <th></th>\n",
       "      <th>$N_i*P_i$</th>\n",
       "      <th>$P_i$</th>\n",
       "      <th>$\\lambda^i$</th>\n",
       "      <th>$e^h$</th>\n",
       "      <th>$x_i * n_i$</th>\n",
       "      <th>Ni-Ni`</th>\n",
       "      <th>Ni-Ni`*Ni-Ni`</th>\n",
       "      <th>Ni-Ni`*Ni-Ni`/n`i</th>\n",
       "      <th>i!</th>\n",
       "      <th>Варіанта</th>\n",
       "    </tr>\n",
       "  </thead>\n",
       "  <tbody>\n",
       "    <tr>\n",
       "      <th>0</th>\n",
       "      <td>0.719297</td>\n",
       "      <td>0.008174</td>\n",
       "      <td>1.000000e+00</td>\n",
       "      <td>0.008174</td>\n",
       "      <td>0</td>\n",
       "      <td>0.280703</td>\n",
       "      <td>0.078794</td>\n",
       "      <td>0.109544</td>\n",
       "      <td>1</td>\n",
       "      <td>0</td>\n",
       "    </tr>\n",
       "    <tr>\n",
       "      <th>1</th>\n",
       "      <td>3.457528</td>\n",
       "      <td>0.039290</td>\n",
       "      <td>4.806818e+00</td>\n",
       "      <td>0.008174</td>\n",
       "      <td>3</td>\n",
       "      <td>-0.457528</td>\n",
       "      <td>0.209332</td>\n",
       "      <td>0.060544</td>\n",
       "      <td>1</td>\n",
       "      <td>1</td>\n",
       "    </tr>\n",
       "    <tr>\n",
       "      <th>2</th>\n",
       "      <td>8.309855</td>\n",
       "      <td>0.094430</td>\n",
       "      <td>2.310550e+01</td>\n",
       "      <td>0.008174</td>\n",
       "      <td>20</td>\n",
       "      <td>1.690145</td>\n",
       "      <td>2.856590</td>\n",
       "      <td>0.343759</td>\n",
       "      <td>2</td>\n",
       "      <td>2</td>\n",
       "    </tr>\n",
       "    <tr>\n",
       "      <th>3</th>\n",
       "      <td>13.314654</td>\n",
       "      <td>0.151303</td>\n",
       "      <td>1.110639e+02</td>\n",
       "      <td>0.008174</td>\n",
       "      <td>36</td>\n",
       "      <td>-1.314654</td>\n",
       "      <td>1.728316</td>\n",
       "      <td>0.129806</td>\n",
       "      <td>6</td>\n",
       "      <td>3</td>\n",
       "    </tr>\n",
       "    <tr>\n",
       "      <th>4</th>\n",
       "      <td>16.000281</td>\n",
       "      <td>0.181821</td>\n",
       "      <td>5.338642e+02</td>\n",
       "      <td>0.008174</td>\n",
       "      <td>68</td>\n",
       "      <td>0.999719</td>\n",
       "      <td>0.999439</td>\n",
       "      <td>0.062464</td>\n",
       "      <td>24</td>\n",
       "      <td>4</td>\n",
       "    </tr>\n",
       "    <tr>\n",
       "      <th>5</th>\n",
       "      <td>15.382088</td>\n",
       "      <td>0.174796</td>\n",
       "      <td>2.566188e+03</td>\n",
       "      <td>0.008174</td>\n",
       "      <td>70</td>\n",
       "      <td>-1.382088</td>\n",
       "      <td>1.910167</td>\n",
       "      <td>0.124181</td>\n",
       "      <td>120</td>\n",
       "      <td>5</td>\n",
       "    </tr>\n",
       "    <tr>\n",
       "      <th>6</th>\n",
       "      <td>12.323150</td>\n",
       "      <td>0.140036</td>\n",
       "      <td>1.233520e+04</td>\n",
       "      <td>0.008174</td>\n",
       "      <td>60</td>\n",
       "      <td>-2.323150</td>\n",
       "      <td>5.397026</td>\n",
       "      <td>0.437958</td>\n",
       "      <td>720</td>\n",
       "      <td>6</td>\n",
       "    </tr>\n",
       "    <tr>\n",
       "      <th>7</th>\n",
       "      <td>8.462163</td>\n",
       "      <td>0.096161</td>\n",
       "      <td>5.929306e+04</td>\n",
       "      <td>0.008174</td>\n",
       "      <td>63</td>\n",
       "      <td>0.537837</td>\n",
       "      <td>0.289269</td>\n",
       "      <td>0.034184</td>\n",
       "      <td>5040</td>\n",
       "      <td>7</td>\n",
       "    </tr>\n",
       "    <tr>\n",
       "      <th>8</th>\n",
       "      <td>5.084510</td>\n",
       "      <td>0.057779</td>\n",
       "      <td>2.850110e+05</td>\n",
       "      <td>0.008174</td>\n",
       "      <td>56</td>\n",
       "      <td>1.915490</td>\n",
       "      <td>3.669102</td>\n",
       "      <td>0.721624</td>\n",
       "      <td>40320</td>\n",
       "      <td>8</td>\n",
       "    </tr>\n",
       "    <tr>\n",
       "      <th>9</th>\n",
       "      <td>2.715591</td>\n",
       "      <td>0.030859</td>\n",
       "      <td>1.369996e+06</td>\n",
       "      <td>0.008174</td>\n",
       "      <td>36</td>\n",
       "      <td>1.284409</td>\n",
       "      <td>1.649708</td>\n",
       "      <td>0.607495</td>\n",
       "      <td>362880</td>\n",
       "      <td>9</td>\n",
       "    </tr>\n",
       "    <tr>\n",
       "      <th>10</th>\n",
       "      <td>0.570410</td>\n",
       "      <td>0.006482</td>\n",
       "      <td>3.165444e+07</td>\n",
       "      <td>0.008174</td>\n",
       "      <td>11</td>\n",
       "      <td>0.429590</td>\n",
       "      <td>0.184548</td>\n",
       "      <td>0.323535</td>\n",
       "      <td>39916800</td>\n",
       "      <td>10</td>\n",
       "    </tr>\n",
       "  </tbody>\n",
       "</table>\n",
       "</div>"
      ],
      "text/plain": [
       "    $N_i*P_i$     $P_i$   $\\lambda^i$     $e^h$  $x_i * n_i$    Ni-Ni`  \\\n",
       "0    0.719297  0.008174  1.000000e+00  0.008174            0  0.280703   \n",
       "1    3.457528  0.039290  4.806818e+00  0.008174            3 -0.457528   \n",
       "2    8.309855  0.094430  2.310550e+01  0.008174           20  1.690145   \n",
       "3   13.314654  0.151303  1.110639e+02  0.008174           36 -1.314654   \n",
       "4   16.000281  0.181821  5.338642e+02  0.008174           68  0.999719   \n",
       "5   15.382088  0.174796  2.566188e+03  0.008174           70 -1.382088   \n",
       "6   12.323150  0.140036  1.233520e+04  0.008174           60 -2.323150   \n",
       "7    8.462163  0.096161  5.929306e+04  0.008174           63  0.537837   \n",
       "8    5.084510  0.057779  2.850110e+05  0.008174           56  1.915490   \n",
       "9    2.715591  0.030859  1.369996e+06  0.008174           36  1.284409   \n",
       "10   0.570410  0.006482  3.165444e+07  0.008174           11  0.429590   \n",
       "\n",
       "    Ni-Ni`*Ni-Ni`  Ni-Ni`*Ni-Ni`/n`i        i!  Варіанта  \n",
       "0        0.078794           0.109544         1         0  \n",
       "1        0.209332           0.060544         1         1  \n",
       "2        2.856590           0.343759         2         2  \n",
       "3        1.728316           0.129806         6         3  \n",
       "4        0.999439           0.062464        24         4  \n",
       "5        1.910167           0.124181       120         5  \n",
       "6        5.397026           0.437958       720         6  \n",
       "7        0.289269           0.034184      5040         7  \n",
       "8        3.669102           0.721624     40320         8  \n",
       "9        1.649708           0.607495    362880         9  \n",
       "10       0.184548           0.323535  39916800        10  "
      ]
     },
     "execution_count": 18,
     "metadata": {},
     "output_type": "execute_result"
    }
   ],
   "source": [
    "x = pd.DataFrame({'Варіанта': range(len(l_keys)), '$x_i * n_i$': xi_ni, '$\\lambda^i$': lambda_i, \n",
    "                  'i!': factorials, '$e^h$': e_h, '$P_i$': Pi, \"$N_i*P_i$\": Ni,\n",
    "                  \"Ni-Ni`\": abs_Ni, \"Ni-Ni`*Ni-Ni`\": abs_Ni_2, \"Ni-Ni`*Ni-Ni`/n`i\": abs_Ni_2_Ni})\n",
    "x"
   ]
  },
  {
   "cell_type": "code",
   "execution_count": 22,
   "metadata": {},
   "outputs": [
    {
     "data": {
      "image/png": "[encoded data removed]",
      "text/plain": [
       "<matplotlib.figure.Figure at 0x7f7ccc2b27f0>"
      ]
     },
     "metadata": {},
     "output_type": "display_data"
    }
   ],
   "source": [
    "import matplotlib.pyplot as plt\n",
    "plt.rcParams['figure.figsize'] = 10, 5\n",
    "plt.xlim(0, len(l_keys))\n",
    "plt.ylim(0, max(Ni) + 5)\n",
    "plt.plot(l_keys, l_values)\n",
    "plt.plot(l_keys, Ni)\n",
    "plt.show()"
   ]
  }
 ],
 "metadata": {
  "kernelspec": {
   "display_name": "Python 3",
   "language": "python",
   "name": "python3"
  },
  "language_info": {
   "codemirror_mode": {
    "name": "ipython",
    "version": 3
   },
   "file_extension": ".py",
   "mimetype": "text/x-python",
   "name": "python",
   "nbconvert_exporter": "python",
   "pygments_lexer": "ipython3",
   "version": "3.5.2"
  }
 },
 "nbformat": 4,
 "nbformat_minor": 2
}
