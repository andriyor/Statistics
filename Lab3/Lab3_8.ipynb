{
 "cells": [
  {
   "cell_type": "markdown",
   "metadata": {},
   "source": [
    "# Лабораторна робота 3"
   ]
  },
  {
   "cell_type": "markdown",
   "metadata": {},
   "source": [
    "З генеральної сукупності взято вибірку:"
   ]
  },
  {
   "cell_type": "code",
   "execution_count": 1,
   "metadata": {},
   "outputs": [
    {
     "data": {
      "text/plain": [
       "array([ 8,  4,  4,  7,  5,  5,  5,  3, 10,  2,  3,  6,  7,  6, 10,  6,  7,\n",
       "        7,  6, 10,  7,  6,  8, 10,  7,  7,  9,  1,  3,  4,  7,  4,  4,  5,\n",
       "        4,  9,  6,  5,  9,  5,  6,  5,  6,  4,  7,  2,  5,  7,  6,  7,  3,\n",
       "        8,  8,  7,  4,  7,  5,  7,  6,  6,  5,  6,  6,  6, 12,  5, 11,  8,\n",
       "        1, 10, 10,  9,  1,  4,  5,  6,  8,  4, 10,  8])"
      ]
     },
     "execution_count": 1,
     "metadata": {},
     "output_type": "execute_result"
    }
   ],
   "source": [
    "import numpy as np\n",
    "\n",
    "l = \"\"\"\n",
    "8 4 4  7  5 5  5 3 10  2  3 6 7 6 10\n",
    "6 7 7  6 10 7  6 8 10  7  7 9 1 3  4\n",
    "7 4 4  5  4 9  6 5  9  5  6 5 6 4  7\n",
    "2 5 7  6  7 3  8 8  7  4  7 5 7 6  6\n",
    "5 6 6  6 12 5 11 8  1 10 10 9 1 4  5 \n",
    "6 8 4 10 8 \"\"\"\n",
    "a = [int(s) for s in l.split()]\n",
    "an = np.array(a)\n",
    "an"
   ]
  },
  {
   "cell_type": "markdown",
   "metadata": {},
   "source": [
    "абсолютні частоти"
   ]
  },
  {
   "cell_type": "code",
   "execution_count": 2,
   "metadata": {},
   "outputs": [
    {
     "name": "stdout",
     "output_type": "stream",
     "text": [
      "[1, 2, 3, 4, 5, 6, 7, 8, 9, 10, 11, 12]\n",
      "[3, 2, 4, 10, 12, 15, 14, 7, 4, 7, 1, 1]\n"
     ]
    }
   ],
   "source": [
    "import collections\n",
    "counter = collections.Counter(an)\n",
    "l_keys = list(counter.keys())\n",
    "l_values = list(counter.values()) \n",
    "print(l_keys)\n",
    "print(l_values)"
   ]
  },
  {
   "cell_type": "markdown",
   "metadata": {},
   "source": [
    "Варіаційний ряд відносних частот"
   ]
  },
  {
   "cell_type": "code",
   "execution_count": 3,
   "metadata": {},
   "outputs": [
    {
     "name": "stdout",
     "output_type": "stream",
     "text": [
      "[1, 2, 3, 4, 5, 6, 7, 8, 9, 10, 11, 12]\n",
      "[3, 2, 4, 10, 12, 15, 14, 7, 4, 7, 1, 1]\n",
      "[0.037, 0.025, 0.05, 0.125, 0.15, 0.188, 0.175, 0.087, 0.05, 0.087, 0.013, 0.013]\n"
     ]
    }
   ],
   "source": [
    "print(l_keys)\n",
    "print(l_values)\n",
    "l_rel =[]\n",
    "for i in l_values:\n",
    "    l_rel.append(round(i / len(an), 3))\n",
    "print(l_rel)"
   ]
  },
  {
   "cell_type": "markdown",
   "metadata": {},
   "source": [
    "Накопичені частоти"
   ]
  },
  {
   "cell_type": "code",
   "execution_count": 4,
   "metadata": {},
   "outputs": [
    {
     "data": {
      "text/plain": [
       "array([ 0.037,  0.062,  0.112,  0.237,  0.387,  0.575,  0.75 ,  0.837,\n",
       "        0.887,  0.974,  0.987,  1.   ])"
      ]
     },
     "execution_count": 4,
     "metadata": {},
     "output_type": "execute_result"
    }
   ],
   "source": [
    "cumulative_frequencies = np.cumsum(l_rel).round(3)\n",
    "cumulative_frequencies"
   ]
  },
  {
   "cell_type": "markdown",
   "metadata": {},
   "source": [
    "Складемо другу статистичну таблицю"
   ]
  },
  {
   "cell_type": "code",
   "execution_count": 5,
   "metadata": {
    "scrolled": true
   },
   "outputs": [
    {
     "data": {
      "text/html": [
       "<div>\n",
       "<table border=\"1\" class=\"dataframe\">\n",
       "  <thead>\n",
       "    <tr style=\"text-align: right;\">\n",
       "      <th></th>\n",
       "      <th>Абсолютні частоти</th>\n",
       "      <th>Варіанта</th>\n",
       "      <th>Відносні частоти</th>\n",
       "      <th>Накопичені частоти</th>\n",
       "    </tr>\n",
       "  </thead>\n",
       "  <tbody>\n",
       "    <tr>\n",
       "      <th>0</th>\n",
       "      <td>3</td>\n",
       "      <td>0</td>\n",
       "      <td>0.037</td>\n",
       "      <td>0.037</td>\n",
       "    </tr>\n",
       "    <tr>\n",
       "      <th>1</th>\n",
       "      <td>2</td>\n",
       "      <td>1</td>\n",
       "      <td>0.025</td>\n",
       "      <td>0.062</td>\n",
       "    </tr>\n",
       "    <tr>\n",
       "      <th>2</th>\n",
       "      <td>4</td>\n",
       "      <td>2</td>\n",
       "      <td>0.050</td>\n",
       "      <td>0.112</td>\n",
       "    </tr>\n",
       "    <tr>\n",
       "      <th>3</th>\n",
       "      <td>10</td>\n",
       "      <td>3</td>\n",
       "      <td>0.125</td>\n",
       "      <td>0.237</td>\n",
       "    </tr>\n",
       "    <tr>\n",
       "      <th>4</th>\n",
       "      <td>12</td>\n",
       "      <td>4</td>\n",
       "      <td>0.150</td>\n",
       "      <td>0.387</td>\n",
       "    </tr>\n",
       "    <tr>\n",
       "      <th>5</th>\n",
       "      <td>15</td>\n",
       "      <td>5</td>\n",
       "      <td>0.188</td>\n",
       "      <td>0.575</td>\n",
       "    </tr>\n",
       "    <tr>\n",
       "      <th>6</th>\n",
       "      <td>14</td>\n",
       "      <td>6</td>\n",
       "      <td>0.175</td>\n",
       "      <td>0.750</td>\n",
       "    </tr>\n",
       "    <tr>\n",
       "      <th>7</th>\n",
       "      <td>7</td>\n",
       "      <td>7</td>\n",
       "      <td>0.087</td>\n",
       "      <td>0.837</td>\n",
       "    </tr>\n",
       "    <tr>\n",
       "      <th>8</th>\n",
       "      <td>4</td>\n",
       "      <td>8</td>\n",
       "      <td>0.050</td>\n",
       "      <td>0.887</td>\n",
       "    </tr>\n",
       "    <tr>\n",
       "      <th>9</th>\n",
       "      <td>7</td>\n",
       "      <td>9</td>\n",
       "      <td>0.087</td>\n",
       "      <td>0.974</td>\n",
       "    </tr>\n",
       "    <tr>\n",
       "      <th>10</th>\n",
       "      <td>1</td>\n",
       "      <td>10</td>\n",
       "      <td>0.013</td>\n",
       "      <td>0.987</td>\n",
       "    </tr>\n",
       "    <tr>\n",
       "      <th>11</th>\n",
       "      <td>1</td>\n",
       "      <td>11</td>\n",
       "      <td>0.013</td>\n",
       "      <td>1.000</td>\n",
       "    </tr>\n",
       "  </tbody>\n",
       "</table>\n",
       "</div>"
      ],
      "text/plain": [
       "    Абсолютні частоти  Варіанта  Відносні частоти  Накопичені частоти\n",
       "0                   3         0             0.037               0.037\n",
       "1                   2         1             0.025               0.062\n",
       "2                   4         2             0.050               0.112\n",
       "3                  10         3             0.125               0.237\n",
       "4                  12         4             0.150               0.387\n",
       "5                  15         5             0.188               0.575\n",
       "6                  14         6             0.175               0.750\n",
       "7                   7         7             0.087               0.837\n",
       "8                   4         8             0.050               0.887\n",
       "9                   7         9             0.087               0.974\n",
       "10                  1        10             0.013               0.987\n",
       "11                  1        11             0.013               1.000"
      ]
     },
     "execution_count": 5,
     "metadata": {},
     "output_type": "execute_result"
    }
   ],
   "source": [
    "l_rel = np.array(l_rel).round(3)\n",
    "import pandas as pd\n",
    "x = pd.DataFrame({'Варіанта': range(len(l_keys)), 'Абсолютні частоти': l_values,\n",
    "                  'Відносні частоти': l_rel, \n",
    "                  'Накопичені частоти': cumulative_frequencies})\n",
    "x"
   ]
  },
  {
   "cell_type": "markdown",
   "metadata": {},
   "source": [
    "$x_i * n_i$"
   ]
  },
  {
   "cell_type": "code",
   "execution_count": 6,
   "metadata": {},
   "outputs": [
    {
     "data": {
      "text/plain": [
       "array([ 3,  4, 12, 40, 60, 90, 98, 56, 36, 70, 11, 12])"
      ]
     },
     "execution_count": 6,
     "metadata": {},
     "output_type": "execute_result"
    }
   ],
   "source": [
    "xi_ni = np.array(l_keys) * np.array(l_values)\n",
    "xi_ni"
   ]
  },
  {
   "cell_type": "markdown",
   "metadata": {},
   "source": [
    "$\\lambda$"
   ]
  },
  {
   "cell_type": "code",
   "execution_count": 7,
   "metadata": {},
   "outputs": [
    {
     "name": "stdout",
     "output_type": "stream",
     "text": [
      "492\n",
      "80\n"
     ]
    },
    {
     "data": {
      "text/plain": [
       "6.1500000000000004"
      ]
     },
     "execution_count": 7,
     "metadata": {},
     "output_type": "execute_result"
    }
   ],
   "source": [
    "print(xi_ni.sum())\n",
    "print(sum(l_values))\n",
    "lambdaa = xi_ni.sum() / sum(l_values)\n",
    "lambdaa"
   ]
  },
  {
   "cell_type": "markdown",
   "metadata": {},
   "source": [
    "$\\lambda_i$"
   ]
  },
  {
   "cell_type": "code",
   "execution_count": 8,
   "metadata": {},
   "outputs": [
    {
     "data": {
      "text/plain": [
       "array([  6.15000000e+00,   3.78225000e+01,   2.32608375e+02,\n",
       "         1.43054151e+03,   8.79783026e+03,   5.41066561e+04,\n",
       "         3.32755935e+05,   2.04644900e+06,   1.25856614e+07,\n",
       "         7.74018173e+07,   4.76021177e+08,   2.92753024e+09])"
      ]
     },
     "execution_count": 8,
     "metadata": {},
     "output_type": "execute_result"
    }
   ],
   "source": [
    "lambda_i = np.power(lambdaa, np.array(l_keys))\n",
    "lambda_i"
   ]
  },
  {
   "cell_type": "markdown",
   "metadata": {},
   "source": [
    "i!"
   ]
  },
  {
   "cell_type": "code",
   "execution_count": 9,
   "metadata": {},
   "outputs": [
    {
     "data": {
      "text/plain": [
       "array([        1,         2,         6,        24,       120,       720,\n",
       "            5040,     40320,    362880,   3628800,  39916800, 479001600])"
      ]
     },
     "execution_count": 9,
     "metadata": {},
     "output_type": "execute_result"
    }
   ],
   "source": [
    "from scipy.special import factorial\n",
    "factorials = factorial(np.array(l_keys), exact=True)\n",
    "factorials"
   ]
  },
  {
   "cell_type": "markdown",
   "metadata": {},
   "source": [
    "$e^h$"
   ]
  },
  {
   "cell_type": "code",
   "execution_count": 10,
   "metadata": {},
   "outputs": [
    {
     "data": {
      "text/plain": [
       "array([ 0.00213348,  0.00213348,  0.00213348,  0.00213348,  0.00213348,\n",
       "        0.00213348,  0.00213348,  0.00213348,  0.00213348,  0.00213348,\n",
       "        0.00213348,  0.00213348])"
      ]
     },
     "execution_count": 10,
     "metadata": {},
     "output_type": "execute_result"
    }
   ],
   "source": [
    "np.exp(1)\n",
    "e_h = np.power(np.full((len(l_keys)), np.exp(1)), lambdaa * -1)\n",
    "e_h"
   ]
  },
  {
   "cell_type": "markdown",
   "metadata": {},
   "source": [
    "$P_i$"
   ]
  },
  {
   "cell_type": "code",
   "execution_count": 11,
   "metadata": {},
   "outputs": [
    {
     "data": {
      "text/plain": [
       "array([ 0.01312091,  0.04034681,  0.08271095,  0.12716809,  0.15641675,\n",
       "        0.16032717,  0.14085887,  0.10828526,  0.07399493,  0.04550688,\n",
       "        0.02544248,  0.01303927])"
      ]
     },
     "execution_count": 11,
     "metadata": {},
     "output_type": "execute_result"
    }
   ],
   "source": [
    "Pi = lambda_i * e_h / factorials\n",
    "Pi"
   ]
  },
  {
   "cell_type": "markdown",
   "metadata": {},
   "source": [
    "Ni`=Ni*Pi"
   ]
  },
  {
   "cell_type": "code",
   "execution_count": 12,
   "metadata": {},
   "outputs": [
    {
     "name": "stderr",
     "output_type": "stream",
     "text": [
      "/usr/local/lib/python3.5/dist-packages/numpy/core/numeric.py:301: FutureWarning: in the future, full(12, array(80)) will return an array of dtype('int64')\n",
      "  format(shape, fill_value, array(fill_value).dtype), FutureWarning)\n"
     ]
    },
    {
     "data": {
      "text/plain": [
       "array([  1.04967303,   3.22774457,   6.61687637,  10.17344742,\n",
       "        12.51334032,  12.82617383,  11.26870986,   8.66282071,\n",
       "         5.91959415,   3.6405504 ,   2.03539863,   1.0431418 ])"
      ]
     },
     "execution_count": 12,
     "metadata": {},
     "output_type": "execute_result"
    }
   ],
   "source": [
    "Ni = np.full((len(l_keys)), np.array(sum(l_values))) * Pi\n",
    "Ni"
   ]
  },
  {
   "cell_type": "markdown",
   "metadata": {},
   "source": [
    "Ni-Ni`"
   ]
  },
  {
   "cell_type": "code",
   "execution_count": 13,
   "metadata": {},
   "outputs": [
    {
     "data": {
      "text/plain": [
       "array([ 1.95032697, -1.22774457, -2.61687637, -0.17344742, -0.51334032,\n",
       "        2.17382617,  2.73129014, -1.66282071, -1.91959415,  3.3594496 ,\n",
       "       -1.03539863, -0.0431418 ])"
      ]
     },
     "execution_count": 13,
     "metadata": {},
     "output_type": "execute_result"
    }
   ],
   "source": [
    "abs_Ni = np.array(l_values) - Ni\n",
    "abs_Ni"
   ]
  },
  {
   "cell_type": "markdown",
   "metadata": {},
   "source": [
    "Ni-Ni`*Ni-Ni`"
   ]
  },
  {
   "cell_type": "code",
   "execution_count": 14,
   "metadata": {},
   "outputs": [
    {
     "data": {
      "text/plain": [
       "array([  3.80377529e+00,   1.50735673e+00,   6.84804193e+00,\n",
       "         3.00840062e-02,   2.63518286e-01,   4.72552022e+00,\n",
       "         7.45994580e+00,   2.76497271e+00,   3.68484170e+00,\n",
       "         1.12859016e+01,   1.07205033e+00,   1.86121491e-03])"
      ]
     },
     "execution_count": 14,
     "metadata": {},
     "output_type": "execute_result"
    }
   ],
   "source": [
    "abs_Ni_2 = abs_Ni * abs_Ni\n",
    "abs_Ni_2"
   ]
  },
  {
   "cell_type": "markdown",
   "metadata": {},
   "source": [
    "Ni-Ni`*Ni-Ni`/n`i"
   ]
  },
  {
   "cell_type": "code",
   "execution_count": 15,
   "metadata": {},
   "outputs": [
    {
     "data": {
      "text/plain": [
       "array([  3.62377157e+00,   4.67000005e-01,   1.03493575e+00,\n",
       "         2.95711031e-03,   2.10589882e-02,   3.68427894e-01,\n",
       "         6.62005313e-01,   3.19176952e-01,   6.22482152e-01,\n",
       "         3.10005366e+00,   5.26702885e-01,   1.78423961e-03])"
      ]
     },
     "execution_count": 15,
     "metadata": {},
     "output_type": "execute_result"
    }
   ],
   "source": [
    "abs_Ni_2_Ni = abs_Ni_2 / Ni\n",
    "abs_Ni_2_Ni"
   ]
  },
  {
   "cell_type": "code",
   "execution_count": 16,
   "metadata": {},
   "outputs": [
    {
     "data": {
      "text/plain": [
       "10.750356519659301"
      ]
     },
     "execution_count": 16,
     "metadata": {},
     "output_type": "execute_result"
    }
   ],
   "source": [
    "abs_Ni_2_Ni.sum()"
   ]
  },
  {
   "cell_type": "code",
   "execution_count": 17,
   "metadata": {},
   "outputs": [
    {
     "data": {
      "text/plain": [
       "4.3751782598296503"
      ]
     },
     "execution_count": 17,
     "metadata": {},
     "output_type": "execute_result"
    }
   ],
   "source": [
    "import math\n",
    "(abs_Ni_2_Ni.sum() - 2) / math.sqrt(2 * 2)"
   ]
  },
  {
   "cell_type": "markdown",
   "metadata": {},
   "source": [
    "Вторинна таблиця розподілу: "
   ]
  },
  {
   "cell_type": "code",
   "execution_count": 18,
   "metadata": {},
   "outputs": [
    {
     "data": {
      "text/html": [
       "<div>\n",
       "<table border=\"1\" class=\"dataframe\">\n",
       "  <thead>\n",
       "    <tr style=\"text-align: right;\">\n",
       "      <th></th>\n",
       "      <th>$N_i*P_i$</th>\n",
       "      <th>$P_i$</th>\n",
       "      <th>$\\lambda^i$</th>\n",
       "      <th>$e^h$</th>\n",
       "      <th>$x_i * n_i$</th>\n",
       "      <th>Ni-Ni`</th>\n",
       "      <th>Ni-Ni`*Ni-Ni`</th>\n",
       "      <th>Ni-Ni`*Ni-Ni`/n`i</th>\n",
       "      <th>i!</th>\n",
       "      <th>Варіанта</th>\n",
       "    </tr>\n",
       "  </thead>\n",
       "  <tbody>\n",
       "    <tr>\n",
       "      <th>0</th>\n",
       "      <td>1.049673</td>\n",
       "      <td>0.013121</td>\n",
       "      <td>6.150000e+00</td>\n",
       "      <td>0.002133</td>\n",
       "      <td>3</td>\n",
       "      <td>1.950327</td>\n",
       "      <td>3.803775</td>\n",
       "      <td>3.623772</td>\n",
       "      <td>1</td>\n",
       "      <td>0</td>\n",
       "    </tr>\n",
       "    <tr>\n",
       "      <th>1</th>\n",
       "      <td>3.227745</td>\n",
       "      <td>0.040347</td>\n",
       "      <td>3.782250e+01</td>\n",
       "      <td>0.002133</td>\n",
       "      <td>4</td>\n",
       "      <td>-1.227745</td>\n",
       "      <td>1.507357</td>\n",
       "      <td>0.467000</td>\n",
       "      <td>2</td>\n",
       "      <td>1</td>\n",
       "    </tr>\n",
       "    <tr>\n",
       "      <th>2</th>\n",
       "      <td>6.616876</td>\n",
       "      <td>0.082711</td>\n",
       "      <td>2.326084e+02</td>\n",
       "      <td>0.002133</td>\n",
       "      <td>12</td>\n",
       "      <td>-2.616876</td>\n",
       "      <td>6.848042</td>\n",
       "      <td>1.034936</td>\n",
       "      <td>6</td>\n",
       "      <td>2</td>\n",
       "    </tr>\n",
       "    <tr>\n",
       "      <th>3</th>\n",
       "      <td>10.173447</td>\n",
       "      <td>0.127168</td>\n",
       "      <td>1.430542e+03</td>\n",
       "      <td>0.002133</td>\n",
       "      <td>40</td>\n",
       "      <td>-0.173447</td>\n",
       "      <td>0.030084</td>\n",
       "      <td>0.002957</td>\n",
       "      <td>24</td>\n",
       "      <td>3</td>\n",
       "    </tr>\n",
       "    <tr>\n",
       "      <th>4</th>\n",
       "      <td>12.513340</td>\n",
       "      <td>0.156417</td>\n",
       "      <td>8.797830e+03</td>\n",
       "      <td>0.002133</td>\n",
       "      <td>60</td>\n",
       "      <td>-0.513340</td>\n",
       "      <td>0.263518</td>\n",
       "      <td>0.021059</td>\n",
       "      <td>120</td>\n",
       "      <td>4</td>\n",
       "    </tr>\n",
       "    <tr>\n",
       "      <th>5</th>\n",
       "      <td>12.826174</td>\n",
       "      <td>0.160327</td>\n",
       "      <td>5.410666e+04</td>\n",
       "      <td>0.002133</td>\n",
       "      <td>90</td>\n",
       "      <td>2.173826</td>\n",
       "      <td>4.725520</td>\n",
       "      <td>0.368428</td>\n",
       "      <td>720</td>\n",
       "      <td>5</td>\n",
       "    </tr>\n",
       "    <tr>\n",
       "      <th>6</th>\n",
       "      <td>11.268710</td>\n",
       "      <td>0.140859</td>\n",
       "      <td>3.327559e+05</td>\n",
       "      <td>0.002133</td>\n",
       "      <td>98</td>\n",
       "      <td>2.731290</td>\n",
       "      <td>7.459946</td>\n",
       "      <td>0.662005</td>\n",
       "      <td>5040</td>\n",
       "      <td>6</td>\n",
       "    </tr>\n",
       "    <tr>\n",
       "      <th>7</th>\n",
       "      <td>8.662821</td>\n",
       "      <td>0.108285</td>\n",
       "      <td>2.046449e+06</td>\n",
       "      <td>0.002133</td>\n",
       "      <td>56</td>\n",
       "      <td>-1.662821</td>\n",
       "      <td>2.764973</td>\n",
       "      <td>0.319177</td>\n",
       "      <td>40320</td>\n",
       "      <td>7</td>\n",
       "    </tr>\n",
       "    <tr>\n",
       "      <th>8</th>\n",
       "      <td>5.919594</td>\n",
       "      <td>0.073995</td>\n",
       "      <td>1.258566e+07</td>\n",
       "      <td>0.002133</td>\n",
       "      <td>36</td>\n",
       "      <td>-1.919594</td>\n",
       "      <td>3.684842</td>\n",
       "      <td>0.622482</td>\n",
       "      <td>362880</td>\n",
       "      <td>8</td>\n",
       "    </tr>\n",
       "    <tr>\n",
       "      <th>9</th>\n",
       "      <td>3.640550</td>\n",
       "      <td>0.045507</td>\n",
       "      <td>7.740182e+07</td>\n",
       "      <td>0.002133</td>\n",
       "      <td>70</td>\n",
       "      <td>3.359450</td>\n",
       "      <td>11.285902</td>\n",
       "      <td>3.100054</td>\n",
       "      <td>3628800</td>\n",
       "      <td>9</td>\n",
       "    </tr>\n",
       "    <tr>\n",
       "      <th>10</th>\n",
       "      <td>2.035399</td>\n",
       "      <td>0.025442</td>\n",
       "      <td>4.760212e+08</td>\n",
       "      <td>0.002133</td>\n",
       "      <td>11</td>\n",
       "      <td>-1.035399</td>\n",
       "      <td>1.072050</td>\n",
       "      <td>0.526703</td>\n",
       "      <td>39916800</td>\n",
       "      <td>10</td>\n",
       "    </tr>\n",
       "    <tr>\n",
       "      <th>11</th>\n",
       "      <td>1.043142</td>\n",
       "      <td>0.013039</td>\n",
       "      <td>2.927530e+09</td>\n",
       "      <td>0.002133</td>\n",
       "      <td>12</td>\n",
       "      <td>-0.043142</td>\n",
       "      <td>0.001861</td>\n",
       "      <td>0.001784</td>\n",
       "      <td>479001600</td>\n",
       "      <td>11</td>\n",
       "    </tr>\n",
       "  </tbody>\n",
       "</table>\n",
       "</div>"
      ],
      "text/plain": [
       "    $N_i*P_i$     $P_i$   $\\lambda^i$     $e^h$  $x_i * n_i$    Ni-Ni`  \\\n",
       "0    1.049673  0.013121  6.150000e+00  0.002133            3  1.950327   \n",
       "1    3.227745  0.040347  3.782250e+01  0.002133            4 -1.227745   \n",
       "2    6.616876  0.082711  2.326084e+02  0.002133           12 -2.616876   \n",
       "3   10.173447  0.127168  1.430542e+03  0.002133           40 -0.173447   \n",
       "4   12.513340  0.156417  8.797830e+03  0.002133           60 -0.513340   \n",
       "5   12.826174  0.160327  5.410666e+04  0.002133           90  2.173826   \n",
       "6   11.268710  0.140859  3.327559e+05  0.002133           98  2.731290   \n",
       "7    8.662821  0.108285  2.046449e+06  0.002133           56 -1.662821   \n",
       "8    5.919594  0.073995  1.258566e+07  0.002133           36 -1.919594   \n",
       "9    3.640550  0.045507  7.740182e+07  0.002133           70  3.359450   \n",
       "10   2.035399  0.025442  4.760212e+08  0.002133           11 -1.035399   \n",
       "11   1.043142  0.013039  2.927530e+09  0.002133           12 -0.043142   \n",
       "\n",
       "    Ni-Ni`*Ni-Ni`  Ni-Ni`*Ni-Ni`/n`i         i!  Варіанта  \n",
       "0        3.803775           3.623772          1         0  \n",
       "1        1.507357           0.467000          2         1  \n",
       "2        6.848042           1.034936          6         2  \n",
       "3        0.030084           0.002957         24         3  \n",
       "4        0.263518           0.021059        120         4  \n",
       "5        4.725520           0.368428        720         5  \n",
       "6        7.459946           0.662005       5040         6  \n",
       "7        2.764973           0.319177      40320         7  \n",
       "8        3.684842           0.622482     362880         8  \n",
       "9       11.285902           3.100054    3628800         9  \n",
       "10       1.072050           0.526703   39916800        10  \n",
       "11       0.001861           0.001784  479001600        11  "
      ]
     },
     "execution_count": 18,
     "metadata": {},
     "output_type": "execute_result"
    }
   ],
   "source": [
    "x = pd.DataFrame({'Варіанта': range(len(l_keys)), '$x_i * n_i$': xi_ni, '$\\lambda^i$': lambda_i, \n",
    "                  'i!': factorials, '$e^h$': e_h, '$P_i$': Pi, \"$N_i*P_i$\": Ni,\n",
    "                  \"Ni-Ni`\": abs_Ni, \"Ni-Ni`*Ni-Ni`\": abs_Ni_2, \"Ni-Ni`*Ni-Ni`/n`i\": abs_Ni_2_Ni})\n",
    "x"
   ]
  },
  {
   "cell_type": "code",
   "execution_count": 22,
   "metadata": {},
   "outputs": [
    {
     "data": {
      "image/png": "[encoded data removed]",
      "text/plain": [
       "<matplotlib.figure.Figure at 0x7f352a136128>"
      ]
     },
     "metadata": {},
     "output_type": "display_data"
    }
   ],
   "source": [
    "import matplotlib.pyplot as plt\n",
    "plt.rcParams['figure.figsize'] = 10, 5\n",
    "plt.xlim(0, len(l_keys))\n",
    "plt.ylim(0, max(Ni) + 5)\n",
    "plt.plot(l_keys, l_values)\n",
    "plt.plot(l_keys, Ni)\n",
    "plt.show()"
   ]
  }
 ],
 "metadata": {
  "kernelspec": {
   "display_name": "Python 3",
   "language": "python",
   "name": "python3"
  },
  "language_info": {
   "codemirror_mode": {
    "name": "ipython",
    "version": 3
   },
   "file_extension": ".py",
   "mimetype": "text/x-python",
   "name": "python",
   "nbconvert_exporter": "python",
   "pygments_lexer": "ipython3",
   "version": "3.5.2"
  }
 },
 "nbformat": 4,
 "nbformat_minor": 2
}
