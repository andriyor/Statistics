{
 "cells": [
  {
   "cell_type": "markdown",
   "metadata": {},
   "source": [
    "# Лабораторна робота 3"
   ]
  },
  {
   "cell_type": "markdown",
   "metadata": {},
   "source": [
    "З генеральної сукупності взято вибірку:"
   ]
  },
  {
   "cell_type": "code",
   "execution_count": 1,
   "metadata": {},
   "outputs": [
    {
     "data": {
      "text/plain": [
       "array([ 4, 10,  7,  6,  3,  7,  8,  7,  4,  7, 10,  7,  3,  9,  3,  1,  5,\n",
       "        8, 10, 11,  6,  5,  7,  6,  3,  8,  4,  3,  8,  4, 10,  6,  8,  7,\n",
       "        8,  7,  7,  7,  4,  6,  7, 10,  4,  4,  0,  5,  4,  4,  8,  5,  5,\n",
       "       10,  7,  3,  8,  5,  6,  6,  6,  3,  5,  7,  8,  5,  7, 10,  9, 10,\n",
       "        8,  2,  3,  6,  9])"
      ]
     },
     "execution_count": 1,
     "metadata": {},
     "output_type": "execute_result"
    }
   ],
   "source": [
    "import numpy as np\n",
    "\n",
    "l = \"\"\"\n",
    "4 10 7  6  3  7  8  7 4 7 10  7 3 9 3\n",
    "1  5 8 10 11  6  5  7 6 3  8  4 3 8 4\n",
    "10 6 8  7  8  7  7  7 4 6  7 10 4 4 0\n",
    "5  4 4  8  5  5 10  7 3 8  5  6 6 6 3\n",
    "5  7 8  5  7 10  9 10 8 2  3  6 9\"\"\"\n",
    "a = [int(s) for s in l.split()]\n",
    "an = np.array(a)\n",
    "an"
   ]
  },
  {
   "cell_type": "markdown",
   "metadata": {},
   "source": [
    "абсолютні частоти"
   ]
  },
  {
   "cell_type": "code",
   "execution_count": 2,
   "metadata": {},
   "outputs": [
    {
     "name": "stdout",
     "output_type": "stream",
     "text": [
      "[0, 1, 2, 3, 4, 5, 6, 7, 8, 9, 10, 11]\n",
      "[1, 1, 1, 8, 9, 8, 9, 14, 10, 3, 8, 1]\n"
     ]
    }
   ],
   "source": [
    "import collections\n",
    "counter = collections.Counter(an)\n",
    "l_keys = list(counter.keys())\n",
    "l_values = list(counter.values()) \n",
    "print(l_keys)\n",
    "print(l_values)"
   ]
  },
  {
   "cell_type": "markdown",
   "metadata": {},
   "source": [
    "Варіаційний ряд відносних частот"
   ]
  },
  {
   "cell_type": "code",
   "execution_count": 3,
   "metadata": {},
   "outputs": [
    {
     "name": "stdout",
     "output_type": "stream",
     "text": [
      "[0, 1, 2, 3, 4, 5, 6, 7, 8, 9, 10, 11]\n",
      "[1, 1, 1, 8, 9, 8, 9, 14, 10, 3, 8, 1]\n",
      "[0.014, 0.014, 0.014, 0.11, 0.123, 0.11, 0.123, 0.192, 0.137, 0.041, 0.11, 0.014]\n"
     ]
    }
   ],
   "source": [
    "print(l_keys)\n",
    "print(l_values)\n",
    "l_rel =[]\n",
    "for i in l_values:\n",
    "    l_rel.append(round(i / len(an), 3))\n",
    "print(l_rel)"
   ]
  },
  {
   "cell_type": "markdown",
   "metadata": {},
   "source": [
    "Накопичені частоти"
   ]
  },
  {
   "cell_type": "code",
   "execution_count": 4,
   "metadata": {},
   "outputs": [
    {
     "data": {
      "text/plain": [
       "array([ 0.014,  0.028,  0.042,  0.152,  0.275,  0.385,  0.508,  0.7  ,\n",
       "        0.837,  0.878,  0.988,  1.002])"
      ]
     },
     "execution_count": 4,
     "metadata": {},
     "output_type": "execute_result"
    }
   ],
   "source": [
    "cumulative_frequencies = np.cumsum(l_rel).round(3)\n",
    "cumulative_frequencies"
   ]
  },
  {
   "cell_type": "markdown",
   "metadata": {},
   "source": [
    "Складемо другу статистичну таблицю"
   ]
  },
  {
   "cell_type": "code",
   "execution_count": 5,
   "metadata": {
    "scrolled": true
   },
   "outputs": [
    {
     "data": {
      "text/html": [
       "<div>\n",
       "<table border=\"1\" class=\"dataframe\">\n",
       "  <thead>\n",
       "    <tr style=\"text-align: right;\">\n",
       "      <th></th>\n",
       "      <th>Абсолютні частоти</th>\n",
       "      <th>Варіанта</th>\n",
       "      <th>Відносні частоти</th>\n",
       "      <th>Накопичені частоти</th>\n",
       "    </tr>\n",
       "  </thead>\n",
       "  <tbody>\n",
       "    <tr>\n",
       "      <th>0</th>\n",
       "      <td>1</td>\n",
       "      <td>0</td>\n",
       "      <td>0.014</td>\n",
       "      <td>0.014</td>\n",
       "    </tr>\n",
       "    <tr>\n",
       "      <th>1</th>\n",
       "      <td>1</td>\n",
       "      <td>1</td>\n",
       "      <td>0.014</td>\n",
       "      <td>0.028</td>\n",
       "    </tr>\n",
       "    <tr>\n",
       "      <th>2</th>\n",
       "      <td>1</td>\n",
       "      <td>2</td>\n",
       "      <td>0.014</td>\n",
       "      <td>0.042</td>\n",
       "    </tr>\n",
       "    <tr>\n",
       "      <th>3</th>\n",
       "      <td>8</td>\n",
       "      <td>3</td>\n",
       "      <td>0.110</td>\n",
       "      <td>0.152</td>\n",
       "    </tr>\n",
       "    <tr>\n",
       "      <th>4</th>\n",
       "      <td>9</td>\n",
       "      <td>4</td>\n",
       "      <td>0.123</td>\n",
       "      <td>0.275</td>\n",
       "    </tr>\n",
       "    <tr>\n",
       "      <th>5</th>\n",
       "      <td>8</td>\n",
       "      <td>5</td>\n",
       "      <td>0.110</td>\n",
       "      <td>0.385</td>\n",
       "    </tr>\n",
       "    <tr>\n",
       "      <th>6</th>\n",
       "      <td>9</td>\n",
       "      <td>6</td>\n",
       "      <td>0.123</td>\n",
       "      <td>0.508</td>\n",
       "    </tr>\n",
       "    <tr>\n",
       "      <th>7</th>\n",
       "      <td>14</td>\n",
       "      <td>7</td>\n",
       "      <td>0.192</td>\n",
       "      <td>0.700</td>\n",
       "    </tr>\n",
       "    <tr>\n",
       "      <th>8</th>\n",
       "      <td>10</td>\n",
       "      <td>8</td>\n",
       "      <td>0.137</td>\n",
       "      <td>0.837</td>\n",
       "    </tr>\n",
       "    <tr>\n",
       "      <th>9</th>\n",
       "      <td>3</td>\n",
       "      <td>9</td>\n",
       "      <td>0.041</td>\n",
       "      <td>0.878</td>\n",
       "    </tr>\n",
       "    <tr>\n",
       "      <th>10</th>\n",
       "      <td>8</td>\n",
       "      <td>10</td>\n",
       "      <td>0.110</td>\n",
       "      <td>0.988</td>\n",
       "    </tr>\n",
       "    <tr>\n",
       "      <th>11</th>\n",
       "      <td>1</td>\n",
       "      <td>11</td>\n",
       "      <td>0.014</td>\n",
       "      <td>1.002</td>\n",
       "    </tr>\n",
       "  </tbody>\n",
       "</table>\n",
       "</div>"
      ],
      "text/plain": [
       "    Абсолютні частоти  Варіанта  Відносні частоти  Накопичені частоти\n",
       "0                   1         0             0.014               0.014\n",
       "1                   1         1             0.014               0.028\n",
       "2                   1         2             0.014               0.042\n",
       "3                   8         3             0.110               0.152\n",
       "4                   9         4             0.123               0.275\n",
       "5                   8         5             0.110               0.385\n",
       "6                   9         6             0.123               0.508\n",
       "7                  14         7             0.192               0.700\n",
       "8                  10         8             0.137               0.837\n",
       "9                   3         9             0.041               0.878\n",
       "10                  8        10             0.110               0.988\n",
       "11                  1        11             0.014               1.002"
      ]
     },
     "execution_count": 5,
     "metadata": {},
     "output_type": "execute_result"
    }
   ],
   "source": [
    "l_rel = np.array(l_rel).round(3)\n",
    "import pandas as pd\n",
    "x = pd.DataFrame({'Варіанта': range(len(l_keys)), 'Абсолютні частоти': l_values,\n",
    "                  'Відносні частоти': l_rel, \n",
    "                  'Накопичені частоти': cumulative_frequencies})\n",
    "x"
   ]
  },
  {
   "cell_type": "markdown",
   "metadata": {},
   "source": [
    "$x_i * n_i$"
   ]
  },
  {
   "cell_type": "code",
   "execution_count": 6,
   "metadata": {},
   "outputs": [
    {
     "data": {
      "text/plain": [
       "array([ 0,  1,  2, 24, 36, 40, 54, 98, 80, 27, 80, 11])"
      ]
     },
     "execution_count": 6,
     "metadata": {},
     "output_type": "execute_result"
    }
   ],
   "source": [
    "xi_ni = np.array(l_keys) * np.array(l_values)\n",
    "xi_ni"
   ]
  },
  {
   "cell_type": "markdown",
   "metadata": {},
   "source": [
    "$\\lambda$"
   ]
  },
  {
   "cell_type": "code",
   "execution_count": 7,
   "metadata": {},
   "outputs": [
    {
     "name": "stdout",
     "output_type": "stream",
     "text": [
      "453\n",
      "73\n"
     ]
    },
    {
     "data": {
      "text/plain": [
       "6.2054794520547949"
      ]
     },
     "execution_count": 7,
     "metadata": {},
     "output_type": "execute_result"
    }
   ],
   "source": [
    "print(xi_ni.sum())\n",
    "print(sum(l_values))\n",
    "lambdaa = xi_ni.sum() / sum(l_values)\n",
    "lambdaa"
   ]
  },
  {
   "cell_type": "markdown",
   "metadata": {},
   "source": [
    "$\\lambda_i$"
   ]
  },
  {
   "cell_type": "code",
   "execution_count": 8,
   "metadata": {},
   "outputs": [
    {
     "data": {
      "text/plain": [
       "array([  1.00000000e+00,   6.20547945e+00,   3.85079752e+01,\n",
       "         2.38960449e+02,   1.48286416e+03,   9.20188305e+03,\n",
       "         5.71020962e+04,   3.54345885e+05,   2.19888611e+06,\n",
       "         1.36451425e+07,   8.46746517e+07,   5.25446811e+08])"
      ]
     },
     "execution_count": 8,
     "metadata": {},
     "output_type": "execute_result"
    }
   ],
   "source": [
    "lambda_i = np.power(lambdaa, np.array(l_keys))\n",
    "lambda_i"
   ]
  },
  {
   "cell_type": "markdown",
   "metadata": {},
   "source": [
    "i!"
   ]
  },
  {
   "cell_type": "code",
   "execution_count": 9,
   "metadata": {},
   "outputs": [
    {
     "data": {
      "text/plain": [
       "array([       1,        1,        2,        6,       24,      120,\n",
       "            720,     5040,    40320,   362880,  3628800, 39916800])"
      ]
     },
     "execution_count": 9,
     "metadata": {},
     "output_type": "execute_result"
    }
   ],
   "source": [
    "from scipy.special import factorial\n",
    "factorials = factorial(np.array(l_keys), exact=True)\n",
    "factorials"
   ]
  },
  {
   "cell_type": "markdown",
   "metadata": {},
   "source": [
    "$e^h$"
   ]
  },
  {
   "cell_type": "code",
   "execution_count": 10,
   "metadata": {},
   "outputs": [
    {
     "data": {
      "text/plain": [
       "array([ 0.00201834,  0.00201834,  0.00201834,  0.00201834,  0.00201834,\n",
       "        0.00201834,  0.00201834,  0.00201834,  0.00201834,  0.00201834,\n",
       "        0.00201834,  0.00201834])"
      ]
     },
     "execution_count": 10,
     "metadata": {},
     "output_type": "execute_result"
    }
   ],
   "source": [
    "np.exp(1)\n",
    "e_h = np.power(np.full((len(l_keys)), np.exp(1)), lambdaa * -1)\n",
    "e_h"
   ]
  },
  {
   "cell_type": "markdown",
   "metadata": {},
   "source": [
    "$P_i$"
   ]
  },
  {
   "cell_type": "code",
   "execution_count": 11,
   "metadata": {},
   "outputs": [
    {
     "data": {
      "text/plain": [
       "array([ 0.00201834,  0.01252477,  0.03886111,  0.08038394,  0.12470522,\n",
       "        0.15477114,  0.16007152,  0.14190293,  0.11007197,  0.07589437,\n",
       "        0.0470961 ,  0.02656853])"
      ]
     },
     "execution_count": 11,
     "metadata": {},
     "output_type": "execute_result"
    }
   ],
   "source": [
    "Pi = lambda_i * e_h / factorials\n",
    "Pi"
   ]
  },
  {
   "cell_type": "markdown",
   "metadata": {},
   "source": [
    "Ni`=Ni*Pi"
   ]
  },
  {
   "cell_type": "code",
   "execution_count": 12,
   "metadata": {},
   "outputs": [
    {
     "name": "stderr",
     "output_type": "stream",
     "text": [
      "/usr/local/lib/python3.5/dist-packages/numpy/core/numeric.py:301: FutureWarning: in the future, full(12, array(73)) will return an array of dtype('int64')\n",
      "  format(shape, fill_value, array(fill_value).dtype), FutureWarning)\n"
     ]
    },
    {
     "data": {
      "text/plain": [
       "array([  0.14733888,   0.91430842,   2.83686105,   5.86802765,\n",
       "         9.10348126,  11.29829318,  11.68522103,  10.35891414,\n",
       "         8.0352536 ,   5.54028901,   3.43801496,   1.93950284])"
      ]
     },
     "execution_count": 12,
     "metadata": {},
     "output_type": "execute_result"
    }
   ],
   "source": [
    "Ni = np.full((len(l_keys)), np.array(sum(l_values))) * Pi\n",
    "Ni"
   ]
  },
  {
   "cell_type": "markdown",
   "metadata": {},
   "source": [
    "Ni-Ni`"
   ]
  },
  {
   "cell_type": "code",
   "execution_count": 13,
   "metadata": {},
   "outputs": [
    {
     "data": {
      "text/plain": [
       "array([ 0.85266112,  0.08569158, -1.83686105,  2.13197235, -0.10348126,\n",
       "       -3.29829318, -2.68522103,  3.64108586,  1.9647464 , -2.54028901,\n",
       "        4.56198504, -0.93950284])"
      ]
     },
     "execution_count": 13,
     "metadata": {},
     "output_type": "execute_result"
    }
   ],
   "source": [
    "abs_Ni = np.array(l_values) - Ni\n",
    "abs_Ni"
   ]
  },
  {
   "cell_type": "markdown",
   "metadata": {},
   "source": [
    "Ni-Ni`*Ni-Ni`"
   ]
  },
  {
   "cell_type": "code",
   "execution_count": 14,
   "metadata": {},
   "outputs": [
    {
     "data": {
      "text/plain": [
       "array([  7.27030978e-01,   7.34304719e-03,   3.37405852e+00,\n",
       "         4.54530609e+00,   1.07083706e-02,   1.08787379e+01,\n",
       "         7.21041195e+00,   1.32575063e+01,   3.86022840e+00,\n",
       "         6.45306828e+00,   2.08117075e+01,   8.82665582e-01])"
      ]
     },
     "execution_count": 14,
     "metadata": {},
     "output_type": "execute_result"
    }
   ],
   "source": [
    "abs_Ni_2 = abs_Ni * abs_Ni\n",
    "abs_Ni_2"
   ]
  },
  {
   "cell_type": "markdown",
   "metadata": {},
   "source": [
    "Ni-Ni`*Ni-Ni`/n`i"
   ]
  },
  {
   "cell_type": "code",
   "execution_count": 15,
   "metadata": {},
   "outputs": [
    {
     "data": {
      "text/plain": [
       "array([  4.93441350e+00,   8.03125843e-03,   1.18936334e+00,\n",
       "         7.74588389e-01,   1.17629402e-03,   9.62865604e-01,\n",
       "         6.17053964e-01,   1.27981621e+00,   4.80411521e-01,\n",
       "         1.16475300e+00,   6.05340805e+00,   4.55098886e-01])"
      ]
     },
     "execution_count": 15,
     "metadata": {},
     "output_type": "execute_result"
    }
   ],
   "source": [
    "abs_Ni_2_Ni = abs_Ni_2 / Ni\n",
    "abs_Ni_2_Ni"
   ]
  },
  {
   "cell_type": "code",
   "execution_count": 16,
   "metadata": {},
   "outputs": [
    {
     "data": {
      "text/plain": [
       "17.920980018096632"
      ]
     },
     "execution_count": 16,
     "metadata": {},
     "output_type": "execute_result"
    }
   ],
   "source": [
    "abs_Ni_2_Ni.sum()"
   ]
  },
  {
   "cell_type": "code",
   "execution_count": 17,
   "metadata": {},
   "outputs": [
    {
     "data": {
      "text/plain": [
       "7.9604900090483159"
      ]
     },
     "execution_count": 17,
     "metadata": {},
     "output_type": "execute_result"
    }
   ],
   "source": [
    "import math\n",
    "(abs_Ni_2_Ni.sum() - 2) / math.sqrt(2 * 2)"
   ]
  },
  {
   "cell_type": "markdown",
   "metadata": {},
   "source": [
    "Вторинна таблиця розподілу: "
   ]
  },
  {
   "cell_type": "code",
   "execution_count": 18,
   "metadata": {},
   "outputs": [
    {
     "data": {
      "text/html": [
       "<div>\n",
       "<table border=\"1\" class=\"dataframe\">\n",
       "  <thead>\n",
       "    <tr style=\"text-align: right;\">\n",
       "      <th></th>\n",
       "      <th>$N_i*P_i$</th>\n",
       "      <th>$P_i$</th>\n",
       "      <th>$\\lambda^i$</th>\n",
       "      <th>$e^h$</th>\n",
       "      <th>$x_i * n_i$</th>\n",
       "      <th>Ni-Ni`</th>\n",
       "      <th>Ni-Ni`*Ni-Ni`</th>\n",
       "      <th>Ni-Ni`*Ni-Ni`/n`i</th>\n",
       "      <th>i!</th>\n",
       "      <th>Варіанта</th>\n",
       "    </tr>\n",
       "  </thead>\n",
       "  <tbody>\n",
       "    <tr>\n",
       "      <th>0</th>\n",
       "      <td>0.147339</td>\n",
       "      <td>0.002018</td>\n",
       "      <td>1.000000e+00</td>\n",
       "      <td>0.002018</td>\n",
       "      <td>0</td>\n",
       "      <td>0.852661</td>\n",
       "      <td>0.727031</td>\n",
       "      <td>4.934413</td>\n",
       "      <td>1</td>\n",
       "      <td>0</td>\n",
       "    </tr>\n",
       "    <tr>\n",
       "      <th>1</th>\n",
       "      <td>0.914308</td>\n",
       "      <td>0.012525</td>\n",
       "      <td>6.205479e+00</td>\n",
       "      <td>0.002018</td>\n",
       "      <td>1</td>\n",
       "      <td>0.085692</td>\n",
       "      <td>0.007343</td>\n",
       "      <td>0.008031</td>\n",
       "      <td>1</td>\n",
       "      <td>1</td>\n",
       "    </tr>\n",
       "    <tr>\n",
       "      <th>2</th>\n",
       "      <td>2.836861</td>\n",
       "      <td>0.038861</td>\n",
       "      <td>3.850798e+01</td>\n",
       "      <td>0.002018</td>\n",
       "      <td>2</td>\n",
       "      <td>-1.836861</td>\n",
       "      <td>3.374059</td>\n",
       "      <td>1.189363</td>\n",
       "      <td>2</td>\n",
       "      <td>2</td>\n",
       "    </tr>\n",
       "    <tr>\n",
       "      <th>3</th>\n",
       "      <td>5.868028</td>\n",
       "      <td>0.080384</td>\n",
       "      <td>2.389604e+02</td>\n",
       "      <td>0.002018</td>\n",
       "      <td>24</td>\n",
       "      <td>2.131972</td>\n",
       "      <td>4.545306</td>\n",
       "      <td>0.774588</td>\n",
       "      <td>6</td>\n",
       "      <td>3</td>\n",
       "    </tr>\n",
       "    <tr>\n",
       "      <th>4</th>\n",
       "      <td>9.103481</td>\n",
       "      <td>0.124705</td>\n",
       "      <td>1.482864e+03</td>\n",
       "      <td>0.002018</td>\n",
       "      <td>36</td>\n",
       "      <td>-0.103481</td>\n",
       "      <td>0.010708</td>\n",
       "      <td>0.001176</td>\n",
       "      <td>24</td>\n",
       "      <td>4</td>\n",
       "    </tr>\n",
       "    <tr>\n",
       "      <th>5</th>\n",
       "      <td>11.298293</td>\n",
       "      <td>0.154771</td>\n",
       "      <td>9.201883e+03</td>\n",
       "      <td>0.002018</td>\n",
       "      <td>40</td>\n",
       "      <td>-3.298293</td>\n",
       "      <td>10.878738</td>\n",
       "      <td>0.962866</td>\n",
       "      <td>120</td>\n",
       "      <td>5</td>\n",
       "    </tr>\n",
       "    <tr>\n",
       "      <th>6</th>\n",
       "      <td>11.685221</td>\n",
       "      <td>0.160072</td>\n",
       "      <td>5.710210e+04</td>\n",
       "      <td>0.002018</td>\n",
       "      <td>54</td>\n",
       "      <td>-2.685221</td>\n",
       "      <td>7.210412</td>\n",
       "      <td>0.617054</td>\n",
       "      <td>720</td>\n",
       "      <td>6</td>\n",
       "    </tr>\n",
       "    <tr>\n",
       "      <th>7</th>\n",
       "      <td>10.358914</td>\n",
       "      <td>0.141903</td>\n",
       "      <td>3.543459e+05</td>\n",
       "      <td>0.002018</td>\n",
       "      <td>98</td>\n",
       "      <td>3.641086</td>\n",
       "      <td>13.257506</td>\n",
       "      <td>1.279816</td>\n",
       "      <td>5040</td>\n",
       "      <td>7</td>\n",
       "    </tr>\n",
       "    <tr>\n",
       "      <th>8</th>\n",
       "      <td>8.035254</td>\n",
       "      <td>0.110072</td>\n",
       "      <td>2.198886e+06</td>\n",
       "      <td>0.002018</td>\n",
       "      <td>80</td>\n",
       "      <td>1.964746</td>\n",
       "      <td>3.860228</td>\n",
       "      <td>0.480412</td>\n",
       "      <td>40320</td>\n",
       "      <td>8</td>\n",
       "    </tr>\n",
       "    <tr>\n",
       "      <th>9</th>\n",
       "      <td>5.540289</td>\n",
       "      <td>0.075894</td>\n",
       "      <td>1.364514e+07</td>\n",
       "      <td>0.002018</td>\n",
       "      <td>27</td>\n",
       "      <td>-2.540289</td>\n",
       "      <td>6.453068</td>\n",
       "      <td>1.164753</td>\n",
       "      <td>362880</td>\n",
       "      <td>9</td>\n",
       "    </tr>\n",
       "    <tr>\n",
       "      <th>10</th>\n",
       "      <td>3.438015</td>\n",
       "      <td>0.047096</td>\n",
       "      <td>8.467465e+07</td>\n",
       "      <td>0.002018</td>\n",
       "      <td>80</td>\n",
       "      <td>4.561985</td>\n",
       "      <td>20.811707</td>\n",
       "      <td>6.053408</td>\n",
       "      <td>3628800</td>\n",
       "      <td>10</td>\n",
       "    </tr>\n",
       "    <tr>\n",
       "      <th>11</th>\n",
       "      <td>1.939503</td>\n",
       "      <td>0.026569</td>\n",
       "      <td>5.254468e+08</td>\n",
       "      <td>0.002018</td>\n",
       "      <td>11</td>\n",
       "      <td>-0.939503</td>\n",
       "      <td>0.882666</td>\n",
       "      <td>0.455099</td>\n",
       "      <td>39916800</td>\n",
       "      <td>11</td>\n",
       "    </tr>\n",
       "  </tbody>\n",
       "</table>\n",
       "</div>"
      ],
      "text/plain": [
       "    $N_i*P_i$     $P_i$   $\\lambda^i$     $e^h$  $x_i * n_i$    Ni-Ni`  \\\n",
       "0    0.147339  0.002018  1.000000e+00  0.002018            0  0.852661   \n",
       "1    0.914308  0.012525  6.205479e+00  0.002018            1  0.085692   \n",
       "2    2.836861  0.038861  3.850798e+01  0.002018            2 -1.836861   \n",
       "3    5.868028  0.080384  2.389604e+02  0.002018           24  2.131972   \n",
       "4    9.103481  0.124705  1.482864e+03  0.002018           36 -0.103481   \n",
       "5   11.298293  0.154771  9.201883e+03  0.002018           40 -3.298293   \n",
       "6   11.685221  0.160072  5.710210e+04  0.002018           54 -2.685221   \n",
       "7   10.358914  0.141903  3.543459e+05  0.002018           98  3.641086   \n",
       "8    8.035254  0.110072  2.198886e+06  0.002018           80  1.964746   \n",
       "9    5.540289  0.075894  1.364514e+07  0.002018           27 -2.540289   \n",
       "10   3.438015  0.047096  8.467465e+07  0.002018           80  4.561985   \n",
       "11   1.939503  0.026569  5.254468e+08  0.002018           11 -0.939503   \n",
       "\n",
       "    Ni-Ni`*Ni-Ni`  Ni-Ni`*Ni-Ni`/n`i        i!  Варіанта  \n",
       "0        0.727031           4.934413         1         0  \n",
       "1        0.007343           0.008031         1         1  \n",
       "2        3.374059           1.189363         2         2  \n",
       "3        4.545306           0.774588         6         3  \n",
       "4        0.010708           0.001176        24         4  \n",
       "5       10.878738           0.962866       120         5  \n",
       "6        7.210412           0.617054       720         6  \n",
       "7       13.257506           1.279816      5040         7  \n",
       "8        3.860228           0.480412     40320         8  \n",
       "9        6.453068           1.164753    362880         9  \n",
       "10      20.811707           6.053408   3628800        10  \n",
       "11       0.882666           0.455099  39916800        11  "
      ]
     },
     "execution_count": 18,
     "metadata": {},
     "output_type": "execute_result"
    }
   ],
   "source": [
    "x = pd.DataFrame({'Варіанта': range(len(l_keys)), '$x_i * n_i$': xi_ni, '$\\lambda^i$': lambda_i, \n",
    "                  'i!': factorials, '$e^h$': e_h, '$P_i$': Pi, \"$N_i*P_i$\": Ni,\n",
    "                  \"Ni-Ni`\": abs_Ni, \"Ni-Ni`*Ni-Ni`\": abs_Ni_2, \"Ni-Ni`*Ni-Ni`/n`i\": abs_Ni_2_Ni})\n",
    "x"
   ]
  },
  {
   "cell_type": "code",
   "execution_count": 21,
   "metadata": {},
   "outputs": [
    {
     "data": {
      "image/png": "[encoded data removed]",
      "text/plain": [
       "<matplotlib.figure.Figure at 0x7fdf0815a4e0>"
      ]
     },
     "metadata": {},
     "output_type": "display_data"
    }
   ],
   "source": [
    "import matplotlib.pyplot as plt\n",
    "plt.rcParams['figure.figsize'] = 10, 5\n",
    "plt.xlim(0, len(l_keys) - 1)\n",
    "plt.ylim(0, max(Ni) + 5)\n",
    "plt.plot(l_keys, l_values)\n",
    "plt.plot(l_keys, Ni)\n",
    "plt.show()"
   ]
  }
 ],
 "metadata": {
  "kernelspec": {
   "display_name": "Python 3",
   "language": "python",
   "name": "python3"
  },
  "language_info": {
   "codemirror_mode": {
    "name": "ipython",
    "version": 3
   },
   "file_extension": ".py",
   "mimetype": "text/x-python",
   "name": "python",
   "nbconvert_exporter": "python",
   "pygments_lexer": "ipython3",
   "version": "3.5.2"
  }
 },
 "nbformat": 4,
 "nbformat_minor": 2
}
