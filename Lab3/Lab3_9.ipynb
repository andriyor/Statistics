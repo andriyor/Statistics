{
 "cells": [
  {
   "cell_type": "markdown",
   "metadata": {},
   "source": [
    "# Лабораторна робота 3"
   ]
  },
  {
   "cell_type": "markdown",
   "metadata": {},
   "source": [
    "З генеральної сукупності взято вибірку:"
   ]
  },
  {
   "cell_type": "code",
   "execution_count": 1,
   "metadata": {},
   "outputs": [
    {
     "data": {
      "text/plain": [
       "array([2, 1, 2, 3, 1, 1, 0, 2, 2, 4, 3, 3, 0, 3, 0, 3, 2, 3, 1, 2, 2, 3, 0,\n",
       "       2, 3, 0, 2, 3, 3, 4, 4, 1, 4, 0, 0, 1, 2, 4, 4, 3, 0, 0, 0, 2, 2, 3,\n",
       "       2, 1, 0, 0, 0, 3, 1, 0, 1, 2, 1, 2, 2, 4, 3, 2, 0, 0, 1, 0, 3, 0, 0,\n",
       "       3, 1, 3, 4, 2, 3, 3, 2, 0, 4])"
      ]
     },
     "execution_count": 1,
     "metadata": {},
     "output_type": "execute_result"
    }
   ],
   "source": [
    "import numpy as np\n",
    "\n",
    "l = \"\"\"\n",
    "2 1 2 3 1 1 0 2 2 4 3 3 0 3 0 3 2 3 1 2\n",
    "2 3 0 2 3 0 2 3 3 4 4 1 4 0 0 1 2 4 4 3\n",
    "0 0 0 2 2 3 2 1 0 0 0 3 1 0 1 2 1 2 2 4\n",
    "3 2 0 0 1 0 3 0 0 3 1 3 4 2 3 3 2 0 4 \"\"\"\n",
    "a = [int(s) for s in l.split()]\n",
    "an = np.array(a)\n",
    "an"
   ]
  },
  {
   "cell_type": "markdown",
   "metadata": {},
   "source": [
    "абсолютні частоти"
   ]
  },
  {
   "cell_type": "code",
   "execution_count": 2,
   "metadata": {},
   "outputs": [
    {
     "name": "stdout",
     "output_type": "stream",
     "text": [
      "[0, 1, 2, 3, 4]\n",
      "[20, 12, 19, 19, 9]\n"
     ]
    }
   ],
   "source": [
    "import collections\n",
    "counter = collections.Counter(an)\n",
    "l_keys = list(counter.keys())\n",
    "l_values = list(counter.values()) \n",
    "print(l_keys)\n",
    "print(l_values)"
   ]
  },
  {
   "cell_type": "markdown",
   "metadata": {},
   "source": [
    "Варіаційний ряд відносних частот"
   ]
  },
  {
   "cell_type": "code",
   "execution_count": 3,
   "metadata": {},
   "outputs": [
    {
     "name": "stdout",
     "output_type": "stream",
     "text": [
      "[0, 1, 2, 3, 4]\n",
      "[20, 12, 19, 19, 9]\n",
      "[0.253, 0.152, 0.241, 0.241, 0.114]\n"
     ]
    }
   ],
   "source": [
    "print(l_keys)\n",
    "print(l_values)\n",
    "l_rel =[]\n",
    "for i in l_values:\n",
    "    l_rel.append(round(i / len(an), 3))\n",
    "print(l_rel)"
   ]
  },
  {
   "cell_type": "markdown",
   "metadata": {},
   "source": [
    "Накопичені частоти"
   ]
  },
  {
   "cell_type": "code",
   "execution_count": 4,
   "metadata": {},
   "outputs": [
    {
     "data": {
      "text/plain": [
       "array([ 0.253,  0.405,  0.646,  0.887,  1.001])"
      ]
     },
     "execution_count": 4,
     "metadata": {},
     "output_type": "execute_result"
    }
   ],
   "source": [
    "cumulative_frequencies = np.cumsum(l_rel).round(3)\n",
    "cumulative_frequencies"
   ]
  },
  {
   "cell_type": "markdown",
   "metadata": {},
   "source": [
    "Складемо другу статистичну таблицю"
   ]
  },
  {
   "cell_type": "code",
   "execution_count": 5,
   "metadata": {
    "scrolled": true
   },
   "outputs": [
    {
     "data": {
      "text/html": [
       "<div>\n",
       "<table border=\"1\" class=\"dataframe\">\n",
       "  <thead>\n",
       "    <tr style=\"text-align: right;\">\n",
       "      <th></th>\n",
       "      <th>Абсолютні частоти</th>\n",
       "      <th>Варіанта</th>\n",
       "      <th>Відносні частоти</th>\n",
       "      <th>Накопичені частоти</th>\n",
       "    </tr>\n",
       "  </thead>\n",
       "  <tbody>\n",
       "    <tr>\n",
       "      <th>0</th>\n",
       "      <td>20</td>\n",
       "      <td>0</td>\n",
       "      <td>0.253</td>\n",
       "      <td>0.253</td>\n",
       "    </tr>\n",
       "    <tr>\n",
       "      <th>1</th>\n",
       "      <td>12</td>\n",
       "      <td>1</td>\n",
       "      <td>0.152</td>\n",
       "      <td>0.405</td>\n",
       "    </tr>\n",
       "    <tr>\n",
       "      <th>2</th>\n",
       "      <td>19</td>\n",
       "      <td>2</td>\n",
       "      <td>0.241</td>\n",
       "      <td>0.646</td>\n",
       "    </tr>\n",
       "    <tr>\n",
       "      <th>3</th>\n",
       "      <td>19</td>\n",
       "      <td>3</td>\n",
       "      <td>0.241</td>\n",
       "      <td>0.887</td>\n",
       "    </tr>\n",
       "    <tr>\n",
       "      <th>4</th>\n",
       "      <td>9</td>\n",
       "      <td>4</td>\n",
       "      <td>0.114</td>\n",
       "      <td>1.001</td>\n",
       "    </tr>\n",
       "  </tbody>\n",
       "</table>\n",
       "</div>"
      ],
      "text/plain": [
       "   Абсолютні частоти  Варіанта  Відносні частоти  Накопичені частоти\n",
       "0                 20         0             0.253               0.253\n",
       "1                 12         1             0.152               0.405\n",
       "2                 19         2             0.241               0.646\n",
       "3                 19         3             0.241               0.887\n",
       "4                  9         4             0.114               1.001"
      ]
     },
     "execution_count": 5,
     "metadata": {},
     "output_type": "execute_result"
    }
   ],
   "source": [
    "l_rel = np.array(l_rel).round(3)\n",
    "import pandas as pd\n",
    "x = pd.DataFrame({'Варіанта': range(len(l_keys)), 'Абсолютні частоти': l_values,\n",
    "                  'Відносні частоти': l_rel, \n",
    "                  'Накопичені частоти': cumulative_frequencies})\n",
    "x"
   ]
  },
  {
   "cell_type": "markdown",
   "metadata": {},
   "source": [
    "$x_i * n_i$"
   ]
  },
  {
   "cell_type": "code",
   "execution_count": 6,
   "metadata": {},
   "outputs": [
    {
     "data": {
      "text/plain": [
       "array([ 0, 12, 38, 57, 36])"
      ]
     },
     "execution_count": 6,
     "metadata": {},
     "output_type": "execute_result"
    }
   ],
   "source": [
    "xi_ni = np.array(l_keys) * np.array(l_values)\n",
    "xi_ni"
   ]
  },
  {
   "cell_type": "markdown",
   "metadata": {},
   "source": [
    "$\\lambda$"
   ]
  },
  {
   "cell_type": "code",
   "execution_count": 7,
   "metadata": {},
   "outputs": [
    {
     "name": "stdout",
     "output_type": "stream",
     "text": [
      "143\n",
      "79\n"
     ]
    },
    {
     "data": {
      "text/plain": [
       "1.8101265822784811"
      ]
     },
     "execution_count": 7,
     "metadata": {},
     "output_type": "execute_result"
    }
   ],
   "source": [
    "print(xi_ni.sum())\n",
    "print(sum(l_values))\n",
    "lambdaa = xi_ni.sum() / sum(l_values)\n",
    "lambdaa"
   ]
  },
  {
   "cell_type": "markdown",
   "metadata": {},
   "source": [
    "$\\lambda_i$"
   ]
  },
  {
   "cell_type": "code",
   "execution_count": 8,
   "metadata": {},
   "outputs": [
    {
     "data": {
      "text/plain": [
       "array([  1.        ,   1.81012658,   3.27655824,   5.93098518,  10.73583393])"
      ]
     },
     "execution_count": 8,
     "metadata": {},
     "output_type": "execute_result"
    }
   ],
   "source": [
    "lambda_i = np.power(lambdaa, np.array(l_keys))\n",
    "lambda_i"
   ]
  },
  {
   "cell_type": "markdown",
   "metadata": {},
   "source": [
    "i!"
   ]
  },
  {
   "cell_type": "code",
   "execution_count": 9,
   "metadata": {},
   "outputs": [
    {
     "data": {
      "text/plain": [
       "array([ 1,  1,  2,  6, 24])"
      ]
     },
     "execution_count": 9,
     "metadata": {},
     "output_type": "execute_result"
    }
   ],
   "source": [
    "from scipy.special import factorial\n",
    "factorials = factorial(np.array(l_keys), exact=True)\n",
    "factorials"
   ]
  },
  {
   "cell_type": "markdown",
   "metadata": {},
   "source": [
    "$e^h$"
   ]
  },
  {
   "cell_type": "code",
   "execution_count": 10,
   "metadata": {},
   "outputs": [
    {
     "data": {
      "text/plain": [
       "array([ 0.16363342,  0.16363342,  0.16363342,  0.16363342,  0.16363342])"
      ]
     },
     "execution_count": 10,
     "metadata": {},
     "output_type": "execute_result"
    }
   ],
   "source": [
    "np.exp(1)\n",
    "e_h = np.power(np.full((len(l_keys)), np.exp(1)), lambdaa * -1)\n",
    "e_h"
   ]
  },
  {
   "cell_type": "markdown",
   "metadata": {},
   "source": [
    "$P_i$"
   ]
  },
  {
   "cell_type": "code",
   "execution_count": 11,
   "metadata": {},
   "outputs": [
    {
     "data": {
      "text/plain": [
       "array([ 0.16363342,  0.29619721,  0.26807722,  0.16175123,  0.07319755])"
      ]
     },
     "execution_count": 11,
     "metadata": {},
     "output_type": "execute_result"
    }
   ],
   "source": [
    "Pi = lambda_i * e_h / factorials\n",
    "Pi"
   ]
  },
  {
   "cell_type": "markdown",
   "metadata": {},
   "source": [
    "Ni`=Ni*Pi"
   ]
  },
  {
   "cell_type": "code",
   "execution_count": 12,
   "metadata": {},
   "outputs": [
    {
     "name": "stderr",
     "output_type": "stream",
     "text": [
      "/usr/local/lib/python3.5/dist-packages/numpy/core/numeric.py:301: FutureWarning: in the future, full(5, array(79)) will return an array of dtype('int64')\n",
      "  format(shape, fill_value, array(fill_value).dtype), FutureWarning)\n"
     ]
    },
    {
     "data": {
      "text/plain": [
       "array([ 12.92704037,  23.3995794 ,  21.17810035,  12.77834747,   5.78260661])"
      ]
     },
     "execution_count": 12,
     "metadata": {},
     "output_type": "execute_result"
    }
   ],
   "source": [
    "Ni = np.full((len(l_keys)), np.array(sum(l_values))) * Pi\n",
    "Ni"
   ]
  },
  {
   "cell_type": "markdown",
   "metadata": {},
   "source": [
    "Ni-Ni`"
   ]
  },
  {
   "cell_type": "code",
   "execution_count": 13,
   "metadata": {},
   "outputs": [
    {
     "data": {
      "text/plain": [
       "array([  7.07295963, -11.3995794 ,  -2.17810035,   6.22165253,   3.21739339])"
      ]
     },
     "execution_count": 13,
     "metadata": {},
     "output_type": "execute_result"
    }
   ],
   "source": [
    "abs_Ni = np.array(l_values) - Ni\n",
    "abs_Ni"
   ]
  },
  {
   "cell_type": "markdown",
   "metadata": {},
   "source": [
    "Ni-Ni`*Ni-Ni`"
   ]
  },
  {
   "cell_type": "code",
   "execution_count": 14,
   "metadata": {},
   "outputs": [
    {
     "data": {
      "text/plain": [
       "array([  50.02675793,  129.95041057,    4.74412112,   38.70896025,\n",
       "         10.35162025])"
      ]
     },
     "execution_count": 14,
     "metadata": {},
     "output_type": "execute_result"
    }
   ],
   "source": [
    "abs_Ni_2 = abs_Ni * abs_Ni\n",
    "abs_Ni_2"
   ]
  },
  {
   "cell_type": "markdown",
   "metadata": {},
   "source": [
    "Ni-Ni`*Ni-Ni`/n`i"
   ]
  },
  {
   "cell_type": "code",
   "execution_count": 15,
   "metadata": {},
   "outputs": [
    {
     "data": {
      "text/plain": [
       "array([ 3.86993128,  5.55353617,  0.2240107 ,  3.02926183,  1.79013046])"
      ]
     },
     "execution_count": 15,
     "metadata": {},
     "output_type": "execute_result"
    }
   ],
   "source": [
    "abs_Ni_2_Ni = abs_Ni_2 / Ni\n",
    "abs_Ni_2_Ni"
   ]
  },
  {
   "cell_type": "code",
   "execution_count": 16,
   "metadata": {},
   "outputs": [
    {
     "data": {
      "text/plain": [
       "14.46687045094485"
      ]
     },
     "execution_count": 16,
     "metadata": {},
     "output_type": "execute_result"
    }
   ],
   "source": [
    "abs_Ni_2_Ni.sum()"
   ]
  },
  {
   "cell_type": "code",
   "execution_count": 17,
   "metadata": {},
   "outputs": [
    {
     "data": {
      "text/plain": [
       "6.2334352254724248"
      ]
     },
     "execution_count": 17,
     "metadata": {},
     "output_type": "execute_result"
    }
   ],
   "source": [
    "import math\n",
    "(abs_Ni_2_Ni.sum() - 2) / math.sqrt(2 * 2)"
   ]
  },
  {
   "cell_type": "markdown",
   "metadata": {},
   "source": [
    "Вторинна таблиця розподілу: "
   ]
  },
  {
   "cell_type": "code",
   "execution_count": 18,
   "metadata": {},
   "outputs": [
    {
     "data": {
      "text/html": [
       "<div>\n",
       "<table border=\"1\" class=\"dataframe\">\n",
       "  <thead>\n",
       "    <tr style=\"text-align: right;\">\n",
       "      <th></th>\n",
       "      <th>$N_i*P_i$</th>\n",
       "      <th>$P_i$</th>\n",
       "      <th>$\\lambda^i$</th>\n",
       "      <th>$e^h$</th>\n",
       "      <th>$x_i * n_i$</th>\n",
       "      <th>Ni-Ni`</th>\n",
       "      <th>Ni-Ni`*Ni-Ni`</th>\n",
       "      <th>Ni-Ni`*Ni-Ni`/n`i</th>\n",
       "      <th>i!</th>\n",
       "      <th>Варіанта</th>\n",
       "    </tr>\n",
       "  </thead>\n",
       "  <tbody>\n",
       "    <tr>\n",
       "      <th>0</th>\n",
       "      <td>12.927040</td>\n",
       "      <td>0.163633</td>\n",
       "      <td>1.000000</td>\n",
       "      <td>0.163633</td>\n",
       "      <td>0</td>\n",
       "      <td>7.072960</td>\n",
       "      <td>50.026758</td>\n",
       "      <td>3.869931</td>\n",
       "      <td>1</td>\n",
       "      <td>0</td>\n",
       "    </tr>\n",
       "    <tr>\n",
       "      <th>1</th>\n",
       "      <td>23.399579</td>\n",
       "      <td>0.296197</td>\n",
       "      <td>1.810127</td>\n",
       "      <td>0.163633</td>\n",
       "      <td>12</td>\n",
       "      <td>-11.399579</td>\n",
       "      <td>129.950411</td>\n",
       "      <td>5.553536</td>\n",
       "      <td>1</td>\n",
       "      <td>1</td>\n",
       "    </tr>\n",
       "    <tr>\n",
       "      <th>2</th>\n",
       "      <td>21.178100</td>\n",
       "      <td>0.268077</td>\n",
       "      <td>3.276558</td>\n",
       "      <td>0.163633</td>\n",
       "      <td>38</td>\n",
       "      <td>-2.178100</td>\n",
       "      <td>4.744121</td>\n",
       "      <td>0.224011</td>\n",
       "      <td>2</td>\n",
       "      <td>2</td>\n",
       "    </tr>\n",
       "    <tr>\n",
       "      <th>3</th>\n",
       "      <td>12.778347</td>\n",
       "      <td>0.161751</td>\n",
       "      <td>5.930985</td>\n",
       "      <td>0.163633</td>\n",
       "      <td>57</td>\n",
       "      <td>6.221653</td>\n",
       "      <td>38.708960</td>\n",
       "      <td>3.029262</td>\n",
       "      <td>6</td>\n",
       "      <td>3</td>\n",
       "    </tr>\n",
       "    <tr>\n",
       "      <th>4</th>\n",
       "      <td>5.782607</td>\n",
       "      <td>0.073198</td>\n",
       "      <td>10.735834</td>\n",
       "      <td>0.163633</td>\n",
       "      <td>36</td>\n",
       "      <td>3.217393</td>\n",
       "      <td>10.351620</td>\n",
       "      <td>1.790130</td>\n",
       "      <td>24</td>\n",
       "      <td>4</td>\n",
       "    </tr>\n",
       "  </tbody>\n",
       "</table>\n",
       "</div>"
      ],
      "text/plain": [
       "   $N_i*P_i$     $P_i$  $\\lambda^i$     $e^h$  $x_i * n_i$     Ni-Ni`  \\\n",
       "0  12.927040  0.163633     1.000000  0.163633            0   7.072960   \n",
       "1  23.399579  0.296197     1.810127  0.163633           12 -11.399579   \n",
       "2  21.178100  0.268077     3.276558  0.163633           38  -2.178100   \n",
       "3  12.778347  0.161751     5.930985  0.163633           57   6.221653   \n",
       "4   5.782607  0.073198    10.735834  0.163633           36   3.217393   \n",
       "\n",
       "   Ni-Ni`*Ni-Ni`  Ni-Ni`*Ni-Ni`/n`i  i!  Варіанта  \n",
       "0      50.026758           3.869931   1         0  \n",
       "1     129.950411           5.553536   1         1  \n",
       "2       4.744121           0.224011   2         2  \n",
       "3      38.708960           3.029262   6         3  \n",
       "4      10.351620           1.790130  24         4  "
      ]
     },
     "execution_count": 18,
     "metadata": {},
     "output_type": "execute_result"
    }
   ],
   "source": [
    "x = pd.DataFrame({'Варіанта': range(len(l_keys)), '$x_i * n_i$': xi_ni, '$\\lambda^i$': lambda_i, \n",
    "                  'i!': factorials, '$e^h$': e_h, '$P_i$': Pi, \"$N_i*P_i$\": Ni,\n",
    "                  \"Ni-Ni`\": abs_Ni, \"Ni-Ni`*Ni-Ni`\": abs_Ni_2, \"Ni-Ni`*Ni-Ni`/n`i\": abs_Ni_2_Ni})\n",
    "x"
   ]
  },
  {
   "cell_type": "code",
   "execution_count": 20,
   "metadata": {},
   "outputs": [
    {
     "data": {
      "image/png": "[encoded data removed]",
      "text/plain": [
       "<matplotlib.figure.Figure at 0x7f18f12050b8>"
      ]
     },
     "metadata": {},
     "output_type": "display_data"
    }
   ],
   "source": [
    "import matplotlib.pyplot as plt\n",
    "plt.rcParams['figure.figsize'] = 10, 5\n",
    "plt.xlim(0, len(l_keys) - 1)\n",
    "plt.ylim(0, max(Ni) + 5)\n",
    "plt.plot(l_keys, l_values)\n",
    "plt.plot(l_keys, Ni)\n",
    "plt.show()"
   ]
  }
 ],
 "metadata": {
  "kernelspec": {
   "display_name": "Python 3",
   "language": "python",
   "name": "python3"
  },
  "language_info": {
   "codemirror_mode": {
    "name": "ipython",
    "version": 3
   },
   "file_extension": ".py",
   "mimetype": "text/x-python",
   "name": "python",
   "nbconvert_exporter": "python",
   "pygments_lexer": "ipython3",
   "version": "3.5.2"
  }
 },
 "nbformat": 4,
 "nbformat_minor": 2
}
