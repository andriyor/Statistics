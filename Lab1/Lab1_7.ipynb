{
 "cells": [
  {
   "cell_type": "markdown",
   "metadata": {},
   "source": [
    "# Лабораторна робота 1"
   ]
  },
  {
   "cell_type": "markdown",
   "metadata": {},
   "source": [
    "З генеральної сукупності взято вибірку:"
   ]
  },
  {
   "cell_type": "code",
   "execution_count": 1,
   "metadata": {},
   "outputs": [
    {
     "data": {
      "text/plain": [
       "array([2, 2, 1, 3, 4, 2, 1, 1, 3, 3, 4, 3, 2, 4, 2, 1, 4, 3, 1, 4, 0, 4, 2,\n",
       "       3, 4, 3, 7, 1, 3, 3, 3, 4, 3, 2, 1, 2, 3, 3, 1, 5, 3, 0, 2, 1, 2, 3,\n",
       "       0, 0, 3, 6, 2, 4, 3, 4, 2, 4, 1, 2, 0, 3, 1, 0, 0, 2])"
      ]
     },
     "execution_count": 1,
     "metadata": {},
     "output_type": "execute_result"
    }
   ],
   "source": [
    "import numpy as np\n",
    "\n",
    "l = \"\"\"2 2 1 3 4 2 1 1 3 3 4 3 2 4 2 1 4 3 1 4 \n",
    "       0 4 2 3 4 3 7 1 3 3 3 4 3 2 1 2 3 3 1 5\n",
    "       3 0 2 1 2 3 0 0 3 6 2 4 3 4 2 4 1 2 0 3\n",
    "       1 0 0 2\"\"\"\n",
    "a = [int(s) for s in l.split()]\n",
    "an = np.array(a)\n",
    "an"
   ]
  },
  {
   "cell_type": "markdown",
   "metadata": {},
   "source": [
    "Сумма генеральної сукупності"
   ]
  },
  {
   "cell_type": "code",
   "execution_count": 2,
   "metadata": {},
   "outputs": [
    {
     "data": {
      "text/plain": [
       "155"
      ]
     },
     "execution_count": 2,
     "metadata": {},
     "output_type": "execute_result"
    }
   ],
   "source": [
    "an.sum()"
   ]
  },
  {
   "cell_type": "code",
   "execution_count": 3,
   "metadata": {},
   "outputs": [
    {
     "data": {
      "text/plain": [
       "155"
      ]
     },
     "execution_count": 3,
     "metadata": {},
     "output_type": "execute_result"
    }
   ],
   "source": [
    "sum(a)"
   ]
  },
  {
   "cell_type": "markdown",
   "metadata": {},
   "source": [
    "1) Запишемо варіаційний ряд"
   ]
  },
  {
   "cell_type": "markdown",
   "metadata": {},
   "source": [
    "абсолютні частоти"
   ]
  },
  {
   "cell_type": "code",
   "execution_count": 4,
   "metadata": {},
   "outputs": [
    {
     "name": "stdout",
     "output_type": "stream",
     "text": [
      "[0, 1, 2, 3, 4, 5, 6, 7]\n",
      "[7, 11, 14, 18, 11, 1, 1, 1]\n"
     ]
    }
   ],
   "source": [
    "import collections\n",
    "counter = collections.Counter(an)\n",
    "l_keys = list(counter.keys())\n",
    "l_values = list(counter.values()) \n",
    "print(l_keys)\n",
    "print(l_values)"
   ]
  },
  {
   "cell_type": "code",
   "execution_count": 5,
   "metadata": {},
   "outputs": [
    {
     "name": "stdout",
     "output_type": "stream",
     "text": [
      "[0 1 2 3 4 5 6 7]\n",
      "[ 7 11 14  0 18 11  0  1  1  1]\n"
     ]
    }
   ],
   "source": [
    "hist, bin_edges = np.histogram(an)\n",
    "print(np.unique(an))\n",
    "print(hist)"
   ]
  },
  {
   "cell_type": "code",
   "execution_count": 6,
   "metadata": {},
   "outputs": [
    {
     "name": "stdout",
     "output_type": "stream",
     "text": [
      "[0, 1, 2, 3, 4, 5, 6, 7]\n",
      "[7, 11, 14, 18, 11, 1, 1, 1]\n"
     ]
    }
   ],
   "source": [
    "ls = []\n",
    "print(list(set(an)))\n",
    "for j in list(set(an)):\n",
    "    ls.append(np.count_nonzero(an == j))\n",
    "print(ls)"
   ]
  },
  {
   "cell_type": "code",
   "execution_count": 7,
   "metadata": {},
   "outputs": [
    {
     "name": "stdout",
     "output_type": "stream",
     "text": [
      "{0: 7, 1: 11, 2: 14, 3: 18, 4: 11, 5: 1, 6: 1, 7: 1}\n",
      "[0, 1, 2, 3, 4, 5, 6, 7]\n",
      "[7, 11, 14, 18, 11, 1, 1, 1]\n"
     ]
    }
   ],
   "source": [
    "from itertools import groupby\n",
    "freq = {key:len(list(group)) for key, group in groupby(np.sort(an))}\n",
    "print(freq)\n",
    "print(list(freq.keys()))\n",
    "print(list(freq.values()))"
   ]
  },
  {
   "cell_type": "markdown",
   "metadata": {},
   "source": [
    "2) Обчислимо моду"
   ]
  },
  {
   "cell_type": "code",
   "execution_count": 8,
   "metadata": {},
   "outputs": [
    {
     "data": {
      "text/plain": [
       "3"
      ]
     },
     "execution_count": 8,
     "metadata": {},
     "output_type": "execute_result"
    }
   ],
   "source": [
    "from statistics import mode\n",
    "mode(an)"
   ]
  },
  {
   "cell_type": "code",
   "execution_count": 9,
   "metadata": {},
   "outputs": [
    {
     "name": "stdout",
     "output_type": "stream",
     "text": [
      "[3]\n"
     ]
    }
   ],
   "source": [
    "repeticiones = 0\n",
    "for i in a:\n",
    "    apariciones = a.count(i)\n",
    "    if apariciones > repeticiones:\n",
    "        repeticiones = apariciones\n",
    "\n",
    "modas = []\n",
    "for i in a:\n",
    "    apariciones = a.count(i)\n",
    "    if apariciones == repeticiones and i not in modas:\n",
    "        modas.append(i)\n",
    "\n",
    "print(modas)"
   ]
  },
  {
   "cell_type": "code",
   "execution_count": 10,
   "metadata": {},
   "outputs": [
    {
     "name": "stdout",
     "output_type": "stream",
     "text": [
      "3\n"
     ]
    }
   ],
   "source": [
    "counts = np.bincount(an)\n",
    "print(np.argmax(counts))"
   ]
  },
  {
   "cell_type": "markdown",
   "metadata": {},
   "source": [
    "Медіана"
   ]
  },
  {
   "cell_type": "code",
   "execution_count": 11,
   "metadata": {},
   "outputs": [
    {
     "name": "stdout",
     "output_type": "stream",
     "text": [
      "2.5\n",
      "2.5\n"
     ]
    }
   ],
   "source": [
    "from statistics import median\n",
    "print(np.median(an))\n",
    "print(median(an))"
   ]
  },
  {
   "cell_type": "markdown",
   "metadata": {},
   "source": [
    "Варіаційний ряд відносних частот"
   ]
  },
  {
   "cell_type": "code",
   "execution_count": 12,
   "metadata": {},
   "outputs": [
    {
     "name": "stdout",
     "output_type": "stream",
     "text": [
      "[0, 1, 2, 3, 4, 5, 6, 7]\n",
      "[7, 11, 14, 18, 11, 1, 1, 1]\n",
      "[0.109, 0.172, 0.219, 0.281, 0.172, 0.016, 0.016, 0.016]\n"
     ]
    }
   ],
   "source": [
    "print(l_keys)\n",
    "print(l_values)\n",
    "l_rel =[]\n",
    "for i in l_values:\n",
    "    l_rel.append(round(i / len(an), 3))\n",
    "print(l_rel)"
   ]
  },
  {
   "cell_type": "code",
   "execution_count": 13,
   "metadata": {},
   "outputs": [
    {
     "name": "stdout",
     "output_type": "stream",
     "text": [
      "[0, 1, 2, 3, 4, 5, 6, 7]\n",
      "[7, 11, 14, 18, 11, 1, 1, 1]\n",
      "[ 0.109375  0.171875  0.21875   0.28125   0.171875  0.015625  0.015625\n",
      "  0.015625]\n"
     ]
    }
   ],
   "source": [
    "print(l_keys)\n",
    "print(l_values)\n",
    "l_rel =[]\n",
    "for i in l_values:\n",
    "    l_rel.append(i / len(a))\n",
    "print(np.array(l_rel))"
   ]
  },
  {
   "cell_type": "markdown",
   "metadata": {},
   "source": [
    "Гістограма та полігон абсолютних частот"
   ]
  },
  {
   "cell_type": "code",
   "execution_count": 14,
   "metadata": {},
   "outputs": [
    {
     "data": {
      "image/png": "[encoded data removed]",
      "text/plain": [
       "<matplotlib.figure.Figure at 0x7fdaa80905f8>"
      ]
     },
     "metadata": {},
     "output_type": "display_data"
    }
   ],
   "source": [
    "import matplotlib.pyplot as plt\n",
    "width = 1\n",
    "plt.bar(list(counter), l_values, width)\n",
    "plt.xticks(np.arange(len(l_keys)) + width * 0.5, l_keys)\n",
    "plt.show()"
   ]
  },
  {
   "cell_type": "code",
   "execution_count": 15,
   "metadata": {},
   "outputs": [
    {
     "data": {
      "image/png": "[encoded data removed]",
      "text/plain": [
       "<matplotlib.figure.Figure at 0x7fda8e395b70>"
      ]
     },
     "metadata": {},
     "output_type": "display_data"
    }
   ],
   "source": [
    "from collections import Counter\n",
    "labels, values = zip(*Counter(a).items())\n",
    "indexes = np.arange(len(labels))\n",
    "width = 1\n",
    "plt.grid(True)\n",
    "plt.bar(indexes, values, width)\n",
    "plt.xticks(indexes + width * 0.5, labels)\n",
    "plt.show()"
   ]
  },
  {
   "cell_type": "code",
   "execution_count": 16,
   "metadata": {},
   "outputs": [
    {
     "data": {
      "image/png": "[encoded data removed]",
      "text/plain": [
       "<matplotlib.figure.Figure at 0x7fdaa8090f28>"
      ]
     },
     "metadata": {},
     "output_type": "display_data"
    }
   ],
   "source": [
    "plt.plot(list(counter.keys()), values)\n",
    "plt.show()"
   ]
  },
  {
   "cell_type": "code",
   "execution_count": 17,
   "metadata": {},
   "outputs": [
    {
     "data": {
      "text/html": [
       "<script>requirejs.config({paths: { 'plotly': ['https://cdn.plot.ly/plotly-latest.min']},});if(!window.Plotly) {{require(['plotly'],function(plotly) {window.Plotly=plotly;});}}</script>"
      ],
      "text/plain": [
       "<IPython.core.display.HTML object>"
      ]
     },
     "metadata": {},
     "output_type": "display_data"
    },
    {
     "data": {
      "application/vnd.plotly.v1+json": {
       "data": [
        {
         "x": [
          0,
          1,
          2,
          3,
          4,
          5,
          6,
          7
         ],
         "y": [
          7,
          11,
          14,
          18,
          11,
          1,
          1,
          1
         ]
        }
       ],
       "layout": {}
      },
      "text/html": [
       "<div id=\"d3bc2798-95e2-4d29-9205-04c0e8556b11\" style=\"height: 525px; width: 100%;\" class=\"plotly-graph-div\"></div><script type=\"text/javascript\">require([\"plotly\"], function(Plotly) { window.PLOTLYENV=window.PLOTLYENV || {};window.PLOTLYENV.BASE_URL=\"https://plot.ly\";Plotly.newPlot(\"d3bc2798-95e2-4d29-9205-04c0e8556b11\", [{\"x\": [0, 1, 2, 3, 4, 5, 6, 7], \"y\": [7, 11, 14, 18, 11, 1, 1, 1]}], {}, {\"showLink\": true, \"linkText\": \"Export to plot.ly\"})});</script>"
      ]
     },
     "metadata": {},
     "output_type": "display_data"
    }
   ],
   "source": [
    "from plotly.offline import init_notebook_mode, iplot\n",
    "init_notebook_mode(connected=True)\n",
    "iplot([{\"x\": list(counter), \"y\": l_values}])"
   ]
  },
  {
   "cell_type": "markdown",
   "metadata": {},
   "source": [
    "Гістограма та полігон відносних частот"
   ]
  },
  {
   "cell_type": "code",
   "execution_count": 18,
   "metadata": {},
   "outputs": [
    {
     "data": {
      "image/png": "[encoded data removed]",
      "text/plain": [
       "<matplotlib.figure.Figure at 0x7fda8e29dbe0>"
      ]
     },
     "metadata": {},
     "output_type": "display_data"
    }
   ],
   "source": [
    "plt.bar(list(counter), l_rel, width)\n",
    "plt.xticks(np.arange(len(l_keys)) + width * 0.5, l_keys)\n",
    "plt.show()"
   ]
  },
  {
   "cell_type": "code",
   "execution_count": 19,
   "metadata": {},
   "outputs": [
    {
     "data": {
      "image/png": "[encoded data removed]",
      "text/plain": [
       "<matplotlib.figure.Figure at 0x7fda8e2af550>"
      ]
     },
     "metadata": {},
     "output_type": "display_data"
    }
   ],
   "source": [
    "plt.plot(list(counter.keys()), l_rel)\n",
    "plt.show()"
   ]
  },
  {
   "cell_type": "code",
   "execution_count": 20,
   "metadata": {},
   "outputs": [
    {
     "data": {
      "text/html": [
       "<script>requirejs.config({paths: { 'plotly': ['https://cdn.plot.ly/plotly-latest.min']},});if(!window.Plotly) {{require(['plotly'],function(plotly) {window.Plotly=plotly;});}}</script>"
      ],
      "text/plain": [
       "<IPython.core.display.HTML object>"
      ]
     },
     "metadata": {},
     "output_type": "display_data"
    },
    {
     "data": {
      "application/vnd.plotly.v1+json": {
       "data": [
        {
         "x": [
          0,
          1,
          2,
          3,
          4,
          5,
          6,
          7
         ],
         "y": [
          0.109375,
          0.171875,
          0.21875,
          0.28125,
          0.171875,
          0.015625,
          0.015625,
          0.015625
         ]
        }
       ],
       "layout": {}
      },
      "text/html": [
       "<div id=\"bc12cafd-121e-4679-8b69-cf75e455115b\" style=\"height: 525px; width: 100%;\" class=\"plotly-graph-div\"></div><script type=\"text/javascript\">require([\"plotly\"], function(Plotly) { window.PLOTLYENV=window.PLOTLYENV || {};window.PLOTLYENV.BASE_URL=\"https://plot.ly\";Plotly.newPlot(\"bc12cafd-121e-4679-8b69-cf75e455115b\", [{\"x\": [0, 1, 2, 3, 4, 5, 6, 7], \"y\": [0.109375, 0.171875, 0.21875, 0.28125, 0.171875, 0.015625, 0.015625, 0.015625]}], {}, {\"showLink\": true, \"linkText\": \"Export to plot.ly\"})});</script>"
      ]
     },
     "metadata": {},
     "output_type": "display_data"
    }
   ],
   "source": [
    "init_notebook_mode(connected=True)\n",
    "iplot([{\"x\": list(counter.keys()), \"y\": l_rel}])"
   ]
  },
  {
   "cell_type": "markdown",
   "metadata": {},
   "source": [
    "4.1) Вибіркове середнє є незміщеною оцінкою генерального середнього і обчислюються за формулою.\n",
    "Sample mean and covariance"
   ]
  },
  {
   "cell_type": "code",
   "execution_count": 21,
   "metadata": {},
   "outputs": [
    {
     "name": "stdout",
     "output_type": "stream",
     "text": [
      "2.421875\n",
      "2.421875\n"
     ]
    }
   ],
   "source": [
    "from statistics import mean\n",
    "print(mean(a))\n",
    "print(np.mean(an))"
   ]
  },
  {
   "cell_type": "markdown",
   "metadata": {},
   "source": [
    "4.2) Знайдемо незміщену оцінку генеральної дисперсії та середнього квадратичного відхилення:\n",
    "\n",
    "sample variance"
   ]
  },
  {
   "cell_type": "code",
   "execution_count": 22,
   "metadata": {},
   "outputs": [
    {
     "name": "stdout",
     "output_type": "stream",
     "text": [
      "2.2160218253968256\n",
      "2.216021825396825\n"
     ]
    }
   ],
   "source": [
    "from statistics import variance\n",
    "print(variance((a)))\n",
    "print(np.cov(an))"
   ]
  },
  {
   "cell_type": "markdown",
   "metadata": {},
   "source": [
    "Знайдемо середнє відхилення.\n",
    "\n",
    "\n",
    "mean absolute deviation MAD"
   ]
  },
  {
   "cell_type": "code",
   "execution_count": 23,
   "metadata": {},
   "outputs": [
    {
     "data": {
      "text/plain": [
       "1.203125"
      ]
     },
     "execution_count": 23,
     "metadata": {},
     "output_type": "execute_result"
    }
   ],
   "source": [
    "n = float(len(an))\n",
    "mean = sum(an) / n\n",
    "diff = [abs(x - mean) for x in an]\n",
    "sum(diff) / n"
   ]
  },
  {
   "cell_type": "markdown",
   "metadata": {},
   "source": [
    "sqrt(Db)"
   ]
  },
  {
   "cell_type": "code",
   "execution_count": 24,
   "metadata": {},
   "outputs": [
    {
     "name": "stdout",
     "output_type": "stream",
     "text": [
      "1.4769551395946323\n",
      "1.4769551395946323\n"
     ]
    }
   ],
   "source": [
    "from statistics import pvariance\n",
    "from math import sqrt\n",
    "print(sqrt(pvariance((a))))\n",
    "print(sqrt(np.var(an)))"
   ]
  },
  {
   "cell_type": "markdown",
   "metadata": {},
   "source": [
    "Знайдемо коефіцієнт варіації V \n",
    "\n",
    "Statistical dispersion"
   ]
  },
  {
   "cell_type": "code",
   "execution_count": 25,
   "metadata": {
    "scrolled": true
   },
   "outputs": [
    {
     "name": "stdout",
     "output_type": "stream",
     "text": [
      "0.60983954151\n"
     ]
    }
   ],
   "source": [
    "print((sqrt(np.var(an)) / np.mean(an)) )"
   ]
  },
  {
   "cell_type": "markdown",
   "metadata": {},
   "source": [
    "Накопичені частоти сортовані"
   ]
  },
  {
   "cell_type": "code",
   "execution_count": 26,
   "metadata": {},
   "outputs": [
    {
     "name": "stdout",
     "output_type": "stream",
     "text": [
      "[0.109375, 0.171875, 0.21875, 0.28125, 0.171875, 0.015625, 0.015625, 0.015625]\n"
     ]
    }
   ],
   "source": [
    "ls = []\n",
    "print(l_rel)\n",
    "for i in range(len(l_rel)):\n",
    "    ls.append(sum(l_rel[i:len(l_rel)]))\n",
    "ls.reverse()"
   ]
  },
  {
   "cell_type": "markdown",
   "metadata": {
    "collapsed": true
   },
   "source": [
    "Накопичені частоти"
   ]
  },
  {
   "cell_type": "code",
   "execution_count": 27,
   "metadata": {},
   "outputs": [
    {
     "data": {
      "text/plain": [
       "array([ 0.109,  0.281,  0.5  ,  0.781,  0.953,  0.969,  0.984,  1.   ])"
      ]
     },
     "execution_count": 27,
     "metadata": {},
     "output_type": "execute_result"
    }
   ],
   "source": [
    "cumulative_frequencies = np.cumsum(l_rel).round(3)\n",
    "cumulative_frequencies"
   ]
  },
  {
   "cell_type": "markdown",
   "metadata": {},
   "source": [
    "Складемо другу статистичну таблицю"
   ]
  },
  {
   "cell_type": "code",
   "execution_count": 28,
   "metadata": {},
   "outputs": [
    {
     "data": {
      "text/html": [
       "<div>\n",
       "<table border=\"1\" class=\"dataframe\">\n",
       "  <thead>\n",
       "    <tr style=\"text-align: right;\">\n",
       "      <th></th>\n",
       "      <th>Абсолютні частоти</th>\n",
       "      <th>Варіанта</th>\n",
       "      <th>Відносні частоти</th>\n",
       "      <th>Накопичені частоти</th>\n",
       "    </tr>\n",
       "  </thead>\n",
       "  <tbody>\n",
       "    <tr>\n",
       "      <th>0</th>\n",
       "      <td>7</td>\n",
       "      <td>0</td>\n",
       "      <td>0.109</td>\n",
       "      <td>0.109</td>\n",
       "    </tr>\n",
       "    <tr>\n",
       "      <th>1</th>\n",
       "      <td>11</td>\n",
       "      <td>1</td>\n",
       "      <td>0.172</td>\n",
       "      <td>0.281</td>\n",
       "    </tr>\n",
       "    <tr>\n",
       "      <th>2</th>\n",
       "      <td>14</td>\n",
       "      <td>2</td>\n",
       "      <td>0.219</td>\n",
       "      <td>0.500</td>\n",
       "    </tr>\n",
       "    <tr>\n",
       "      <th>3</th>\n",
       "      <td>18</td>\n",
       "      <td>3</td>\n",
       "      <td>0.281</td>\n",
       "      <td>0.781</td>\n",
       "    </tr>\n",
       "    <tr>\n",
       "      <th>4</th>\n",
       "      <td>11</td>\n",
       "      <td>4</td>\n",
       "      <td>0.172</td>\n",
       "      <td>0.953</td>\n",
       "    </tr>\n",
       "    <tr>\n",
       "      <th>5</th>\n",
       "      <td>1</td>\n",
       "      <td>5</td>\n",
       "      <td>0.016</td>\n",
       "      <td>0.969</td>\n",
       "    </tr>\n",
       "    <tr>\n",
       "      <th>6</th>\n",
       "      <td>1</td>\n",
       "      <td>6</td>\n",
       "      <td>0.016</td>\n",
       "      <td>0.984</td>\n",
       "    </tr>\n",
       "    <tr>\n",
       "      <th>7</th>\n",
       "      <td>1</td>\n",
       "      <td>7</td>\n",
       "      <td>0.016</td>\n",
       "      <td>1.000</td>\n",
       "    </tr>\n",
       "  </tbody>\n",
       "</table>\n",
       "</div>"
      ],
      "text/plain": [
       "   Абсолютні частоти  Варіанта  Відносні частоти  Накопичені частоти\n",
       "0                  7         0             0.109               0.109\n",
       "1                 11         1             0.172               0.281\n",
       "2                 14         2             0.219               0.500\n",
       "3                 18         3             0.281               0.781\n",
       "4                 11         4             0.172               0.953\n",
       "5                  1         5             0.016               0.969\n",
       "6                  1         6             0.016               0.984\n",
       "7                  1         7             0.016               1.000"
      ]
     },
     "execution_count": 28,
     "metadata": {},
     "output_type": "execute_result"
    }
   ],
   "source": [
    "l_rel = np.array(l_rel).round(3)\n",
    "import pandas as pd\n",
    "x = pd.DataFrame({'Варіанта': range(len(l_keys)), 'Абсолютні частоти': list(counter.values()),\n",
    "                  'Відносні частоти': l_rel, \n",
    "                  'Накопичені частоти': cumulative_frequencies})\n",
    "x"
   ]
  }
 ],
 "metadata": {
  "anaconda-cloud": {},
  "kernelspec": {
   "display_name": "Python 3",
   "language": "python",
   "name": "python3"
  },
  "language_info": {
   "codemirror_mode": {
    "name": "ipython",
    "version": 3
   },
   "file_extension": ".py",
   "mimetype": "text/x-python",
   "name": "python",
   "nbconvert_exporter": "python",
   "pygments_lexer": "ipython3",
   "version": "3.5.2"
  }
 },
 "nbformat": 4,
 "nbformat_minor": 1
}
